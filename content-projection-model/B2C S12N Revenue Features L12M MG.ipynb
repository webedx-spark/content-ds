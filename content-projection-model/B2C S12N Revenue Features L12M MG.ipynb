{
 "cells": [
  {
   "cell_type": "markdown",
   "metadata": {
    "application/vnd.databricks.v1+cell": {
     "cellMetadata": {
      "byteLimit": 2048000,
      "rowLimit": 10000
     },
     "inputWidgets": {},
     "nuid": "b10f056f-ea23-4f1e-b8a7-878475b1818b",
     "showTitle": false,
     "tableResultSettingsMap": {},
     "title": ""
    }
   },
   "source": [
    "# Content Revenue table rolling L12M"
   ]
  },
  {
   "cell_type": "code",
   "execution_count": 0,
   "metadata": {
    "application/vnd.databricks.v1+cell": {
     "cellMetadata": {
      "byteLimit": 2048000,
      "rowLimit": 10000
     },
     "inputWidgets": {},
     "nuid": "514349fd-3164-4a8d-ab5e-9689ab114aeb",
     "showTitle": false,
     "tableResultSettingsMap": {},
     "title": ""
    }
   },
   "outputs": [
    {
     "output_type": "display_data",
     "data": {
      "text/html": [
       "<style scoped>\n",
       "  .table-result-container {\n",
       "    max-height: 300px;\n",
       "    overflow: auto;\n",
       "  }\n",
       "  table, th, td {\n",
       "    border: 1px solid black;\n",
       "    border-collapse: collapse;\n",
       "  }\n",
       "  th, td {\n",
       "    padding: 5px;\n",
       "  }\n",
       "  th {\n",
       "    text-align: left;\n",
       "  }\n",
       "</style><div class='table-result-container'><table class='table-result'><thead style='background-color: white'><tr><th>num_affected_rows</th><th>num_inserted_rows</th></tr></thead><tbody></tbody></table></div>"
      ]
     },
     "metadata": {
      "application/vnd.databricks.v1+output": {
       "addedWidgets": {},
       "aggData": [],
       "aggError": "",
       "aggOverflow": false,
       "aggSchema": [],
       "aggSeriesLimitReached": false,
       "aggType": "",
       "arguments": {},
       "columnCustomDisplayInfos": {},
       "data": [],
       "datasetInfos": [],
       "dbfsResultPath": null,
       "isJsonSchema": true,
       "metadata": {},
       "overflow": false,
       "plotOptions": {
        "customPlotOptions": {},
        "displayType": "table",
        "pivotAggregation": null,
        "pivotColumns": null,
        "xColumns": null,
        "yColumns": null
       },
       "removedWidgets": [],
       "schema": [
        {
         "metadata": "{}",
         "name": "num_affected_rows",
         "type": "\"long\""
        },
        {
         "metadata": "{}",
         "name": "num_inserted_rows",
         "type": "\"long\""
        }
       ],
       "type": "table"
      }
     },
     "output_type": "display_data"
    }
   ],
   "source": [
    "%sql\n",
    "create or replace table dev.bi.content_rolling_rev_rec_last12M_mgtv AS\n",
    "with content_agg (select rev_rec_month_start_dt as dt_month\n",
    "                  ,attributed_content_item_id as content_id\n",
    "                  ,sum(rev_rec_amount_usd_estimate) as rev_rec_amount\n",
    "                  from prod.gold_base_restricted.estimated_combined_revenue_recognition \n",
    "                  WHERE date(rev_rec_month_start_dt) < to_date(date_trunc('month',current_date))\n",
    "                  group by 1,2)\n",
    "select dt_month,content_id,rev_rec_amount,\n",
    "    SUM(rev_rec_amount)  OVER (PARTITION BY content_id ORDER BY dt_month ROWS BETWEEN 12 PRECEDING AND 1 PRECEDING) AS rolling_n12m_rev_rec\n",
    "from content_agg"
   ]
  },
  {
   "cell_type": "markdown",
   "metadata": {
    "application/vnd.databricks.v1+cell": {
     "cellMetadata": {
      "byteLimit": 2048000,
      "rowLimit": 10000
     },
     "inputWidgets": {},
     "nuid": "133ed27f-cc2a-477d-b6f8-21e8b354eb78",
     "showTitle": false,
     "tableResultSettingsMap": {},
     "title": ""
    }
   },
   "source": [
    "# Revenue Features at Domain, Partner and Cluster level"
   ]
  },
  {
   "cell_type": "code",
   "execution_count": 0,
   "metadata": {
    "application/vnd.databricks.v1+cell": {
     "cellMetadata": {
      "byteLimit": 2048000,
      "rowLimit": 10000
     },
     "inputWidgets": {},
     "nuid": "0235a984-e100-4ef1-88e9-55d1f7374b7c",
     "showTitle": false,
     "tableResultSettingsMap": {},
     "title": ""
    }
   },
   "outputs": [
    {
     "output_type": "display_data",
     "data": {
      "text/html": [
       "<style scoped>\n",
       "  .table-result-container {\n",
       "    max-height: 300px;\n",
       "    overflow: auto;\n",
       "  }\n",
       "  table, th, td {\n",
       "    border: 1px solid black;\n",
       "    border-collapse: collapse;\n",
       "  }\n",
       "  th, td {\n",
       "    padding: 5px;\n",
       "  }\n",
       "  th {\n",
       "    text-align: left;\n",
       "  }\n",
       "</style><div class='table-result-container'><table class='table-result'><thead style='background-color: white'><tr></tr></thead><tbody></tbody></table></div>"
      ]
     },
     "metadata": {
      "application/vnd.databricks.v1+output": {
       "addedWidgets": {},
       "aggData": [],
       "aggError": "",
       "aggOverflow": false,
       "aggSchema": [],
       "aggSeriesLimitReached": false,
       "aggType": "",
       "arguments": {},
       "columnCustomDisplayInfos": {},
       "data": [],
       "datasetInfos": [],
       "dbfsResultPath": null,
       "isJsonSchema": true,
       "metadata": {},
       "overflow": false,
       "plotOptions": {
        "customPlotOptions": {},
        "displayType": "table",
        "pivotAggregation": null,
        "pivotColumns": null,
        "xColumns": null,
        "yColumns": null
       },
       "removedWidgets": [],
       "schema": [],
       "type": "table"
      }
     },
     "output_type": "display_data"
    },
    {
     "output_type": "display_data",
     "data": {
      "text/html": [
       "<style scoped>\n",
       "  .table-result-container {\n",
       "    max-height: 300px;\n",
       "    overflow: auto;\n",
       "  }\n",
       "  table, th, td {\n",
       "    border: 1px solid black;\n",
       "    border-collapse: collapse;\n",
       "  }\n",
       "  th, td {\n",
       "    padding: 5px;\n",
       "  }\n",
       "  th {\n",
       "    text-align: left;\n",
       "  }\n",
       "</style><div class='table-result-container'><table class='table-result'><thead style='background-color: white'><tr></tr></thead><tbody></tbody></table></div>"
      ]
     },
     "metadata": {
      "application/vnd.databricks.v1+output": {
       "addedWidgets": {},
       "aggData": [],
       "aggError": "",
       "aggOverflow": false,
       "aggSchema": [],
       "aggSeriesLimitReached": false,
       "aggType": "",
       "arguments": {},
       "columnCustomDisplayInfos": {},
       "data": [],
       "datasetInfos": [],
       "dbfsResultPath": null,
       "isJsonSchema": true,
       "metadata": {},
       "overflow": false,
       "plotOptions": {
        "customPlotOptions": {},
        "displayType": "table",
        "pivotAggregation": null,
        "pivotColumns": null,
        "xColumns": null,
        "yColumns": null
       },
       "removedWidgets": [],
       "schema": [],
       "type": "table"
      }
     },
     "output_type": "display_data"
    },
    {
     "output_type": "display_data",
     "data": {
      "text/html": [
       "<style scoped>\n",
       "  .table-result-container {\n",
       "    max-height: 300px;\n",
       "    overflow: auto;\n",
       "  }\n",
       "  table, th, td {\n",
       "    border: 1px solid black;\n",
       "    border-collapse: collapse;\n",
       "  }\n",
       "  th, td {\n",
       "    padding: 5px;\n",
       "  }\n",
       "  th {\n",
       "    text-align: left;\n",
       "  }\n",
       "</style><div class='table-result-container'><table class='table-result'><thead style='background-color: white'><tr></tr></thead><tbody></tbody></table></div>"
      ]
     },
     "metadata": {
      "application/vnd.databricks.v1+output": {
       "addedWidgets": {},
       "aggData": [],
       "aggError": "",
       "aggOverflow": false,
       "aggSchema": [],
       "aggSeriesLimitReached": false,
       "aggType": "",
       "arguments": {},
       "columnCustomDisplayInfos": {},
       "data": [],
       "datasetInfos": [],
       "dbfsResultPath": null,
       "isJsonSchema": true,
       "metadata": {},
       "overflow": false,
       "plotOptions": {
        "customPlotOptions": {},
        "displayType": "table",
        "pivotAggregation": null,
        "pivotColumns": null,
        "xColumns": null,
        "yColumns": null
       },
       "removedWidgets": [],
       "schema": [],
       "type": "table"
      }
     },
     "output_type": "display_data"
    },
    {
     "output_type": "display_data",
     "data": {
      "text/html": [
       "<style scoped>\n",
       "  .table-result-container {\n",
       "    max-height: 300px;\n",
       "    overflow: auto;\n",
       "  }\n",
       "  table, th, td {\n",
       "    border: 1px solid black;\n",
       "    border-collapse: collapse;\n",
       "  }\n",
       "  th, td {\n",
       "    padding: 5px;\n",
       "  }\n",
       "  th {\n",
       "    text-align: left;\n",
       "  }\n",
       "</style><div class='table-result-container'><table class='table-result'><thead style='background-color: white'><tr></tr></thead><tbody></tbody></table></div>"
      ]
     },
     "metadata": {
      "application/vnd.databricks.v1+output": {
       "addedWidgets": {},
       "aggData": [],
       "aggError": "",
       "aggOverflow": false,
       "aggSchema": [],
       "aggSeriesLimitReached": false,
       "aggType": "",
       "arguments": {},
       "columnCustomDisplayInfos": {},
       "data": [],
       "datasetInfos": [],
       "dbfsResultPath": null,
       "isJsonSchema": true,
       "metadata": {},
       "overflow": false,
       "plotOptions": {
        "customPlotOptions": {},
        "displayType": "table",
        "pivotAggregation": null,
        "pivotColumns": null,
        "xColumns": null,
        "yColumns": null
       },
       "removedWidgets": [],
       "schema": [],
       "type": "table"
      }
     },
     "output_type": "display_data"
    },
    {
     "output_type": "display_data",
     "data": {
      "text/html": [
       "<style scoped>\n",
       "  .table-result-container {\n",
       "    max-height: 300px;\n",
       "    overflow: auto;\n",
       "  }\n",
       "  table, th, td {\n",
       "    border: 1px solid black;\n",
       "    border-collapse: collapse;\n",
       "  }\n",
       "  th, td {\n",
       "    padding: 5px;\n",
       "  }\n",
       "  th {\n",
       "    text-align: left;\n",
       "  }\n",
       "</style><div class='table-result-container'><table class='table-result'><thead style='background-color: white'><tr></tr></thead><tbody></tbody></table></div>"
      ]
     },
     "metadata": {
      "application/vnd.databricks.v1+output": {
       "addedWidgets": {},
       "aggData": [],
       "aggError": "",
       "aggOverflow": false,
       "aggSchema": [],
       "aggSeriesLimitReached": false,
       "aggType": "",
       "arguments": {},
       "columnCustomDisplayInfos": {},
       "data": [],
       "datasetInfos": [],
       "dbfsResultPath": null,
       "isJsonSchema": true,
       "metadata": {},
       "overflow": false,
       "plotOptions": {
        "customPlotOptions": {},
        "displayType": "table",
        "pivotAggregation": null,
        "pivotColumns": null,
        "xColumns": null,
        "yColumns": null
       },
       "removedWidgets": [],
       "schema": [],
       "type": "table"
      }
     },
     "output_type": "display_data"
    }
   ],
   "source": [
    "create or replace view dev.bi.content_s12n_prdomain_rolling_rev_rec_last12M_mgtv AS\n",
    "select dt_month\n",
    "      ,lower(replace(content_domain,' ','-')) as content_domain\n",
    "      ,count(*) as cnt\n",
    "      ,sum(rev_rec_amount) as pd_sum_rolling_n12m_rev_rec\n",
    "      ,avg(rev_rec_amount) as pd_avg_rolling_n12m_rev_rec\n",
    "      FROM dev.bi.content_rolling_rev_rec_last12M_mgtv a\n",
    "      inner join dev.bi.content_dim_kpi b on a.content_id = b.underlying_product_item_id\n",
    "      where underlying_content_type = 's12n' and content_domain is not null\n",
    "      group by 1,2;\n",
    "\n",
    "create or replace view dev.bi.content_s12n_subdomain_rolling_rev_rec_last12M_mgtv AS\n",
    "select dt_month\n",
    "      ,lower(replace(content_sub_domain,' ','-')) as content_sub_domain\n",
    "      ,sum(rev_rec_amount) as sd_sum_rolling_n12m_rev_rec\n",
    "      FROM dev.bi.content_rolling_rev_rec_last12M_mgtv a\n",
    "      inner join dev.bi.content_dim_kpi b on a.content_id = b.underlying_product_item_id\n",
    "      where underlying_content_type = 's12n' and content_sub_domain is not null\n",
    "      group by 1,2;\n",
    "\n",
    "\n",
    "create or replace view dev.bi.content_s12n_partner_rolling_rev_rec_last12M_mgtv AS\n",
    "select dt_month\n",
    "      ,partner_id\n",
    "      ,sum(rev_rec_amount) as pr_sum_rolling_n12m_rev_rec\n",
    "      FROM dev.bi.content_rolling_rev_rec_last12M_mgtv a\n",
    "      inner join dev.bi.content_dim_kpi b on a.content_id = b.underlying_product_item_id\n",
    "      where underlying_content_type = 's12n' and partner_id is not null\n",
    "      group by 1,2;\n",
    "\n",
    "create or replace view dev.bi.content_s12n_partner_cluster_rolling_rev_rec_last12M_mgtv AS\n",
    "With partner_agg (select dt_month\n",
    "                  ,b.partner_id\n",
    "                  ,c.cluster_rank\n",
    "                  ,sum(rev_rec_amount) as pr_sum_rolling_n12m_rev_rec\n",
    "                  FROM dev.bi.content_rolling_rev_rec_last12M_mgtv a\n",
    "                  inner join dev.bi.content_dim_kpi b on a.content_id = b.underlying_product_item_id\n",
    "                  left join dev.bi.s12n_partner_cluster_ranks_mgtv c on b.partner_id = c.partner_id\n",
    "                  where underlying_content_type = 's12n' and b.partner_id is not null\n",
    "                  group by 1,2,3)\n",
    "select dt_month,\n",
    "      cluster_rank,\n",
    "      avg(pr_sum_rolling_n12m_rev_rec) as pcr_avg_rolling_n12m_rev_rec,\n",
    "      sum(pr_sum_rolling_n12m_rev_rec) as pcr_sum_rolling_n12m_rev_rec\n",
    "      from partner_agg\n",
    "      group by 1,2;\n",
    "\n",
    "\n",
    "create or replace view dev.bi.content_s12n_subdomain_pcr_rolling_rev_rec_last12M_mgtv AS\n",
    "select dt_month\n",
    "  ,lower(replace(content_sub_domain,' ','-')) as content_sub_domain\n",
    "  ,c.cluster_rank\n",
    "  ,avg(rev_rec_amount) as sd_pcr_avg_rolling_n12m_rev_rec\n",
    "  ,sum(rev_rec_amount) as sd_pcr_sum_rolling_n12m_rev_rec\n",
    "  FROM dev.bi.content_rolling_rev_rec_last12M_mgtv a\n",
    "  inner join dev.bi.content_dim_kpi b on a.content_id = b.underlying_product_item_id\n",
    "  left join dev.bi.s12n_partner_cluster_ranks_mgtv c on b.partner_id = c.partner_id\n",
    "  where underlying_content_type = 's12n' and content_sub_domain is not null\n",
    "  group by 1,2,3"
   ]
  }
 ],
 "metadata": {
  "application/vnd.databricks.v1+notebook": {
   "computePreferences": null,
   "dashboards": [],
   "environmentMetadata": {
    "base_environment": "",
    "environment_version": "2"
   },
   "inputWidgetPreferences": null,
   "language": "sql",
   "notebookMetadata": {
    "pythonIndentUnit": 2
   },
   "notebookName": "B2C S12N Revenue Features L12M MG",
   "widgets": {}
  },
  "language_info": {
   "name": "sql"
  }
 },
 "nbformat": 4,
 "nbformat_minor": 0
}
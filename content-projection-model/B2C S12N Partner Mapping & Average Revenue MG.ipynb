{
 "cells": [
  {
   "cell_type": "markdown",
   "metadata": {
    "application/vnd.databricks.v1+cell": {
     "cellMetadata": {
      "byteLimit": 2048000,
      "rowLimit": 10000
     },
     "inputWidgets": {},
     "nuid": "4dcd144f-2f81-4f36-9616-e8f2a1e66bec",
     "showTitle": false,
     "tableResultSettingsMap": {},
     "title": ""
    }
   },
   "source": [
    "# S12N Partner Mapping"
   ]
  },
  {
   "cell_type": "code",
   "execution_count": 0,
   "metadata": {
    "application/vnd.databricks.v1+cell": {
     "cellMetadata": {
      "byteLimit": 2048000,
      "rowLimit": 10000
     },
     "inputWidgets": {},
     "nuid": "b1f080a5-8852-4f66-9d7d-7d772e83adc4",
     "showTitle": false,
     "tableResultSettingsMap": {},
     "title": ""
    }
   },
   "outputs": [
    {
     "output_type": "display_data",
     "data": {
      "text/html": [
       "<style scoped>\n",
       "  .table-result-container {\n",
       "    max-height: 300px;\n",
       "    overflow: auto;\n",
       "  }\n",
       "  table, th, td {\n",
       "    border: 1px solid black;\n",
       "    border-collapse: collapse;\n",
       "  }\n",
       "  th, td {\n",
       "    padding: 5px;\n",
       "  }\n",
       "  th {\n",
       "    text-align: left;\n",
       "  }\n",
       "</style><div class='table-result-container'><table class='table-result'><thead style='background-color: white'><tr></tr></thead><tbody></tbody></table></div>"
      ]
     },
     "metadata": {
      "application/vnd.databricks.v1+output": {
       "addedWidgets": {},
       "aggData": [],
       "aggError": "",
       "aggOverflow": false,
       "aggSchema": [],
       "aggSeriesLimitReached": false,
       "aggType": "",
       "arguments": {},
       "columnCustomDisplayInfos": {},
       "data": [],
       "datasetInfos": [],
       "dbfsResultPath": null,
       "isJsonSchema": true,
       "metadata": {},
       "overflow": false,
       "plotOptions": {
        "customPlotOptions": {},
        "displayType": "table",
        "pivotAggregation": null,
        "pivotColumns": null,
        "xColumns": null,
        "yColumns": null
       },
       "removedWidgets": [],
       "schema": [],
       "type": "table"
      }
     },
     "output_type": "display_data"
    },
    {
     "output_type": "display_data",
     "data": {
      "text/html": [
       "<style scoped>\n",
       "  .table-result-container {\n",
       "    max-height: 300px;\n",
       "    overflow: auto;\n",
       "  }\n",
       "  table, th, td {\n",
       "    border: 1px solid black;\n",
       "    border-collapse: collapse;\n",
       "  }\n",
       "  th, td {\n",
       "    padding: 5px;\n",
       "  }\n",
       "  th {\n",
       "    text-align: left;\n",
       "  }\n",
       "</style><div class='table-result-container'><table class='table-result'><thead style='background-color: white'><tr><th>num_affected_rows</th><th>num_inserted_rows</th></tr></thead><tbody></tbody></table></div>"
      ]
     },
     "metadata": {
      "application/vnd.databricks.v1+output": {
       "addedWidgets": {},
       "aggData": [],
       "aggError": "",
       "aggOverflow": false,
       "aggSchema": [],
       "aggSeriesLimitReached": false,
       "aggType": "",
       "arguments": {},
       "columnCustomDisplayInfos": {},
       "data": [],
       "datasetInfos": [],
       "dbfsResultPath": null,
       "isJsonSchema": true,
       "metadata": {},
       "overflow": false,
       "plotOptions": {
        "customPlotOptions": {},
        "displayType": "table",
        "pivotAggregation": null,
        "pivotColumns": null,
        "xColumns": null,
        "yColumns": null
       },
       "removedWidgets": [],
       "schema": [
        {
         "metadata": "{}",
         "name": "num_affected_rows",
         "type": "\"long\""
        },
        {
         "metadata": "{}",
         "name": "num_inserted_rows",
         "type": "\"long\""
        }
       ],
       "type": "table"
      }
     },
     "output_type": "display_data"
    }
   ],
   "source": [
    "DROP TABLE IF EXISTS dev.bi.s12n_partner_mapping_mgtv;\n",
    "CREATE TABLE dev.bi.s12n_partner_mapping_mgtv AS\n",
    "(\n",
    "  WITH base_mapping AS \n",
    "(\n",
    "  SELECT \n",
    "    base_phoenix_specialization_id,\n",
    "    phoenix_specialization_id\n",
    "  FROM\n",
    "    prod.gold.phoenix_specializations_vw\n",
    "  GROUP BY 1, 2\n",
    "),\n",
    "\n",
    "s12n_partner_mapping AS\n",
    "(\n",
    "  SELECT \n",
    "    psp.partner_id,\n",
    "    p.partner_slug,\n",
    "    bm.base_phoenix_specialization_id\n",
    "  FROM\n",
    "    prod.gold.phoenix_specializations_partners_vw psp\n",
    "  JOIN\n",
    "    base_mapping bm\n",
    "  ON\n",
    "    bm.phoenix_specialization_id = psp.phoenix_specialization_id\n",
    "  JOIN\n",
    "    prod.gold.partner_vw p\n",
    "  ON\n",
    "    psp.partner_id = p.partner_id\n",
    "  WHERE\n",
    "    NOT psp.is_test_specialization\n",
    ")\n",
    "\n",
    "SELECT\n",
    "    partner_id,\n",
    "    partner_slug,\n",
    "    base_phoenix_specialization_id  \n",
    "FROM \n",
    "  s12n_partner_mapping\n",
    "GROUP BY 1, 2, 3\n",
    ")\n",
    "\n"
   ]
  },
  {
   "cell_type": "markdown",
   "metadata": {
    "application/vnd.databricks.v1+cell": {
     "cellMetadata": {
      "byteLimit": 2048000,
      "rowLimit": 10000
     },
     "inputWidgets": {},
     "nuid": "123ed919-c149-4fad-b1bb-b70199e4c4c2",
     "showTitle": false,
     "tableResultSettingsMap": {},
     "title": ""
    }
   },
   "source": [
    "# S12N Partner Average Revenue"
   ]
  },
  {
   "cell_type": "code",
   "execution_count": 0,
   "metadata": {
    "application/vnd.databricks.v1+cell": {
     "cellMetadata": {
      "byteLimit": 2048000,
      "rowLimit": 10000
     },
     "inputWidgets": {},
     "nuid": "f2140033-4332-48a0-b9ce-01b5540001d4",
     "showTitle": false,
     "tableResultSettingsMap": {},
     "title": ""
    }
   },
   "outputs": [
    {
     "output_type": "display_data",
     "data": {
      "text/html": [
       "<style scoped>\n",
       "  .table-result-container {\n",
       "    max-height: 300px;\n",
       "    overflow: auto;\n",
       "  }\n",
       "  table, th, td {\n",
       "    border: 1px solid black;\n",
       "    border-collapse: collapse;\n",
       "  }\n",
       "  th, td {\n",
       "    padding: 5px;\n",
       "  }\n",
       "  th {\n",
       "    text-align: left;\n",
       "  }\n",
       "</style><div class='table-result-container'><table class='table-result'><thead style='background-color: white'><tr></tr></thead><tbody></tbody></table></div>"
      ]
     },
     "metadata": {
      "application/vnd.databricks.v1+output": {
       "addedWidgets": {},
       "aggData": [],
       "aggError": "",
       "aggOverflow": false,
       "aggSchema": [],
       "aggSeriesLimitReached": false,
       "aggType": "",
       "arguments": {},
       "columnCustomDisplayInfos": {},
       "data": [],
       "datasetInfos": [],
       "dbfsResultPath": null,
       "isJsonSchema": true,
       "metadata": {},
       "overflow": false,
       "plotOptions": {
        "customPlotOptions": {},
        "displayType": "table",
        "pivotAggregation": null,
        "pivotColumns": null,
        "xColumns": null,
        "yColumns": null
       },
       "removedWidgets": [],
       "schema": [],
       "type": "table"
      }
     },
     "output_type": "display_data"
    },
    {
     "output_type": "display_data",
     "data": {
      "text/html": [
       "<style scoped>\n",
       "  .table-result-container {\n",
       "    max-height: 300px;\n",
       "    overflow: auto;\n",
       "  }\n",
       "  table, th, td {\n",
       "    border: 1px solid black;\n",
       "    border-collapse: collapse;\n",
       "  }\n",
       "  th, td {\n",
       "    padding: 5px;\n",
       "  }\n",
       "  th {\n",
       "    text-align: left;\n",
       "  }\n",
       "</style><div class='table-result-container'><table class='table-result'><thead style='background-color: white'><tr><th>num_affected_rows</th><th>num_inserted_rows</th></tr></thead><tbody></tbody></table></div>"
      ]
     },
     "metadata": {
      "application/vnd.databricks.v1+output": {
       "addedWidgets": {},
       "aggData": [],
       "aggError": "",
       "aggOverflow": false,
       "aggSchema": [],
       "aggSeriesLimitReached": false,
       "aggType": "",
       "arguments": {},
       "columnCustomDisplayInfos": {},
       "data": [],
       "datasetInfos": [],
       "dbfsResultPath": null,
       "isJsonSchema": true,
       "metadata": {},
       "overflow": false,
       "plotOptions": {
        "customPlotOptions": {},
        "displayType": "table",
        "pivotAggregation": null,
        "pivotColumns": null,
        "xColumns": null,
        "yColumns": null
       },
       "removedWidgets": [],
       "schema": [
        {
         "metadata": "{}",
         "name": "num_affected_rows",
         "type": "\"long\""
        },
        {
         "metadata": "{}",
         "name": "num_inserted_rows",
         "type": "\"long\""
        }
       ],
       "type": "table"
      }
     },
     "output_type": "display_data"
    }
   ],
   "source": [
    "DROP TABLE IF EXISTS dev.bi.s12n_partner_average_annual_b2c_revenue_mgtv;\n",
    "CREATE TABLE dev.bi.s12n_partner_average_annual_b2c_revenue_mgtv AS \n",
    "(\n",
    "WITH partner_revenue AS (\n",
    "  -- First, join the tables and calculate yearly revenue per specialization\n",
    "  SELECT \n",
    "    pm.partner_id,\n",
    "    pm.partner_slug,\n",
    "    rev.base_phoenix_specialization_id,\n",
    "    rev.launch_date,\n",
    "    SUM(rev.b2c_revenue) / \n",
    "      GREATEST(\n",
    "        DATEDIFF(CURRENT_DATE(), launch_date) / 365.0,\n",
    "        0.1  -- Use 1 if less than a year has elapsed to avoid division by small numbers\n",
    "      ) as yearly_revenue\n",
    "  FROM dev.bi.s12n_partner_mapping_mgtv pm\n",
    "  JOIN dev.bi.s12n_estimated_total_b2c_revenue_mgtf rev\n",
    "  -- JOIN dev.bi.s12n_estimated_total_b2c_revenue_mgtv rev \n",
    "    ON pm.base_phoenix_specialization_id = rev.base_phoenix_specialization_id\n",
    "  GROUP BY \n",
    "    pm.partner_id,\n",
    "    pm.partner_slug,\n",
    "    rev.base_phoenix_specialization_id,\n",
    "    rev.launch_date\n",
    ")\n",
    "\n",
    "SELECT \n",
    "  partner_id,\n",
    "  partner_slug,\n",
    "  COUNT(DISTINCT base_phoenix_specialization_id) as number_of_specializations,\n",
    "  AVG(yearly_revenue) as avg_yearly_revenue_across_s12ns,\n",
    "  avg_yearly_revenue_across_s12ns/NULLIF(number_of_specializations, 0) as avg_yearly_revenue_per_s12n\n",
    "FROM partner_revenue\n",
    "GROUP BY \n",
    "  partner_id,\n",
    "  partner_slug\n",
    ")"
   ]
  },
  {
   "cell_type": "markdown",
   "metadata": {
    "application/vnd.databricks.v1+cell": {
     "cellMetadata": {
      "byteLimit": 2048000,
      "rowLimit": 10000
     },
     "inputWidgets": {},
     "nuid": "20a0f53b-4a62-422e-8a46-b13f9017aa16",
     "showTitle": false,
     "tableResultSettingsMap": {},
     "title": ""
    }
   },
   "source": [
    "# QA"
   ]
  },
  {
   "cell_type": "code",
   "execution_count": 0,
   "metadata": {
    "application/vnd.databricks.v1+cell": {
     "cellMetadata": {
      "byteLimit": 2048000,
      "rowLimit": 10000
     },
     "inputWidgets": {},
     "nuid": "385f043a-e326-4bdb-a9fc-9ee135187510",
     "showTitle": false,
     "tableResultSettingsMap": {},
     "title": ""
    }
   },
   "outputs": [
    {
     "output_type": "display_data",
     "data": {
      "text/html": [
       "<style scoped>\n",
       "  .table-result-container {\n",
       "    max-height: 300px;\n",
       "    overflow: auto;\n",
       "  }\n",
       "  table, th, td {\n",
       "    border: 1px solid black;\n",
       "    border-collapse: collapse;\n",
       "  }\n",
       "  th, td {\n",
       "    padding: 5px;\n",
       "  }\n",
       "  th {\n",
       "    text-align: left;\n",
       "  }\n",
       "</style><div class='table-result-container'><table class='table-result'><thead style='background-color: white'><tr><th>partner_id</th><th>partner_slug</th><th>number_of_specializations</th><th>avg_yearly_revenue_across_s12ns</th><th>avg_yearly_revenue_per_s12n</th></tr></thead><tbody><tr><td>718</td><td>intuit</td><td>1</td><td>3186378.9915570000</td><td>3186378.9915570000</td></tr><tr><td>1442</td><td>hrci</td><td>1</td><td>1960617.8171910000</td><td>1960617.8171910000</td></tr><tr><td>463</td><td>google</td><td>89</td><td>1905826.8214789551</td><td>21413.7845109995</td></tr><tr><td>1</td><td>stanford</td><td>6</td><td>1581230.2899481667</td><td>263538.3816580278</td></tr><tr><td>475</td><td>deeplearning-ai</td><td>15</td><td>1285308.8640860000</td><td>85687.2576057333</td></tr><tr><td>875</td><td>tableau</td><td>1</td><td>1169192.7333080000</td><td>1169192.7333080000</td></tr><tr><td>496</td><td>adobe</td><td>3</td><td>773962.8322756667</td><td>257987.6107585556</td></tr><tr><td>1571</td><td>epic-games</td><td>1</td><td>699876.9428170000</td><td>699876.9428170000</td></tr><tr><td>532</td><td>amazon</td><td>1</td><td>528505.8192760000</td><td>528505.8192760000</td></tr><tr><td>705</td><td>microsoft</td><td>41</td><td>524202.5290983659</td><td>12785.4275389845</td></tr><tr><td>641</td><td>meta</td><td>30</td><td>453456.1990529667</td><td>15115.2066350989</td></tr><tr><td>1190</td><td>sap</td><td>2</td><td>427317.4461930000</td><td>213658.7230965000</td></tr><tr><td>652</td><td>coursera-delete</td><td>5</td><td>413965.2661100000</td><td>82793.0532220000</td></tr><tr><td>59</td><td>calarts</td><td>4</td><td>383614.0707330000</td><td>95903.5176832500</td></tr><tr><td>348</td><td>ibm-skills-network</td><td>96</td><td>364489.8066130104</td><td>3796.7688188855</td></tr><tr><td>6</td><td>penn</td><td>25</td><td>358656.5080926400</td><td>14346.2603237056</td></tr><tr><td>1500</td><td>olay</td><td>1</td><td>348308.4721250000</td><td>348308.4721250000</td></tr><tr><td>107</td><td>moma</td><td>2</td><td>320435.3979740000</td><td>160217.6989870000</td></tr><tr><td>1297</td><td>keller-williams</td><td>1</td><td>295023.6474530000</td><td>295023.6474530000</td></tr><tr><td>329</td><td>pwc</td><td>1</td><td>283140.6577240000</td><td>283140.6577240000</td></tr><tr><td>1481</td><td>unilever</td><td>2</td><td>261237.7078205000</td><td>130618.8539102500</td></tr><tr><td>784</td><td>pathstream</td><td>2</td><td>257031.8270415000</td><td>128515.9135207500</td></tr><tr><td>524</td><td>iftf</td><td>1</td><td>254066.8220340000</td><td>254066.8220340000</td></tr><tr><td>254</td><td>macquarie</td><td>10</td><td>252525.0444574000</td><td>25252.5044457400</td></tr><tr><td>40</td><td>columbia</td><td>4</td><td>235016.4111610000</td><td>58754.1027902500</td></tr><tr><td>345</td><td>bcg</td><td>2</td><td>227179.9722660000</td><td>113589.9861330000</td></tr><tr><td>37</td><td>vanderbilt</td><td>28</td><td>213800.9571200357</td><td>7635.7484685727</td></tr><tr><td>556</td><td>amii</td><td>2</td><td>213529.2019500000</td><td>106764.6009750000</td></tr><tr><td>338</td><td>aws</td><td>16</td><td>209021.7950902500</td><td>13063.8621931406</td></tr><tr><td>1120</td><td>adp</td><td>4</td><td>208747.2044417500</td><td>52186.8011104375</td></tr><tr><td>49</td><td>unige</td><td>1</td><td>192314.0345350000</td><td>192314.0345350000</td></tr><tr><td>518</td><td>edhec</td><td>2</td><td>185494.6040625000</td><td>92747.3020312500</td></tr><tr><td>3</td><td>umich</td><td>50</td><td>184356.8212666400</td><td>3687.1364253328</td></tr><tr><td>18</td><td>uva</td><td>9</td><td>178185.5486351111</td><td>19798.3942927901</td></tr><tr><td>9</td><td>gatech</td><td>2</td><td>177645.2010710000</td><td>88822.6005355000</td></tr><tr><td>695</td><td>salesforce</td><td>4</td><td>177376.0912772500</td><td>44344.0228193125</td></tr><tr><td>146</td><td>ualberta</td><td>5</td><td>176825.0557760000</td><td>35365.0111552000</td></tr><tr><td>83</td><td>ucdavis</td><td>22</td><td>167235.4104340909</td><td>7601.6095651860</td></tr><tr><td>829</td><td>skillup-ed-tech</td><td>45</td><td>159399.2825262889</td><td>3542.2062783620</td></tr><tr><td>868</td><td>eccouncil</td><td>1</td><td>156269.2929400000</td><td>156269.2929400000</td></tr><tr><td>1021</td><td>novartis</td><td>2</td><td>155961.8989620000</td><td>77980.9494810000</td></tr><tr><td>67</td><td>rutgers</td><td>6</td><td>152585.7279713333</td><td>25430.9546618889</td></tr><tr><td>131</td><td>amsterdam</td><td>2</td><td>144790.3970070000</td><td>72395.1985035000</td></tr><tr><td>1512</td><td>cisco</td><td>2</td><td>144158.5353420000</td><td>72079.2676710000</td></tr><tr><td>499</td><td>nyif</td><td>3</td><td>144095.8795046667</td><td>48031.9598348889</td></tr><tr><td>34</td><td>wesleyan</td><td>4</td><td>136230.9140680000</td><td>34057.7285170000</td></tr><tr><td>16</td><td>epfl</td><td>2</td><td>131694.2359795000</td><td>65847.1179897500</td></tr><tr><td>54</td><td>northwestern</td><td>5</td><td>127310.4637382000</td><td>25462.0927476400</td></tr><tr><td>1382</td><td>medcerts</td><td>8</td><td>120182.5124281250</td><td>15022.8140535156</td></tr><tr><td>7</td><td>duke</td><td>30</td><td>115428.5144980667</td><td>3847.6171499356</td></tr><tr><td>767</td><td>nasm</td><td>5</td><td>114527.1182000000</td><td>22905.4236400000</td></tr><tr><td>72</td><td>insead</td><td>4</td><td>108655.5931492500</td><td>27163.8982873125</td></tr><tr><td>15</td><td>uw</td><td>4</td><td>108164.3426752500</td><td>27041.0856688125</td></tr><tr><td>2076</td><td>xbox</td><td>2</td><td>105998.9316910000</td><td>52999.4658455000</td></tr><tr><td>752</td><td>sofi</td><td>1</td><td>105668.3718520000</td><td>105668.3718520000</td></tr><tr><td>509</td><td>palo-alto-networks</td><td>1</td><td>101806.0096380000</td><td>101806.0096380000</td></tr><tr><td>309</td><td>nyu</td><td>3</td><td>98081.6498880000</td><td>32693.8832960000</td></tr><tr><td>649</td><td>sv-academy</td><td>2</td><td>97720.3555130000</td><td>48860.1777565000</td></tr><tr><td>172</td><td>iese</td><td>4</td><td>97046.8694610000</td><td>24261.7173652500</td></tr><tr><td>11</td><td>utoronto</td><td>5</td><td>96939.7557554000</td><td>19387.9511510800</td></tr><tr><td>8</td><td>jhu</td><td>53</td><td>90612.4154026038</td><td>1709.6682151435</td></tr><tr><td>487</td><td>cloudera</td><td>1</td><td>90248.2634600000</td><td>90248.2634600000</td></tr><tr><td>1804</td><td>snowflake</td><td>2</td><td>86982.2875940000</td><td>43491.1437970000</td></tr><tr><td>1659</td><td>cfi</td><td>6</td><td>86654.0542483333</td><td>14442.3423747222</td></tr><tr><td>472</td><td>isc2</td><td>5</td><td>86247.0255972000</td><td>17249.4051194400</td></tr><tr><td>1721</td><td>kodekloud</td><td>1</td><td>85965.5420890000</td><td>85965.5420890000</td></tr><tr><td>434</td><td>imperial</td><td>17</td><td>85478.3531747647</td><td>5028.1384220450</td></tr><tr><td>56</td><td>ucsc</td><td>5</td><td>85126.4729766000</td><td>17025.2945953200</td></tr><tr><td>119</td><td>uh</td><td>1</td><td>84921.1386000000</td><td>84921.1386000000</td></tr><tr><td>714</td><td>goodwill</td><td>2</td><td>84313.9351295000</td><td>42156.9675647500</td></tr><tr><td>716</td><td>ibkr</td><td>3</td><td>83784.2466166667</td><td>27928.0822055556</td></tr><tr><td>13</td><td>rice</td><td>22</td><td>80530.9862725455</td><td>3660.4993760248</td></tr><tr><td>1322</td><td>cvshealth</td><td>2</td><td>80116.0376235000</td><td>40058.0188117500</td></tr><tr><td>876</td><td>uipath</td><td>1</td><td>79762.0419620000</td><td>79762.0419620000</td></tr><tr><td>21</td><td>berklee</td><td>13</td><td>79355.2497568462</td><td>6104.2499812959</td></tr><tr><td>17</td><td>illinois</td><td>37</td><td>79345.9695811622</td><td>2144.4856643557</td></tr><tr><td>458</td><td>ubuffalo</td><td>7</td><td>79037.7140438571</td><td>11291.1020062653</td></tr><tr><td>303</td><td>goldsmiths</td><td>4</td><td>77819.5739497500</td><td>19454.8934874375</td></tr><tr><td>53</td><td>ucsd</td><td>17</td><td>76910.5471659412</td><td>4524.1498332907</td></tr><tr><td>26</td><td>london</td><td>8</td><td>74943.9275525000</td><td>9367.9909440625</td></tr><tr><td>228</td><td>michstate</td><td>7</td><td>74492.9899761429</td><td>10641.8557108776</td></tr><tr><td>575</td><td>awit</td><td>3</td><td>74020.8634876667</td><td>24673.6211625556</td></tr><tr><td>498</td><td>linuxfoundation</td><td>1</td><td>73781.0379940000</td><td>73781.0379940000</td></tr><tr><td>902</td><td>liberty-mutual</td><td>1</td><td>69923.2685390000</td><td>69923.2685390000</td></tr><tr><td>30</td><td>uci</td><td>42</td><td>68247.9812563571</td><td>1624.9519346752</td></tr><tr><td>297</td><td>imt</td><td>2</td><td>66418.4876850000</td><td>33209.2438425000</td></tr><tr><td>717</td><td>dmi</td><td>3</td><td>66002.8555880000</td><td>22000.9518626667</td></tr><tr><td>23</td><td>emory</td><td>6</td><td>65021.7639071667</td><td>10836.9606511945</td></tr><tr><td>443</td><td>googlecloud</td><td>103</td><td>64457.3195652913</td><td>625.7992190805</td></tr><tr><td>50</td><td>minnesota</td><td>15</td><td>64005.0055021333</td><td>4267.0003668089</td></tr><tr><td>647</td><td>icpm</td><td>1</td><td>63846.5575320000</td><td>63846.5575320000</td></tr><tr><td>170</td><td>lbs</td><td>1</td><td>62657.8924280000</td><td>62657.8924280000</td></tr><tr><td>1004</td><td>darden</td><td>2</td><td>62347.9089570000</td><td>31173.9544785000</td></tr><tr><td>783</td><td>oakley</td><td>2</td><td>62178.8555575000</td><td>31089.4277787500</td></tr><tr><td>292</td><td>iima</td><td>1</td><td>62039.1779930000</td><td>62039.1779930000</td></tr><tr><td>35</td><td>hkust</td><td>8</td><td>60100.1178687500</td><td>7512.5147335938</td></tr><tr><td>1510</td><td>starweaver</td><td>7</td><td>58457.6556921429</td><td>8351.0936703061</td></tr><tr><td>163</td><td>pku</td><td>3</td><td>57477.9032783333</td><td>19159.3010927778</td></tr><tr><td>883</td><td>ku</td><td>1</td><td>57238.1864640000</td><td>57238.1864640000</td></tr><tr><td>123</td><td>usg</td><td>13</td><td>57212.4803340769</td><td>4400.9600256982</td></tr><tr><td>1189</td><td>akamai</td><td>2</td><td>57018.2620915000</td><td>28509.1310457500</td></tr><tr><td>468</td><td>yandex</td><td>4</td><td>56779.4798502500</td><td>14194.8699625625</td></tr><tr><td>68</td><td>casewesternreserve</td><td>2</td><td>56424.2216510000</td><td>28212.1108255000</td></tr><tr><td>644</td><td>aptly</td><td>2</td><td>55094.6611085000</td><td>27547.3305542500</td></tr><tr><td>520</td><td>sas</td><td>8</td><td>54222.7512685000</td><td>6777.8439085625</td></tr><tr><td>14</td><td>edinburgh</td><td>1</td><td>54080.7047430000</td><td>54080.7047430000</td></tr><tr><td>1345</td><td>american-psychological-association</td><td>8</td><td>53284.9605756250</td><td>6660.6200719531</td></tr><tr><td>682</td><td>isae-supaero</td><td>1</td><td>52974.8709480000</td><td>52974.8709480000</td></tr><tr><td>470</td><td>autodesk</td><td>4</td><td>52597.4112117500</td><td>13149.3528029375</td></tr><tr><td>671</td><td>databricks</td><td>2</td><td>52095.1018665000</td><td>26047.5509332500</td></tr><tr><td>1144</td><td>tally</td><td>1</td><td>51531.9823090000</td><td>51531.9823090000</td></tr><tr><td>117</td><td>suny</td><td>13</td><td>50221.9219638462</td><td>3863.2247664497</td></tr><tr><td>161</td><td>hec</td><td>2</td><td>50092.9704395000</td><td>25046.4852197500</td></tr><tr><td>1692</td><td>learnkarts</td><td>17</td><td>48557.7936077059</td><td>2856.3408004533</td></tr><tr><td>116</td><td>wvu</td><td>1</td><td>48494.1817110000</td><td>48494.1817110000</td></tr><tr><td>223</td><td>essec</td><td>4</td><td>47731.4500500000</td><td>11932.8625125000</td></tr><tr><td>175</td><td>cbs</td><td>4</td><td>45724.6361195000</td><td>11431.1590298750</td></tr><tr><td>61</td><td>ie</td><td>10</td><td>43838.7678884000</td><td>4383.8767888400</td></tr><tr><td>126</td><td>cusystem</td><td>30</td><td>43706.1417607667</td><td>1456.8713920256</td></tr><tr><td>777</td><td>dartmouth</td><td>9</td><td>43106.7156256667</td><td>4789.6350695185</td></tr><tr><td>554</td><td>mathworks</td><td>5</td><td>42752.5264124000</td><td>8550.5052824800</td></tr><tr><td>1441</td><td>fortinet</td><td>1</td><td>42245.6850680000</td><td>42245.6850680000</td></tr><tr><td>71</td><td>boulder</td><td>110</td><td>40858.5277944144</td><td>371.4411617674</td></tr><tr><td>199</td><td>lunduniversity</td><td>2</td><td>39186.1756335000</td><td>19593.0878167500</td></tr><tr><td>1733</td><td>coursera-gen-ai</td><td>3</td><td>39017.1002846667</td><td>13005.7000948889</td></tr><tr><td>31</td><td>ufl</td><td>1</td><td>38383.6682010000</td><td>38383.6682010000</td></tr><tr><td>697</td><td>redhat</td><td>2</td><td>38251.5103200000</td><td>19125.7551600000</td></tr><tr><td>287</td><td>asu</td><td>34</td><td>38241.5922374118</td><td>1124.7527128651</td></tr><tr><td>215</td><td>isb</td><td>3</td><td>37216.9996856667</td><td>12405.6665618889</td></tr><tr><td>1425</td><td>grammys</td><td>2</td><td>36928.0181875000</td><td>18464.0090937500</td></tr><tr><td>336</td><td>cisco-learning</td><td>1</td><td>36697.8801070000</td><td>36697.8801070000</td></tr><tr><td>1207</td><td>ibm</td><td>8</td><td>36188.5028891250</td><td>4523.5628611406</td></tr><tr><td>1295</td><td>comptia</td><td>2</td><td>35777.1065670000</td><td>17888.5532835000</td></tr><tr><td>527</td><td>learnquest</td><td>34</td><td>35391.9585789118</td><td>1040.9399582033</td></tr><tr><td>1019</td><td>arm</td><td>1</td><td>34766.3255440000</td><td>34766.3255440000</td></tr><tr><td>803</td><td>notredame</td><td>1</td><td>34228.6565840000</td><td>34228.6565840000</td></tr><tr><td>32</td><td>umd</td><td>19</td><td>32303.6292915789</td><td>1700.1910153463</td></tr><tr><td>78</td><td>tum</td><td>2</td><td>31839.2750350000</td><td>15919.6375175000</td></tr><tr><td>2335</td><td>said-business-school-university-of-oxford</td><td>2</td><td>31762.3617555000</td><td>15881.1808777500</td></tr><tr><td>733</td><td>parsons</td><td>8</td><td>29797.4031167500</td><td>3724.6753895938</td></tr><tr><td>1501</td><td>educba</td><td>9</td><td>29526.4281064444</td><td>3280.7142340494</td></tr><tr><td>150</td><td>sjtu</td><td>2</td><td>29263.6605510000</td><td>14631.8302755000</td></tr><tr><td>781</td><td>siemens</td><td>3</td><td>28958.8776933333</td><td>9652.9592311111</td></tr><tr><td>639</td><td>certnexus</td><td>3</td><td>28648.0581046667</td><td>9549.3527015556</td></tr><tr><td>610</td><td>eldf</td><td>11</td><td>28135.2607071818</td><td>2557.7509733802</td></tr><tr><td>888</td><td>cfainstitute</td><td>1</td><td>27341.9932560000</td><td>27341.9932560000</td></tr><tr><td>109</td><td>yale</td><td>3</td><td>27302.8985040000</td><td>9100.9661680000</td></tr><tr><td>987</td><td>splunk</td><td>2</td><td>27118.2746685000</td><td>13559.1373342500</td></tr><tr><td>64</td><td>lmu</td><td>1</td><td>26441.9197600000</td><td>26441.9197600000</td></tr><tr><td>1794</td><td>kotter</td><td>1</td><td>26176.1077300000</td><td>26176.1077300000</td></tr><tr><td>1324</td><td>scrimba</td><td>18</td><td>25524.3045891667</td><td>1418.0169216204</td></tr><tr><td>160</td><td>hse</td><td>12</td><td>25264.2040815833</td><td>2105.3503401319</td></tr><tr><td>27</td><td>ismms</td><td>2</td><td>24511.3968180000</td><td>12255.6984090000</td></tr><tr><td>776</td><td>qmul</td><td>5</td><td>24171.7397426000</td><td>4834.3479485200</td></tr><tr><td>459</td><td>leeds</td><td>1</td><td>23866.8755700000</td><td>23866.8755700000</td></tr><tr><td>337</td><td>royalholloway</td><td>1</td><td>23859.2665900000</td><td>23859.2665900000</td></tr><tr><td>788</td><td>codio</td><td>17</td><td>23651.5945664706</td><td>1391.2702686159</td></tr><tr><td>1289</td><td>fractal-analytics</td><td>5</td><td>23143.1101996000</td><td>4628.6220399200</td></tr><tr><td>465</td><td>mailru</td><td>2</td><td>22853.0736820000</td><td>11426.5368410000</td></tr><tr><td>692</td><td>infosecinstitute</td><td>15</td><td>21547.6149776667</td><td>1436.5076651778</td></tr><tr><td>485</td><td>hubspot-academy</td><td>5</td><td>21520.2831084000</td><td>4304.0566216800</td></tr><tr><td>568</td><td>automation-anywhere</td><td>1</td><td>21492.1206020000</td><td>21492.1206020000</td></tr><tr><td>405</td><td>polimi</td><td>5</td><td>21151.7697754000</td><td>4230.3539550800</td></tr><tr><td>176</td><td>mipt</td><td>15</td><td>20409.7162454667</td><td>1360.6477496978</td></tr><tr><td>619</td><td>unina</td><td>6</td><td>20031.1877865000</td><td>3338.5312977500</td></tr><tr><td>33</td><td>unimelb</td><td>2</td><td>19839.7109610000</td><td>9919.8554805000</td></tr><tr><td>1505</td><td>cinematic-health</td><td>1</td><td>18526.1324480000</td><td>18526.1324480000</td></tr><tr><td>842</td><td>dell</td><td>2</td><td>18447.1008705000</td><td>9223.5504352500</td></tr><tr><td>1401</td><td>board-infinity</td><td>28</td><td>18370.7801065714</td><td>656.0992895204</td></tr><tr><td>1098</td><td>pwc-india</td><td>2</td><td>17472.2508660000</td><td>8736.1254330000</td></tr><tr><td>1723</td><td>fair-institute</td><td>1</td><td>16828.6126800000</td><td>16828.6126800000</td></tr><tr><td>1451</td><td>illinois-tech</td><td>13</td><td>16705.0231557692</td><td>1285.0017812130</td></tr><tr><td>264</td><td>sydney</td><td>2</td><td>15837.7923665000</td><td>7918.8961832500</td></tr><tr><td>517</td><td>northeastern</td><td>2</td><td>15241.9403790000</td><td>7620.9701895000</td></tr><tr><td>220</td><td>yonsei</td><td>4</td><td>14921.8879597500</td><td>3730.4719899375</td></tr><tr><td>1359</td><td>fred-hutch-cancer-center</td><td>1</td><td>14903.1046320000</td><td>14903.1046320000</td></tr><tr><td>528</td><td>tsinghua</td><td>2</td><td>14847.1264575000</td><td>7423.5632287500</td></tr><tr><td>785</td><td>voxy</td><td>3</td><td>14819.6878613333</td><td>4939.8959537778</td></tr><tr><td>924</td><td>oracle</td><td>1</td><td>14762.9967800000</td><td>14762.9967800000</td></tr><tr><td>836</td><td>niit</td><td>2</td><td>14759.3629235000</td><td>7379.6814617500</td></tr><tr><td>129</td><td>technion</td><td>1</td><td>14571.8155640000</td><td>14571.8155640000</td></tr><tr><td>658</td><td>palermo</td><td>9</td><td>14284.7107628889</td><td>1587.1900847654</td></tr><tr><td>546</td><td>aicpa</td><td>1</td><td>13555.3585260000</td><td>13555.3585260000</td></tr><tr><td>1160</td><td>lntedutech</td><td>36</td><td>13157.0126850278</td><td>365.4725745841</td></tr><tr><td>1891</td><td>simplilearn</td><td>9</td><td>12940.2227217778</td><td>1437.8025246420</td></tr><tr><td>1616</td><td>dassault-systemes</td><td>2</td><td>12910.7345990000</td><td>6455.3672995000</td></tr><tr><td>148</td><td>mcmaster</td><td>1</td><td>12420.5636760000</td><td>12420.5636760000</td></tr><tr><td>482</td><td>unity</td><td>4</td><td>12198.5540582500</td><td>3049.6385145625</td></tr><tr><td>255</td><td>uct</td><td>1</td><td>11968.7301350000</td><td>11968.7301350000</td></tr><tr><td>1862</td><td>acefitness</td><td>1</td><td>11946.9998490000</td><td>11946.9998490000</td></tr><tr><td>62</td><td>tecdemonterrey</td><td>22</td><td>11717.3719732273</td><td>532.6078169649</td></tr><tr><td>58</td><td>unam</td><td>18</td><td>11628.9020042778</td><td>646.0501113488</td></tr><tr><td>1734</td><td>packt</td><td>106</td><td>11530.4350612547</td><td>108.7776892571</td></tr><tr><td>276</td><td>tsu</td><td>4</td><td>11517.9679265000</td><td>2879.4919816250</td></tr><tr><td>75</td><td>taiwan</td><td>2</td><td>11253.9024375000</td><td>5626.9512187500</td></tr><tr><td>1403</td><td>whizlabs</td><td>17</td><td>11219.5379258824</td><td>659.9728191696</td></tr><tr><td>80</td><td>uab</td><td>4</td><td>11177.3168580000</td><td>2794.3292145000</td></tr><tr><td>1504</td><td>edureka</td><td>11</td><td>10463.9778491818</td><td>951.2707135620</td></tr><tr><td>1027</td><td>au</td><td>13</td><td>10118.0050329231</td><td>778.3080794556</td></tr><tr><td>221</td><td>usp</td><td>1</td><td>10084.4649350000</td><td>10084.4649350000</td></tr><tr><td>2551</td><td>cfr</td><td>1</td><td>9998.7718880000</td><td>9998.7718880000</td></tr><tr><td>742</td><td>howard</td><td>3</td><td>9835.6367096667</td><td>3278.5455698889</td></tr><tr><td>770</td><td>eiturbanmobility</td><td>1</td><td>9717.6127580000</td><td>9717.6127580000</td></tr><tr><td>1148</td><td>enviolo</td><td>1</td><td>9717.6127580000</td><td>9717.6127580000</td></tr><tr><td>156</td><td>uwa</td><td>2</td><td>9713.5444755000</td><td>4856.7722377500</td></tr><tr><td>350</td><td>austral</td><td>6</td><td>9503.5280965000</td><td>1583.9213494167</td></tr><tr><td>467</td><td>international-development-bank</td><td>1</td><td>9046.6062180000</td><td>9046.6062180000</td></tr><tr><td>450</td><td>intel</td><td>5</td><td>8991.4102984000</td><td>1798.2820596800</td></tr><tr><td>668</td><td>skku</td><td>1</td><td>8861.1684810000</td><td>8861.1684810000</td></tr><tr><td>45</td><td>cuhk</td><td>2</td><td>8652.5474570000</td><td>4326.2737285000</td></tr><tr><td>440</td><td>aibec</td><td>1</td><td>8521.4428900000</td><td>8521.4428900000</td></tr><tr><td>1586</td><td>pepsi</td><td>1</td><td>8041.5218680000</td><td>8041.5218680000</td></tr><tr><td>253</td><td>eitdigital</td><td>9</td><td>7765.9528374444</td><td>862.8836486049</td></tr><tr><td>1394</td><td>zoho</td><td>1</td><td>7299.1980180000</td><td>7299.1980180000</td></tr><tr><td>179</td><td>spbu</td><td>19</td><td>7172.8169744211</td><td>377.5166828643</td></tr><tr><td>460</td><td>mongodb</td><td>1</td><td>7166.4539220000</td><td>7166.4539220000</td></tr><tr><td>178</td><td>kaist</td><td>3</td><td>7128.3490766667</td><td>2376.1163588889</td></tr><tr><td>66</td><td>ep</td><td>2</td><td>7089.5423595000</td><td>3544.7711797500</td></tr><tr><td>555</td><td>glasgow</td><td>4</td><td>6885.5804432500</td><td>1721.3951108125</td></tr><tr><td>273</td><td>uniandes</td><td>13</td><td>6712.7019712308</td><td>516.3616900947</td></tr><tr><td>825</td><td>iadb</td><td>10</td><td>6665.3960320000</td><td>666.5396032000</td></tr><tr><td>1155</td><td>iisc</td><td>1</td><td>6659.8644260000</td><td>6659.8644260000</td></tr><tr><td>820</td><td>anaplan</td><td>1</td><td>5961.2190770000</td><td>5961.2190770000</td></tr><tr><td>282</td><td>esade</td><td>1</td><td>5935.7847920000</td><td>5935.7847920000</td></tr><tr><td>469</td><td>h2o</td><td>1</td><td>5798.4432180000</td><td>5798.4432180000</td></tr><tr><td>1489</td><td>universidades-anahuac</td><td>6</td><td>5727.7928168333</td><td>954.6321361389</td></tr><tr><td>2547</td><td>immersify</td><td>2</td><td>5689.2224155000</td><td>2844.6112077500</td></tr><tr><td>706</td><td>jgu</td><td>3</td><td>5439.0706180000</td><td>1813.0235393333</td></tr><tr><td>190</td><td>ucchile</td><td>5</td><td>4697.2240774000</td><td>939.4448154800</td></tr><tr><td>1682</td><td>openuniversity</td><td>1</td><td>4628.9713320000</td><td>4628.9713320000</td></tr><tr><td>955</td><td>iitg</td><td>2</td><td>4484.7335860000</td><td>2242.3667930000</td></tr><tr><td>715</td><td>ubits</td><td>1</td><td>4415.1441580000</td><td>4415.1441580000</td></tr><tr><td>47</td><td>nus</td><td>2</td><td>4138.7838340000</td><td>2069.3919170000</td></tr><tr><td>512</td><td>udk-berlin</td><td>1</td><td>4009.8691670000</td><td>4009.8691670000</td></tr><tr><td>304</td><td>creativetime</td><td>1</td><td>4009.8691670000</td><td>4009.8691670000</td></tr><tr><td>857</td><td>juniper</td><td>4</td><td>3812.4489450000</td><td>953.1122362500</td></tr><tr><td>1018</td><td>genentech</td><td>1</td><td>3691.8743580000</td><td>3691.8743580000</td></tr><tr><td>275</td><td>nsu</td><td>1</td><td>3659.0485780000</td><td>3659.0485780000</td></tr><tr><td>2984</td><td>adobedx</td><td>1</td><td>3276.2623550000</td><td>3276.2623550000</td></tr><tr><td>376</td><td>fia</td><td>27</td><td>3169.0958342593</td><td>117.3739197874</td></tr><tr><td>341</td><td>sta</td><td>1</td><td>2914.6505540000</td><td>2914.6505540000</td></tr><tr><td>728</td><td>ysbfb</td><td>1</td><td>2746.1208470000</td><td>2746.1208470000</td></tr><tr><td>188</td><td>fudan</td><td>2</td><td>2716.1698050000</td><td>1358.0849025000</td></tr><tr><td>280</td><td>uchile</td><td>1</td><td>2694.3219850000</td><td>2694.3219850000</td></tr><tr><td>745</td><td>rtve</td><td>1</td><td>2676.1094630000</td><td>2676.1094630000</td></tr><tr><td>493</td><td>elegion</td><td>2</td><td>2542.2092890000</td><td>1271.1046445000</td></tr><tr><td>627</td><td>alibaba</td><td>2</td><td>1970.8867890000</td><td>985.4433945000</td></tr><tr><td>852</td><td>pucp</td><td>1</td><td>1763.3603330000</td><td>1763.3603330000</td></tr><tr><td>234</td><td>xjtu</td><td>1</td><td>1211.7593930000</td><td>1211.7593930000</td></tr><tr><td>159</td><td>unil</td><td>1</td><td>1142.6976390000</td><td>1142.6976390000</td></tr><tr><td>726</td><td>imba</td><td>1</td><td>988.7667680000</td><td>988.7667680000</td></tr><tr><td>1478</td><td>samsung</td><td>1</td><td>973.2555010000</td><td>973.2555010000</td></tr><tr><td>281</td><td>mephi</td><td>2</td><td>822.0169270000</td><td>411.0084635000</td></tr><tr><td>252</td><td>ita</td><td>2</td><td>780.2884010000</td><td>390.1442005000</td></tr><tr><td>437</td><td>coursera-internal</td><td>1</td><td>780.0000000000</td><td>780.0000000000</td></tr><tr><td>312</td><td>mgimo</td><td>2</td><td>767.3611585000</td><td>383.6805792500</td></tr><tr><td>106</td><td>cet1886</td><td>1</td><td>757.4785960000</td><td>757.4785960000</td></tr><tr><td>1368</td><td>alignor</td><td>1</td><td>703.6521970000</td><td>703.6521970000</td></tr><tr><td>233</td><td>ustc</td><td>1</td><td>455.0140020000</td><td>455.0140020000</td></tr><tr><td>1103</td><td>rebrain</td><td>1</td><td>158.3946400000</td><td>158.3946400000</td></tr><tr><td>46</td><td>coursera</td><td>3</td><td>132.5834600000</td><td>44.1944866667</td></tr><tr><td>1119</td><td>unitec</td><td>1</td><td>85.4404480000</td><td>85.4404480000</td></tr><tr><td>899</td><td>financial-university</td><td>1</td><td>83.1813990000</td><td>83.1813990000</td></tr><tr><td>208</td><td>unicamp</td><td>1</td><td>56.9214370000</td><td>56.9214370000</td></tr><tr><td>1104</td><td>hackeru</td><td>1</td><td>33.9425880000</td><td>33.9425880000</td></tr><tr><td>313</td><td>spbpu</td><td>1</td><td>30.3051450000</td><td>30.3051450000</td></tr><tr><td>1026</td><td>gil</td><td>1</td><td>20.7031470000</td><td>20.7031470000</td></tr><tr><td>464</td><td>contented</td><td>1</td><td>19.9088640000</td><td>19.9088640000</td></tr><tr><td>120</td><td>newmexico</td><td>2</td><td>13.6148895000</td><td>6.8074447500</td></tr></tbody></table></div>"
      ]
     },
     "metadata": {
      "application/vnd.databricks.v1+output": {
       "addedWidgets": {},
       "aggData": [],
       "aggError": "",
       "aggOverflow": false,
       "aggSchema": [],
       "aggSeriesLimitReached": false,
       "aggType": "",
       "arguments": {},
       "columnCustomDisplayInfos": {},
       "data": [
        [
         "718",
         "intuit",
         1,
         "3186378.9915570000",
         "3186378.9915570000"
        ],
        [
         "1442",
         "hrci",
         1,
         "1960617.8171910000",
         "1960617.8171910000"
        ],
        [
         "463",
         "google",
         89,
         "1905826.8214789551",
         "21413.7845109995"
        ],
        [
         "1",
         "stanford",
         6,
         "1581230.2899481667",
         "263538.3816580278"
        ],
        [
         "475",
         "deeplearning-ai",
         15,
         "1285308.8640860000",
         "85687.2576057333"
        ],
        [
         "875",
         "tableau",
         1,
         "1169192.7333080000",
         "1169192.7333080000"
        ],
        [
         "496",
         "adobe",
         3,
         "773962.8322756667",
         "257987.6107585556"
        ],
        [
         "1571",
         "epic-games",
         1,
         "699876.9428170000",
         "699876.9428170000"
        ],
        [
         "532",
         "amazon",
         1,
         "528505.8192760000",
         "528505.8192760000"
        ],
        [
         "705",
         "microsoft",
         41,
         "524202.5290983659",
         "12785.4275389845"
        ],
        [
         "641",
         "meta",
         30,
         "453456.1990529667",
         "15115.2066350989"
        ],
        [
         "1190",
         "sap",
         2,
         "427317.4461930000",
         "213658.7230965000"
        ],
        [
         "652",
         "coursera-delete",
         5,
         "413965.2661100000",
         "82793.0532220000"
        ],
        [
         "59",
         "calarts",
         4,
         "383614.0707330000",
         "95903.5176832500"
        ],
        [
         "348",
         "ibm-skills-network",
         96,
         "364489.8066130104",
         "3796.7688188855"
        ],
        [
         "6",
         "penn",
         25,
         "358656.5080926400",
         "14346.2603237056"
        ],
        [
         "1500",
         "olay",
         1,
         "348308.4721250000",
         "348308.4721250000"
        ],
        [
         "107",
         "moma",
         2,
         "320435.3979740000",
         "160217.6989870000"
        ],
        [
         "1297",
         "keller-williams",
         1,
         "295023.6474530000",
         "295023.6474530000"
        ],
        [
         "329",
         "pwc",
         1,
         "283140.6577240000",
         "283140.6577240000"
        ],
        [
         "1481",
         "unilever",
         2,
         "261237.7078205000",
         "130618.8539102500"
        ],
        [
         "784",
         "pathstream",
         2,
         "257031.8270415000",
         "128515.9135207500"
        ],
        [
         "524",
         "iftf",
         1,
         "254066.8220340000",
         "254066.8220340000"
        ],
        [
         "254",
         "macquarie",
         10,
         "252525.0444574000",
         "25252.5044457400"
        ],
        [
         "40",
         "columbia",
         4,
         "235016.4111610000",
         "58754.1027902500"
        ],
        [
         "345",
         "bcg",
         2,
         "227179.9722660000",
         "113589.9861330000"
        ],
        [
         "37",
         "vanderbilt",
         28,
         "213800.9571200357",
         "7635.7484685727"
        ],
        [
         "556",
         "amii",
         2,
         "213529.2019500000",
         "106764.6009750000"
        ],
        [
         "338",
         "aws",
         16,
         "209021.7950902500",
         "13063.8621931406"
        ],
        [
         "1120",
         "adp",
         4,
         "208747.2044417500",
         "52186.8011104375"
        ],
        [
         "49",
         "unige",
         1,
         "192314.0345350000",
         "192314.0345350000"
        ],
        [
         "518",
         "edhec",
         2,
         "185494.6040625000",
         "92747.3020312500"
        ],
        [
         "3",
         "umich",
         50,
         "184356.8212666400",
         "3687.1364253328"
        ],
        [
         "18",
         "uva",
         9,
         "178185.5486351111",
         "19798.3942927901"
        ],
        [
         "9",
         "gatech",
         2,
         "177645.2010710000",
         "88822.6005355000"
        ],
        [
         "695",
         "salesforce",
         4,
         "177376.0912772500",
         "44344.0228193125"
        ],
        [
         "146",
         "ualberta",
         5,
         "176825.0557760000",
         "35365.0111552000"
        ],
        [
         "83",
         "ucdavis",
         22,
         "167235.4104340909",
         "7601.6095651860"
        ],
        [
         "829",
         "skillup-ed-tech",
         45,
         "159399.2825262889",
         "3542.2062783620"
        ],
        [
         "868",
         "eccouncil",
         1,
         "156269.2929400000",
         "156269.2929400000"
        ],
        [
         "1021",
         "novartis",
         2,
         "155961.8989620000",
         "77980.9494810000"
        ],
        [
         "67",
         "rutgers",
         6,
         "152585.7279713333",
         "25430.9546618889"
        ],
        [
         "131",
         "amsterdam",
         2,
         "144790.3970070000",
         "72395.1985035000"
        ],
        [
         "1512",
         "cisco",
         2,
         "144158.5353420000",
         "72079.2676710000"
        ],
        [
         "499",
         "nyif",
         3,
         "144095.8795046667",
         "48031.9598348889"
        ],
        [
         "34",
         "wesleyan",
         4,
         "136230.9140680000",
         "34057.7285170000"
        ],
        [
         "16",
         "epfl",
         2,
         "131694.2359795000",
         "65847.1179897500"
        ],
        [
         "54",
         "northwestern",
         5,
         "127310.4637382000",
         "25462.0927476400"
        ],
        [
         "1382",
         "medcerts",
         8,
         "120182.5124281250",
         "15022.8140535156"
        ],
        [
         "7",
         "duke",
         30,
         "115428.5144980667",
         "3847.6171499356"
        ],
        [
         "767",
         "nasm",
         5,
         "114527.1182000000",
         "22905.4236400000"
        ],
        [
         "72",
         "insead",
         4,
         "108655.5931492500",
         "27163.8982873125"
        ],
        [
         "15",
         "uw",
         4,
         "108164.3426752500",
         "27041.0856688125"
        ],
        [
         "2076",
         "xbox",
         2,
         "105998.9316910000",
         "52999.4658455000"
        ],
        [
         "752",
         "sofi",
         1,
         "105668.3718520000",
         "105668.3718520000"
        ],
        [
         "509",
         "palo-alto-networks",
         1,
         "101806.0096380000",
         "101806.0096380000"
        ],
        [
         "309",
         "nyu",
         3,
         "98081.6498880000",
         "32693.8832960000"
        ],
        [
         "649",
         "sv-academy",
         2,
         "97720.3555130000",
         "48860.1777565000"
        ],
        [
         "172",
         "iese",
         4,
         "97046.8694610000",
         "24261.7173652500"
        ],
        [
         "11",
         "utoronto",
         5,
         "96939.7557554000",
         "19387.9511510800"
        ],
        [
         "8",
         "jhu",
         53,
         "90612.4154026038",
         "1709.6682151435"
        ],
        [
         "487",
         "cloudera",
         1,
         "90248.2634600000",
         "90248.2634600000"
        ],
        [
         "1804",
         "snowflake",
         2,
         "86982.2875940000",
         "43491.1437970000"
        ],
        [
         "1659",
         "cfi",
         6,
         "86654.0542483333",
         "14442.3423747222"
        ],
        [
         "472",
         "isc2",
         5,
         "86247.0255972000",
         "17249.4051194400"
        ],
        [
         "1721",
         "kodekloud",
         1,
         "85965.5420890000",
         "85965.5420890000"
        ],
        [
         "434",
         "imperial",
         17,
         "85478.3531747647",
         "5028.1384220450"
        ],
        [
         "56",
         "ucsc",
         5,
         "85126.4729766000",
         "17025.2945953200"
        ],
        [
         "119",
         "uh",
         1,
         "84921.1386000000",
         "84921.1386000000"
        ],
        [
         "714",
         "goodwill",
         2,
         "84313.9351295000",
         "42156.9675647500"
        ],
        [
         "716",
         "ibkr",
         3,
         "83784.2466166667",
         "27928.0822055556"
        ],
        [
         "13",
         "rice",
         22,
         "80530.9862725455",
         "3660.4993760248"
        ],
        [
         "1322",
         "cvshealth",
         2,
         "80116.0376235000",
         "40058.0188117500"
        ],
        [
         "876",
         "uipath",
         1,
         "79762.0419620000",
         "79762.0419620000"
        ],
        [
         "21",
         "berklee",
         13,
         "79355.2497568462",
         "6104.2499812959"
        ],
        [
         "17",
         "illinois",
         37,
         "79345.9695811622",
         "2144.4856643557"
        ],
        [
         "458",
         "ubuffalo",
         7,
         "79037.7140438571",
         "11291.1020062653"
        ],
        [
         "303",
         "goldsmiths",
         4,
         "77819.5739497500",
         "19454.8934874375"
        ],
        [
         "53",
         "ucsd",
         17,
         "76910.5471659412",
         "4524.1498332907"
        ],
        [
         "26",
         "london",
         8,
         "74943.9275525000",
         "9367.9909440625"
        ],
        [
         "228",
         "michstate",
         7,
         "74492.9899761429",
         "10641.8557108776"
        ],
        [
         "575",
         "awit",
         3,
         "74020.8634876667",
         "24673.6211625556"
        ],
        [
         "498",
         "linuxfoundation",
         1,
         "73781.0379940000",
         "73781.0379940000"
        ],
        [
         "902",
         "liberty-mutual",
         1,
         "69923.2685390000",
         "69923.2685390000"
        ],
        [
         "30",
         "uci",
         42,
         "68247.9812563571",
         "1624.9519346752"
        ],
        [
         "297",
         "imt",
         2,
         "66418.4876850000",
         "33209.2438425000"
        ],
        [
         "717",
         "dmi",
         3,
         "66002.8555880000",
         "22000.9518626667"
        ],
        [
         "23",
         "emory",
         6,
         "65021.7639071667",
         "10836.9606511945"
        ],
        [
         "443",
         "googlecloud",
         103,
         "64457.3195652913",
         "625.7992190805"
        ],
        [
         "50",
         "minnesota",
         15,
         "64005.0055021333",
         "4267.0003668089"
        ],
        [
         "647",
         "icpm",
         1,
         "63846.5575320000",
         "63846.5575320000"
        ],
        [
         "170",
         "lbs",
         1,
         "62657.8924280000",
         "62657.8924280000"
        ],
        [
         "1004",
         "darden",
         2,
         "62347.9089570000",
         "31173.9544785000"
        ],
        [
         "783",
         "oakley",
         2,
         "62178.8555575000",
         "31089.4277787500"
        ],
        [
         "292",
         "iima",
         1,
         "62039.1779930000",
         "62039.1779930000"
        ],
        [
         "35",
         "hkust",
         8,
         "60100.1178687500",
         "7512.5147335938"
        ],
        [
         "1510",
         "starweaver",
         7,
         "58457.6556921429",
         "8351.0936703061"
        ],
        [
         "163",
         "pku",
         3,
         "57477.9032783333",
         "19159.3010927778"
        ],
        [
         "883",
         "ku",
         1,
         "57238.1864640000",
         "57238.1864640000"
        ],
        [
         "123",
         "usg",
         13,
         "57212.4803340769",
         "4400.9600256982"
        ],
        [
         "1189",
         "akamai",
         2,
         "57018.2620915000",
         "28509.1310457500"
        ],
        [
         "468",
         "yandex",
         4,
         "56779.4798502500",
         "14194.8699625625"
        ],
        [
         "68",
         "casewesternreserve",
         2,
         "56424.2216510000",
         "28212.1108255000"
        ],
        [
         "644",
         "aptly",
         2,
         "55094.6611085000",
         "27547.3305542500"
        ],
        [
         "520",
         "sas",
         8,
         "54222.7512685000",
         "6777.8439085625"
        ],
        [
         "14",
         "edinburgh",
         1,
         "54080.7047430000",
         "54080.7047430000"
        ],
        [
         "1345",
         "american-psychological-association",
         8,
         "53284.9605756250",
         "6660.6200719531"
        ],
        [
         "682",
         "isae-supaero",
         1,
         "52974.8709480000",
         "52974.8709480000"
        ],
        [
         "470",
         "autodesk",
         4,
         "52597.4112117500",
         "13149.3528029375"
        ],
        [
         "671",
         "databricks",
         2,
         "52095.1018665000",
         "26047.5509332500"
        ],
        [
         "1144",
         "tally",
         1,
         "51531.9823090000",
         "51531.9823090000"
        ],
        [
         "117",
         "suny",
         13,
         "50221.9219638462",
         "3863.2247664497"
        ],
        [
         "161",
         "hec",
         2,
         "50092.9704395000",
         "25046.4852197500"
        ],
        [
         "1692",
         "learnkarts",
         17,
         "48557.7936077059",
         "2856.3408004533"
        ],
        [
         "116",
         "wvu",
         1,
         "48494.1817110000",
         "48494.1817110000"
        ],
        [
         "223",
         "essec",
         4,
         "47731.4500500000",
         "11932.8625125000"
        ],
        [
         "175",
         "cbs",
         4,
         "45724.6361195000",
         "11431.1590298750"
        ],
        [
         "61",
         "ie",
         10,
         "43838.7678884000",
         "4383.8767888400"
        ],
        [
         "126",
         "cusystem",
         30,
         "43706.1417607667",
         "1456.8713920256"
        ],
        [
         "777",
         "dartmouth",
         9,
         "43106.7156256667",
         "4789.6350695185"
        ],
        [
         "554",
         "mathworks",
         5,
         "42752.5264124000",
         "8550.5052824800"
        ],
        [
         "1441",
         "fortinet",
         1,
         "42245.6850680000",
         "42245.6850680000"
        ],
        [
         "71",
         "boulder",
         110,
         "40858.5277944144",
         "371.4411617674"
        ],
        [
         "199",
         "lunduniversity",
         2,
         "39186.1756335000",
         "19593.0878167500"
        ],
        [
         "1733",
         "coursera-gen-ai",
         3,
         "39017.1002846667",
         "13005.7000948889"
        ],
        [
         "31",
         "ufl",
         1,
         "38383.6682010000",
         "38383.6682010000"
        ],
        [
         "697",
         "redhat",
         2,
         "38251.5103200000",
         "19125.7551600000"
        ],
        [
         "287",
         "asu",
         34,
         "38241.5922374118",
         "1124.7527128651"
        ],
        [
         "215",
         "isb",
         3,
         "37216.9996856667",
         "12405.6665618889"
        ],
        [
         "1425",
         "grammys",
         2,
         "36928.0181875000",
         "18464.0090937500"
        ],
        [
         "336",
         "cisco-learning",
         1,
         "36697.8801070000",
         "36697.8801070000"
        ],
        [
         "1207",
         "ibm",
         8,
         "36188.5028891250",
         "4523.5628611406"
        ],
        [
         "1295",
         "comptia",
         2,
         "35777.1065670000",
         "17888.5532835000"
        ],
        [
         "527",
         "learnquest",
         34,
         "35391.9585789118",
         "1040.9399582033"
        ],
        [
         "1019",
         "arm",
         1,
         "34766.3255440000",
         "34766.3255440000"
        ],
        [
         "803",
         "notredame",
         1,
         "34228.6565840000",
         "34228.6565840000"
        ],
        [
         "32",
         "umd",
         19,
         "32303.6292915789",
         "1700.1910153463"
        ],
        [
         "78",
         "tum",
         2,
         "31839.2750350000",
         "15919.6375175000"
        ],
        [
         "2335",
         "said-business-school-university-of-oxford",
         2,
         "31762.3617555000",
         "15881.1808777500"
        ],
        [
         "733",
         "parsons",
         8,
         "29797.4031167500",
         "3724.6753895938"
        ],
        [
         "1501",
         "educba",
         9,
         "29526.4281064444",
         "3280.7142340494"
        ],
        [
         "150",
         "sjtu",
         2,
         "29263.6605510000",
         "14631.8302755000"
        ],
        [
         "781",
         "siemens",
         3,
         "28958.8776933333",
         "9652.9592311111"
        ],
        [
         "639",
         "certnexus",
         3,
         "28648.0581046667",
         "9549.3527015556"
        ],
        [
         "610",
         "eldf",
         11,
         "28135.2607071818",
         "2557.7509733802"
        ],
        [
         "888",
         "cfainstitute",
         1,
         "27341.9932560000",
         "27341.9932560000"
        ],
        [
         "109",
         "yale",
         3,
         "27302.8985040000",
         "9100.9661680000"
        ],
        [
         "987",
         "splunk",
         2,
         "27118.2746685000",
         "13559.1373342500"
        ],
        [
         "64",
         "lmu",
         1,
         "26441.9197600000",
         "26441.9197600000"
        ],
        [
         "1794",
         "kotter",
         1,
         "26176.1077300000",
         "26176.1077300000"
        ],
        [
         "1324",
         "scrimba",
         18,
         "25524.3045891667",
         "1418.0169216204"
        ],
        [
         "160",
         "hse",
         12,
         "25264.2040815833",
         "2105.3503401319"
        ],
        [
         "27",
         "ismms",
         2,
         "24511.3968180000",
         "12255.6984090000"
        ],
        [
         "776",
         "qmul",
         5,
         "24171.7397426000",
         "4834.3479485200"
        ],
        [
         "459",
         "leeds",
         1,
         "23866.8755700000",
         "23866.8755700000"
        ],
        [
         "337",
         "royalholloway",
         1,
         "23859.2665900000",
         "23859.2665900000"
        ],
        [
         "788",
         "codio",
         17,
         "23651.5945664706",
         "1391.2702686159"
        ],
        [
         "1289",
         "fractal-analytics",
         5,
         "23143.1101996000",
         "4628.6220399200"
        ],
        [
         "465",
         "mailru",
         2,
         "22853.0736820000",
         "11426.5368410000"
        ],
        [
         "692",
         "infosecinstitute",
         15,
         "21547.6149776667",
         "1436.5076651778"
        ],
        [
         "485",
         "hubspot-academy",
         5,
         "21520.2831084000",
         "4304.0566216800"
        ],
        [
         "568",
         "automation-anywhere",
         1,
         "21492.1206020000",
         "21492.1206020000"
        ],
        [
         "405",
         "polimi",
         5,
         "21151.7697754000",
         "4230.3539550800"
        ],
        [
         "176",
         "mipt",
         15,
         "20409.7162454667",
         "1360.6477496978"
        ],
        [
         "619",
         "unina",
         6,
         "20031.1877865000",
         "3338.5312977500"
        ],
        [
         "33",
         "unimelb",
         2,
         "19839.7109610000",
         "9919.8554805000"
        ],
        [
         "1505",
         "cinematic-health",
         1,
         "18526.1324480000",
         "18526.1324480000"
        ],
        [
         "842",
         "dell",
         2,
         "18447.1008705000",
         "9223.5504352500"
        ],
        [
         "1401",
         "board-infinity",
         28,
         "18370.7801065714",
         "656.0992895204"
        ],
        [
         "1098",
         "pwc-india",
         2,
         "17472.2508660000",
         "8736.1254330000"
        ],
        [
         "1723",
         "fair-institute",
         1,
         "16828.6126800000",
         "16828.6126800000"
        ],
        [
         "1451",
         "illinois-tech",
         13,
         "16705.0231557692",
         "1285.0017812130"
        ],
        [
         "264",
         "sydney",
         2,
         "15837.7923665000",
         "7918.8961832500"
        ],
        [
         "517",
         "northeastern",
         2,
         "15241.9403790000",
         "7620.9701895000"
        ],
        [
         "220",
         "yonsei",
         4,
         "14921.8879597500",
         "3730.4719899375"
        ],
        [
         "1359",
         "fred-hutch-cancer-center",
         1,
         "14903.1046320000",
         "14903.1046320000"
        ],
        [
         "528",
         "tsinghua",
         2,
         "14847.1264575000",
         "7423.5632287500"
        ],
        [
         "785",
         "voxy",
         3,
         "14819.6878613333",
         "4939.8959537778"
        ],
        [
         "924",
         "oracle",
         1,
         "14762.9967800000",
         "14762.9967800000"
        ],
        [
         "836",
         "niit",
         2,
         "14759.3629235000",
         "7379.6814617500"
        ],
        [
         "129",
         "technion",
         1,
         "14571.8155640000",
         "14571.8155640000"
        ],
        [
         "658",
         "palermo",
         9,
         "14284.7107628889",
         "1587.1900847654"
        ],
        [
         "546",
         "aicpa",
         1,
         "13555.3585260000",
         "13555.3585260000"
        ],
        [
         "1160",
         "lntedutech",
         36,
         "13157.0126850278",
         "365.4725745841"
        ],
        [
         "1891",
         "simplilearn",
         9,
         "12940.2227217778",
         "1437.8025246420"
        ],
        [
         "1616",
         "dassault-systemes",
         2,
         "12910.7345990000",
         "6455.3672995000"
        ],
        [
         "148",
         "mcmaster",
         1,
         "12420.5636760000",
         "12420.5636760000"
        ],
        [
         "482",
         "unity",
         4,
         "12198.5540582500",
         "3049.6385145625"
        ],
        [
         "255",
         "uct",
         1,
         "11968.7301350000",
         "11968.7301350000"
        ],
        [
         "1862",
         "acefitness",
         1,
         "11946.9998490000",
         "11946.9998490000"
        ],
        [
         "62",
         "tecdemonterrey",
         22,
         "11717.3719732273",
         "532.6078169649"
        ],
        [
         "58",
         "unam",
         18,
         "11628.9020042778",
         "646.0501113488"
        ],
        [
         "1734",
         "packt",
         106,
         "11530.4350612547",
         "108.7776892571"
        ],
        [
         "276",
         "tsu",
         4,
         "11517.9679265000",
         "2879.4919816250"
        ],
        [
         "75",
         "taiwan",
         2,
         "11253.9024375000",
         "5626.9512187500"
        ],
        [
         "1403",
         "whizlabs",
         17,
         "11219.5379258824",
         "659.9728191696"
        ],
        [
         "80",
         "uab",
         4,
         "11177.3168580000",
         "2794.3292145000"
        ],
        [
         "1504",
         "edureka",
         11,
         "10463.9778491818",
         "951.2707135620"
        ],
        [
         "1027",
         "au",
         13,
         "10118.0050329231",
         "778.3080794556"
        ],
        [
         "221",
         "usp",
         1,
         "10084.4649350000",
         "10084.4649350000"
        ],
        [
         "2551",
         "cfr",
         1,
         "9998.7718880000",
         "9998.7718880000"
        ],
        [
         "742",
         "howard",
         3,
         "9835.6367096667",
         "3278.5455698889"
        ],
        [
         "770",
         "eiturbanmobility",
         1,
         "9717.6127580000",
         "9717.6127580000"
        ],
        [
         "1148",
         "enviolo",
         1,
         "9717.6127580000",
         "9717.6127580000"
        ],
        [
         "156",
         "uwa",
         2,
         "9713.5444755000",
         "4856.7722377500"
        ],
        [
         "350",
         "austral",
         6,
         "9503.5280965000",
         "1583.9213494167"
        ],
        [
         "467",
         "international-development-bank",
         1,
         "9046.6062180000",
         "9046.6062180000"
        ],
        [
         "450",
         "intel",
         5,
         "8991.4102984000",
         "1798.2820596800"
        ],
        [
         "668",
         "skku",
         1,
         "8861.1684810000",
         "8861.1684810000"
        ],
        [
         "45",
         "cuhk",
         2,
         "8652.5474570000",
         "4326.2737285000"
        ],
        [
         "440",
         "aibec",
         1,
         "8521.4428900000",
         "8521.4428900000"
        ],
        [
         "1586",
         "pepsi",
         1,
         "8041.5218680000",
         "8041.5218680000"
        ],
        [
         "253",
         "eitdigital",
         9,
         "7765.9528374444",
         "862.8836486049"
        ],
        [
         "1394",
         "zoho",
         1,
         "7299.1980180000",
         "7299.1980180000"
        ],
        [
         "179",
         "spbu",
         19,
         "7172.8169744211",
         "377.5166828643"
        ],
        [
         "460",
         "mongodb",
         1,
         "7166.4539220000",
         "7166.4539220000"
        ],
        [
         "178",
         "kaist",
         3,
         "7128.3490766667",
         "2376.1163588889"
        ],
        [
         "66",
         "ep",
         2,
         "7089.5423595000",
         "3544.7711797500"
        ],
        [
         "555",
         "glasgow",
         4,
         "6885.5804432500",
         "1721.3951108125"
        ],
        [
         "273",
         "uniandes",
         13,
         "6712.7019712308",
         "516.3616900947"
        ],
        [
         "825",
         "iadb",
         10,
         "6665.3960320000",
         "666.5396032000"
        ],
        [
         "1155",
         "iisc",
         1,
         "6659.8644260000",
         "6659.8644260000"
        ],
        [
         "820",
         "anaplan",
         1,
         "5961.2190770000",
         "5961.2190770000"
        ],
        [
         "282",
         "esade",
         1,
         "5935.7847920000",
         "5935.7847920000"
        ],
        [
         "469",
         "h2o",
         1,
         "5798.4432180000",
         "5798.4432180000"
        ],
        [
         "1489",
         "universidades-anahuac",
         6,
         "5727.7928168333",
         "954.6321361389"
        ],
        [
         "2547",
         "immersify",
         2,
         "5689.2224155000",
         "2844.6112077500"
        ],
        [
         "706",
         "jgu",
         3,
         "5439.0706180000",
         "1813.0235393333"
        ],
        [
         "190",
         "ucchile",
         5,
         "4697.2240774000",
         "939.4448154800"
        ],
        [
         "1682",
         "openuniversity",
         1,
         "4628.9713320000",
         "4628.9713320000"
        ],
        [
         "955",
         "iitg",
         2,
         "4484.7335860000",
         "2242.3667930000"
        ],
        [
         "715",
         "ubits",
         1,
         "4415.1441580000",
         "4415.1441580000"
        ],
        [
         "47",
         "nus",
         2,
         "4138.7838340000",
         "2069.3919170000"
        ],
        [
         "512",
         "udk-berlin",
         1,
         "4009.8691670000",
         "4009.8691670000"
        ],
        [
         "304",
         "creativetime",
         1,
         "4009.8691670000",
         "4009.8691670000"
        ],
        [
         "857",
         "juniper",
         4,
         "3812.4489450000",
         "953.1122362500"
        ],
        [
         "1018",
         "genentech",
         1,
         "3691.8743580000",
         "3691.8743580000"
        ],
        [
         "275",
         "nsu",
         1,
         "3659.0485780000",
         "3659.0485780000"
        ],
        [
         "2984",
         "adobedx",
         1,
         "3276.2623550000",
         "3276.2623550000"
        ],
        [
         "376",
         "fia",
         27,
         "3169.0958342593",
         "117.3739197874"
        ],
        [
         "341",
         "sta",
         1,
         "2914.6505540000",
         "2914.6505540000"
        ],
        [
         "728",
         "ysbfb",
         1,
         "2746.1208470000",
         "2746.1208470000"
        ],
        [
         "188",
         "fudan",
         2,
         "2716.1698050000",
         "1358.0849025000"
        ],
        [
         "280",
         "uchile",
         1,
         "2694.3219850000",
         "2694.3219850000"
        ],
        [
         "745",
         "rtve",
         1,
         "2676.1094630000",
         "2676.1094630000"
        ],
        [
         "493",
         "elegion",
         2,
         "2542.2092890000",
         "1271.1046445000"
        ],
        [
         "627",
         "alibaba",
         2,
         "1970.8867890000",
         "985.4433945000"
        ],
        [
         "852",
         "pucp",
         1,
         "1763.3603330000",
         "1763.3603330000"
        ],
        [
         "234",
         "xjtu",
         1,
         "1211.7593930000",
         "1211.7593930000"
        ],
        [
         "159",
         "unil",
         1,
         "1142.6976390000",
         "1142.6976390000"
        ],
        [
         "726",
         "imba",
         1,
         "988.7667680000",
         "988.7667680000"
        ],
        [
         "1478",
         "samsung",
         1,
         "973.2555010000",
         "973.2555010000"
        ],
        [
         "281",
         "mephi",
         2,
         "822.0169270000",
         "411.0084635000"
        ],
        [
         "252",
         "ita",
         2,
         "780.2884010000",
         "390.1442005000"
        ],
        [
         "437",
         "coursera-internal",
         1,
         "780.0000000000",
         "780.0000000000"
        ],
        [
         "312",
         "mgimo",
         2,
         "767.3611585000",
         "383.6805792500"
        ],
        [
         "106",
         "cet1886",
         1,
         "757.4785960000",
         "757.4785960000"
        ],
        [
         "1368",
         "alignor",
         1,
         "703.6521970000",
         "703.6521970000"
        ],
        [
         "233",
         "ustc",
         1,
         "455.0140020000",
         "455.0140020000"
        ],
        [
         "1103",
         "rebrain",
         1,
         "158.3946400000",
         "158.3946400000"
        ],
        [
         "46",
         "coursera",
         3,
         "132.5834600000",
         "44.1944866667"
        ],
        [
         "1119",
         "unitec",
         1,
         "85.4404480000",
         "85.4404480000"
        ],
        [
         "899",
         "financial-university",
         1,
         "83.1813990000",
         "83.1813990000"
        ],
        [
         "208",
         "unicamp",
         1,
         "56.9214370000",
         "56.9214370000"
        ],
        [
         "1104",
         "hackeru",
         1,
         "33.9425880000",
         "33.9425880000"
        ],
        [
         "313",
         "spbpu",
         1,
         "30.3051450000",
         "30.3051450000"
        ],
        [
         "1026",
         "gil",
         1,
         "20.7031470000",
         "20.7031470000"
        ],
        [
         "464",
         "contented",
         1,
         "19.9088640000",
         "19.9088640000"
        ],
        [
         "120",
         "newmexico",
         2,
         "13.6148895000",
         "6.8074447500"
        ]
       ],
       "datasetInfos": [],
       "dbfsResultPath": null,
       "isJsonSchema": true,
       "metadata": {
        "sqlStatementIds": [
         "01f05b6f-7c30-1eb6-a9e6-71a3c3ac63d8"
        ]
       },
       "overflow": false,
       "plotOptions": {
        "customPlotOptions": {},
        "displayType": "table",
        "pivotAggregation": null,
        "pivotColumns": null,
        "xColumns": null,
        "yColumns": null
       },
       "removedWidgets": [],
       "schema": [
        {
         "metadata": "{}",
         "name": "partner_id",
         "type": "\"string\""
        },
        {
         "metadata": "{}",
         "name": "partner_slug",
         "type": "\"string\""
        },
        {
         "metadata": "{}",
         "name": "number_of_specializations",
         "type": "\"long\""
        },
        {
         "metadata": "{}",
         "name": "avg_yearly_revenue_across_s12ns",
         "type": "\"decimal\""
        },
        {
         "metadata": "{}",
         "name": "avg_yearly_revenue_per_s12n",
         "type": "\"decimal\""
        }
       ],
       "type": "table"
      }
     },
     "output_type": "display_data"
    }
   ],
   "source": [
    "select * from dev.bi.s12n_partner_average_annual_b2c_revenue_mgtv order by avg_yearly_revenue_across_s12ns desc"
   ]
  }
 ],
 "metadata": {
  "application/vnd.databricks.v1+notebook": {
   "computePreferences": null,
   "dashboards": [],
   "environmentMetadata": {
    "base_environment": "",
    "environment_version": "2"
   },
   "inputWidgetPreferences": null,
   "language": "sql",
   "notebookMetadata": {
    "pythonIndentUnit": 2
   },
   "notebookName": "B2C S12N Partner Mapping & Average Revenue MG",
   "widgets": {}
  },
  "language_info": {
   "name": "sql"
  }
 },
 "nbformat": 4,
 "nbformat_minor": 0
}
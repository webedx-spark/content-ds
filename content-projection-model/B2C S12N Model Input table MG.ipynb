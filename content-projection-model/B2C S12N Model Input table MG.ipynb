{
 "cells": [
  {
   "cell_type": "code",
   "execution_count": 0,
   "metadata": {
    "application/vnd.databricks.v1+cell": {
     "cellMetadata": {
      "byteLimit": 2048000,
      "rowLimit": 10000
     },
     "inputWidgets": {},
     "nuid": "ac7fd3be-2af0-43f8-899d-21b4009d8fb4",
     "showTitle": false,
     "tableResultSettingsMap": {},
     "title": ""
    }
   },
   "outputs": [],
   "source": [
    "-- drop table if exists dev.bi.s12n_partner_cluster_ranks_mgtv;\n",
    "-- create table dev.bi.s12n_partner_cluster_ranks_mgtv \n",
    "-- as \n",
    "-- select * from dev.general.s12n_partner_cluster_ranks;\n",
    "\n",
    "-- select base_phoenix_specialization_id,count(*) as cnt from dev.bi.s12n_estimated_b2c_revenue_aggregated_adjusted_mgtv group by 1 order by 2 desc limit 100\n",
    "-- where base_phoenix_specialization_id = '--I-GVG8TjSxWxqmqcbomg'\n",
    "\n",
    "-- select max(date_month) from dev.bi.s12n_estimated_b2c_revenue_aggregated_mgtv"
   ]
  },
  {
   "cell_type": "markdown",
   "metadata": {
    "application/vnd.databricks.v1+cell": {
     "cellMetadata": {
      "byteLimit": 2048000,
      "rowLimit": 10000
     },
     "inputWidgets": {},
     "nuid": "a7d1a2ac-76f8-4b3d-8a9c-b350a81ee174",
     "showTitle": false,
     "tableResultSettingsMap": {},
     "title": ""
    }
   },
   "source": [
    "# Adjusting Revenue for content with less than 12 months"
   ]
  },
  {
   "cell_type": "code",
   "execution_count": 0,
   "metadata": {
    "application/vnd.databricks.v1+cell": {
     "cellMetadata": {
      "byteLimit": 2048000,
      "rowLimit": 10000
     },
     "inputWidgets": {},
     "nuid": "c8251386-dd63-42ed-b8b5-50a1bdfef97e",
     "showTitle": false,
     "tableResultSettingsMap": {},
     "title": ""
    }
   },
   "outputs": [
    {
     "output_type": "display_data",
     "data": {
      "text/html": [
       "<style scoped>\n",
       "  .table-result-container {\n",
       "    max-height: 300px;\n",
       "    overflow: auto;\n",
       "  }\n",
       "  table, th, td {\n",
       "    border: 1px solid black;\n",
       "    border-collapse: collapse;\n",
       "  }\n",
       "  th, td {\n",
       "    padding: 5px;\n",
       "  }\n",
       "  th {\n",
       "    text-align: left;\n",
       "  }\n",
       "</style><div class='table-result-container'><table class='table-result'><thead style='background-color: white'><tr></tr></thead><tbody></tbody></table></div>"
      ]
     },
     "metadata": {
      "application/vnd.databricks.v1+output": {
       "addedWidgets": {},
       "aggData": [],
       "aggError": "",
       "aggOverflow": false,
       "aggSchema": [],
       "aggSeriesLimitReached": false,
       "aggType": "",
       "arguments": {},
       "columnCustomDisplayInfos": {},
       "data": [],
       "datasetInfos": [],
       "dbfsResultPath": null,
       "isJsonSchema": true,
       "metadata": {},
       "overflow": false,
       "plotOptions": {
        "customPlotOptions": {},
        "displayType": "table",
        "pivotAggregation": null,
        "pivotColumns": null,
        "xColumns": null,
        "yColumns": null
       },
       "removedWidgets": [],
       "schema": [],
       "type": "table"
      }
     },
     "output_type": "display_data"
    },
    {
     "output_type": "display_data",
     "data": {
      "text/html": [
       "<style scoped>\n",
       "  .table-result-container {\n",
       "    max-height: 300px;\n",
       "    overflow: auto;\n",
       "  }\n",
       "  table, th, td {\n",
       "    border: 1px solid black;\n",
       "    border-collapse: collapse;\n",
       "  }\n",
       "  th, td {\n",
       "    padding: 5px;\n",
       "  }\n",
       "  th {\n",
       "    text-align: left;\n",
       "  }\n",
       "</style><div class='table-result-container'><table class='table-result'><thead style='background-color: white'><tr><th>month</th><th>specialization</th><th>rolling_s12n_multiple</th><th>rolling_course_multiple</th></tr></thead><tbody><tr><td>1</td><td>0.0143</td><td>0.0143</td><td>0.0878</td></tr><tr><td>2</td><td>0.0529</td><td>0.06720000000000001</td><td>0.2187</td></tr><tr><td>3</td><td>0.0735</td><td>0.1407</td><td>0.3169</td></tr><tr><td>4</td><td>0.0842</td><td>0.2249</td><td>0.41000000000000003</td></tr><tr><td>5</td><td>0.0926</td><td>0.3175</td><td>0.49510000000000004</td></tr><tr><td>6</td><td>0.0987</td><td>0.4162</td><td>0.5771000000000001</td></tr><tr><td>7</td><td>0.0989</td><td>0.5151</td><td>0.6537000000000001</td></tr><tr><td>8</td><td>0.0988</td><td>0.6139</td><td>0.7222000000000001</td></tr><tr><td>9</td><td>0.0971</td><td>0.711</td><td>0.7938000000000001</td></tr><tr><td>10</td><td>0.0959</td><td>0.8069</td><td>0.8631000000000001</td></tr><tr><td>11</td><td>0.0964</td><td>0.9033</td><td>0.932</td></tr><tr><td>12</td><td>0.0967</td><td>1.0</td><td>0.9999</td></tr></tbody></table></div>"
      ]
     },
     "metadata": {
      "application/vnd.databricks.v1+output": {
       "addedWidgets": {},
       "aggData": [],
       "aggError": "",
       "aggOverflow": false,
       "aggSchema": [],
       "aggSeriesLimitReached": false,
       "aggType": "",
       "arguments": {},
       "columnCustomDisplayInfos": {},
       "data": [
        [
         1,
         0.0143,
         0.0143,
         0.0878
        ],
        [
         2,
         0.0529,
         0.06720000000000001,
         0.2187
        ],
        [
         3,
         0.0735,
         0.1407,
         0.3169
        ],
        [
         4,
         0.0842,
         0.2249,
         0.41000000000000003
        ],
        [
         5,
         0.0926,
         0.3175,
         0.49510000000000004
        ],
        [
         6,
         0.0987,
         0.4162,
         0.5771000000000001
        ],
        [
         7,
         0.0989,
         0.5151,
         0.6537000000000001
        ],
        [
         8,
         0.0988,
         0.6139,
         0.7222000000000001
        ],
        [
         9,
         0.0971,
         0.711,
         0.7938000000000001
        ],
        [
         10,
         0.0959,
         0.8069,
         0.8631000000000001
        ],
        [
         11,
         0.0964,
         0.9033,
         0.932
        ],
        [
         12,
         0.0967,
         1.0,
         0.9999
        ]
       ],
       "datasetInfos": [],
       "dbfsResultPath": null,
       "isJsonSchema": true,
       "metadata": {},
       "overflow": false,
       "plotOptions": {
        "customPlotOptions": {},
        "displayType": "table",
        "pivotAggregation": null,
        "pivotColumns": null,
        "xColumns": null,
        "yColumns": null
       },
       "removedWidgets": [],
       "schema": [
        {
         "metadata": "{}",
         "name": "month",
         "type": "\"integer\""
        },
        {
         "metadata": "{}",
         "name": "specialization",
         "type": "\"double\""
        },
        {
         "metadata": "{}",
         "name": "rolling_s12n_multiple",
         "type": "\"double\""
        },
        {
         "metadata": "{}",
         "name": "rolling_course_multiple",
         "type": "\"double\""
        }
       ],
       "type": "table"
      }
     },
     "output_type": "display_data"
    }
   ],
   "source": [
    "%sql\n",
    "create or replace view dev.bi.rolling_finance_new_content_curves_mgtv\n",
    "as\n",
    "select month,specialization,\n",
    "SUM(specialization) OVER (ORDER BY month ROWS BETWEEN UNBOUNDED PRECEDING and CURRENT ROW) AS rolling_s12n_multiple,\n",
    "SUM(course) OVER (ORDER BY month ROWS BETWEEN UNBOUNDED PRECEDING and CURRENT ROW) AS rolling_course_multiple\n",
    "from coursera_warehouse.edw_bi.finance_new_content_curves\n",
    "where month <= 12;\n",
    "\n",
    "select * from dev.bi.rolling_finance_new_content_curves_mgtv"
   ]
  },
  {
   "cell_type": "code",
   "execution_count": 0,
   "metadata": {
    "application/vnd.databricks.v1+cell": {
     "cellMetadata": {
      "byteLimit": 2048000,
      "rowLimit": 10000
     },
     "inputWidgets": {},
     "nuid": "01fc4409-73bb-4eaf-8b48-013d0ba4535c",
     "showTitle": false,
     "tableResultSettingsMap": {},
     "title": ""
    }
   },
   "outputs": [
    {
     "output_type": "display_data",
     "data": {
      "text/html": [
       "<style scoped>\n",
       "  .table-result-container {\n",
       "    max-height: 300px;\n",
       "    overflow: auto;\n",
       "  }\n",
       "  table, th, td {\n",
       "    border: 1px solid black;\n",
       "    border-collapse: collapse;\n",
       "  }\n",
       "  th, td {\n",
       "    padding: 5px;\n",
       "  }\n",
       "  th {\n",
       "    text-align: left;\n",
       "  }\n",
       "</style><div class='table-result-container'><table class='table-result'><thead style='background-color: white'><tr></tr></thead><tbody></tbody></table></div>"
      ]
     },
     "metadata": {
      "application/vnd.databricks.v1+output": {
       "addedWidgets": {},
       "aggData": [],
       "aggError": "",
       "aggOverflow": false,
       "aggSchema": [],
       "aggSeriesLimitReached": false,
       "aggType": "",
       "arguments": {},
       "columnCustomDisplayInfos": {},
       "data": [],
       "datasetInfos": [],
       "dbfsResultPath": null,
       "isJsonSchema": true,
       "metadata": {},
       "overflow": false,
       "plotOptions": {
        "customPlotOptions": {},
        "displayType": "table",
        "pivotAggregation": null,
        "pivotColumns": null,
        "xColumns": null,
        "yColumns": null
       },
       "removedWidgets": [],
       "schema": [],
       "type": "table"
      }
     },
     "output_type": "display_data"
    },
    {
     "output_type": "display_data",
     "data": {
      "text/html": [
       "<style scoped>\n",
       "  .table-result-container {\n",
       "    max-height: 300px;\n",
       "    overflow: auto;\n",
       "  }\n",
       "  table, th, td {\n",
       "    border: 1px solid black;\n",
       "    border-collapse: collapse;\n",
       "  }\n",
       "  th, td {\n",
       "    padding: 5px;\n",
       "  }\n",
       "  th {\n",
       "    text-align: left;\n",
       "  }\n",
       "</style><div class='table-result-container'><table class='table-result'><thead style='background-color: white'><tr><th>date_month</th><th>launch_month</th><th>base_phoenix_specialization_id</th><th>y1_b2c_revenue</th></tr></thead><tbody><tr><td>2024-10-01</td><td>2024-10-01</td><td>--I-GVG8TjSxWxqmqcbomg</td><td>345593.9793866612</td></tr></tbody></table></div>"
      ]
     },
     "metadata": {
      "application/vnd.databricks.v1+output": {
       "addedWidgets": {},
       "aggData": [],
       "aggError": "",
       "aggOverflow": false,
       "aggSchema": [],
       "aggSeriesLimitReached": false,
       "aggType": "",
       "arguments": {},
       "columnCustomDisplayInfos": {},
       "data": [
        [
         "2024-10-01",
         "2024-10-01",
         "--I-GVG8TjSxWxqmqcbomg",
         345593.9793866612
        ]
       ],
       "datasetInfos": [],
       "dbfsResultPath": null,
       "isJsonSchema": true,
       "metadata": {},
       "overflow": false,
       "plotOptions": {
        "customPlotOptions": {},
        "displayType": "table",
        "pivotAggregation": null,
        "pivotColumns": null,
        "xColumns": null,
        "yColumns": null
       },
       "removedWidgets": [],
       "schema": [
        {
         "metadata": "{}",
         "name": "date_month",
         "type": "\"date\""
        },
        {
         "metadata": "{}",
         "name": "launch_month",
         "type": "\"date\""
        },
        {
         "metadata": "{}",
         "name": "base_phoenix_specialization_id",
         "type": "\"string\""
        },
        {
         "metadata": "{}",
         "name": "y1_b2c_revenue",
         "type": "\"double\""
        }
       ],
       "type": "table"
      }
     },
     "output_type": "display_data"
    }
   ],
   "source": [
    "create or replace view dev.bi.s12n_estimated_b2c_revenue_aggregated_adjusted_mgtv\n",
    "as\n",
    "with revenue_data as (select *,\n",
    "                      DATEDIFF(MONTH , launch_month, (select max(date_month) from dev.bi.s12n_estimated_b2c_revenue_aggregated_mgtv)) + 1 as mtd\n",
    "                      from dev.bi.s12n_estimated_b2c_revenue_aggregated_mgtv\n",
    "                      where launch_month = date_month)\n",
    "select \n",
    "a.date_month,\n",
    "a.launch_month,\n",
    "a.base_phoenix_specialization_id,\n",
    "-- a.rolling_n12m_b2c_revenue,\n",
    "-- f.rolling_s12n_multiple,\n",
    "case when a.mtd >12 then a.rolling_n12m_b2c_revenue else a.rolling_n12m_b2c_revenue/f.rolling_s12n_multiple end as y1_b2c_revenue\n",
    "from revenue_data a\n",
    "left join dev.bi.rolling_finance_new_content_curves f on a.mtd = f.month;\n",
    "\n",
    "select * from dev.bi.s12n_estimated_b2c_revenue_aggregated_adjusted_mgtv \n",
    "where base_phoenix_specialization_id = '--I-GVG8TjSxWxqmqcbomg'"
   ]
  },
  {
   "cell_type": "code",
   "execution_count": 0,
   "metadata": {
    "application/vnd.databricks.v1+cell": {
     "cellMetadata": {
      "byteLimit": 2048000,
      "rowLimit": 10000
     },
     "inputWidgets": {},
     "nuid": "ed2e9f93-71a8-483f-b84e-1be9f8b753ae",
     "showTitle": false,
     "tableResultSettingsMap": {},
     "title": ""
    }
   },
   "outputs": [
    {
     "output_type": "display_data",
     "data": {
      "text/html": [
       "<style scoped>\n",
       "  .table-result-container {\n",
       "    max-height: 300px;\n",
       "    overflow: auto;\n",
       "  }\n",
       "  table, th, td {\n",
       "    border: 1px solid black;\n",
       "    border-collapse: collapse;\n",
       "  }\n",
       "  th, td {\n",
       "    padding: 5px;\n",
       "  }\n",
       "  th {\n",
       "    text-align: left;\n",
       "  }\n",
       "</style><div class='table-result-container'><table class='table-result'><thead style='background-color: white'><tr></tr></thead><tbody></tbody></table></div>"
      ]
     },
     "metadata": {
      "application/vnd.databricks.v1+output": {
       "addedWidgets": {},
       "aggData": [],
       "aggError": "",
       "aggOverflow": false,
       "aggSchema": [],
       "aggSeriesLimitReached": false,
       "aggType": "",
       "arguments": {},
       "columnCustomDisplayInfos": {},
       "data": [],
       "datasetInfos": [],
       "dbfsResultPath": null,
       "isJsonSchema": true,
       "metadata": {},
       "overflow": false,
       "plotOptions": {
        "customPlotOptions": {},
        "displayType": "table",
        "pivotAggregation": null,
        "pivotColumns": null,
        "xColumns": null,
        "yColumns": null
       },
       "removedWidgets": [],
       "schema": [],
       "type": "table"
      }
     },
     "output_type": "display_data"
    },
    {
     "output_type": "display_data",
     "data": {
      "text/html": [
       "<style scoped>\n",
       "  .table-result-container {\n",
       "    max-height: 300px;\n",
       "    overflow: auto;\n",
       "  }\n",
       "  table, th, td {\n",
       "    border: 1px solid black;\n",
       "    border-collapse: collapse;\n",
       "  }\n",
       "  th, td {\n",
       "    padding: 5px;\n",
       "  }\n",
       "  th {\n",
       "    text-align: left;\n",
       "  }\n",
       "</style><div class='table-result-container'><table class='table-result'><thead style='background-color: white'><tr><th>date_month</th><th>launch_month</th><th>course_id</th><th>y1_b2c_revenue</th></tr></thead><tbody><tr><td>2017-07-01</td><td>2017-07-01</td><td>-DO2L_sHEeaj0BKqLXpeVg</td><td>0.0</td></tr></tbody></table></div>"
      ]
     },
     "metadata": {
      "application/vnd.databricks.v1+output": {
       "addedWidgets": {},
       "aggData": [],
       "aggError": "",
       "aggOverflow": false,
       "aggSchema": [],
       "aggSeriesLimitReached": false,
       "aggType": "",
       "arguments": {},
       "columnCustomDisplayInfos": {},
       "data": [
        [
         "2017-07-01",
         "2017-07-01",
         "-DO2L_sHEeaj0BKqLXpeVg",
         0.0
        ]
       ],
       "datasetInfos": [],
       "dbfsResultPath": null,
       "isJsonSchema": true,
       "metadata": {},
       "overflow": false,
       "plotOptions": {
        "customPlotOptions": {},
        "displayType": "table",
        "pivotAggregation": null,
        "pivotColumns": null,
        "xColumns": null,
        "yColumns": null
       },
       "removedWidgets": [],
       "schema": [
        {
         "metadata": "{}",
         "name": "date_month",
         "type": "\"date\""
        },
        {
         "metadata": "{}",
         "name": "launch_month",
         "type": "\"date\""
        },
        {
         "metadata": "{}",
         "name": "course_id",
         "type": "\"string\""
        },
        {
         "metadata": "{}",
         "name": "y1_b2c_revenue",
         "type": "\"double\""
        }
       ],
       "type": "table"
      }
     },
     "output_type": "display_data"
    }
   ],
   "source": [
    "create or replace view dev.bi.course_estimated_b2c_revenue_aggregated_adjusted_mgtv\n",
    "as\n",
    "with revenue_data as (select *,\n",
    "                      DATEDIFF(MONTH , launch_month, (select max(date_month) from dev.bi.course_estimated_b2c_revenue_aggregated_mgtv)) + 1 as mtd\n",
    "                      from dev.bi.course_estimated_b2c_revenue_aggregated_mgtv\n",
    "                      where launch_month = date_month)\n",
    "select \n",
    "a.date_month,\n",
    "a.launch_month,\n",
    "a.course_id,\n",
    "case when a.mtd >12 then a.rolling_n12m_b2c_revenue else a.rolling_n12m_b2c_revenue/f.rolling_course_multiple end as y1_b2c_revenue\n",
    "from revenue_data a\n",
    "left join dev.bi.rolling_finance_new_content_curves f on a.mtd = f.month;\n",
    "\n",
    "select * from dev.bi.course_estimated_b2c_revenue_aggregated_adjusted_mgtv \n",
    "where course_id = '-DO2L_sHEeaj0BKqLXpeVg'"
   ]
  },
  {
   "cell_type": "markdown",
   "metadata": {
    "application/vnd.databricks.v1+cell": {
     "cellMetadata": {
      "byteLimit": 2048000,
      "rowLimit": 10000
     },
     "inputWidgets": {},
     "nuid": "2157addc-ec4f-4ea8-8a4a-b008708b33e8",
     "showTitle": false,
     "tableResultSettingsMap": {},
     "title": ""
    }
   },
   "source": [
    "# Adding Partner ID and Partner Cluster"
   ]
  },
  {
   "cell_type": "code",
   "execution_count": 0,
   "metadata": {
    "application/vnd.databricks.v1+cell": {
     "cellMetadata": {
      "byteLimit": 2048000,
      "rowLimit": 10000
     },
     "inputWidgets": {},
     "nuid": "045c2157-99a0-432e-9249-8e17faf76d0a",
     "showTitle": false,
     "tableResultSettingsMap": {},
     "title": ""
    }
   },
   "outputs": [
    {
     "output_type": "display_data",
     "data": {
      "text/html": [
       "<style scoped>\n",
       "  .table-result-container {\n",
       "    max-height: 300px;\n",
       "    overflow: auto;\n",
       "  }\n",
       "  table, th, td {\n",
       "    border: 1px solid black;\n",
       "    border-collapse: collapse;\n",
       "  }\n",
       "  th, td {\n",
       "    padding: 5px;\n",
       "  }\n",
       "  th {\n",
       "    text-align: left;\n",
       "  }\n",
       "</style><div class='table-result-container'><table class='table-result'><thead style='background-color: white'><tr></tr></thead><tbody></tbody></table></div>"
      ]
     },
     "metadata": {
      "application/vnd.databricks.v1+output": {
       "addedWidgets": {},
       "aggData": [],
       "aggError": "",
       "aggOverflow": false,
       "aggSchema": [],
       "aggSeriesLimitReached": false,
       "aggType": "",
       "arguments": {},
       "columnCustomDisplayInfos": {},
       "data": [],
       "datasetInfos": [],
       "dbfsResultPath": null,
       "isJsonSchema": true,
       "metadata": {},
       "overflow": false,
       "plotOptions": {
        "customPlotOptions": {},
        "displayType": "table",
        "pivotAggregation": null,
        "pivotColumns": null,
        "xColumns": null,
        "yColumns": null
       },
       "removedWidgets": [],
       "schema": [],
       "type": "table"
      }
     },
     "output_type": "display_data"
    },
    {
     "output_type": "display_data",
     "data": {
      "text/html": [
       "<style scoped>\n",
       "  .table-result-container {\n",
       "    max-height: 300px;\n",
       "    overflow: auto;\n",
       "  }\n",
       "  table, th, td {\n",
       "    border: 1px solid black;\n",
       "    border-collapse: collapse;\n",
       "  }\n",
       "  th, td {\n",
       "    padding: 5px;\n",
       "  }\n",
       "  th {\n",
       "    text-align: left;\n",
       "  }\n",
       "</style><div class='table-result-container'><table class='table-result'><thead style='background-color: white'><tr><th>num_affected_rows</th><th>num_inserted_rows</th></tr></thead><tbody></tbody></table></div>"
      ]
     },
     "metadata": {
      "application/vnd.databricks.v1+output": {
       "addedWidgets": {},
       "aggData": [],
       "aggError": "",
       "aggOverflow": false,
       "aggSchema": [],
       "aggSeriesLimitReached": false,
       "aggType": "",
       "arguments": {},
       "columnCustomDisplayInfos": {},
       "data": [],
       "datasetInfos": [],
       "dbfsResultPath": null,
       "isJsonSchema": true,
       "metadata": {},
       "overflow": false,
       "plotOptions": {
        "customPlotOptions": {},
        "displayType": "table",
        "pivotAggregation": null,
        "pivotColumns": null,
        "xColumns": null,
        "yColumns": null
       },
       "removedWidgets": [],
       "schema": [
        {
         "metadata": "{}",
         "name": "num_affected_rows",
         "type": "\"long\""
        },
        {
         "metadata": "{}",
         "name": "num_inserted_rows",
         "type": "\"long\""
        }
       ],
       "type": "table"
      }
     },
     "output_type": "display_data"
    }
   ],
   "source": [
    "drop table if exists dev.bi.s12n_prelaunch_v0_mgtv;\n",
    "create table dev.bi.s12n_prelaunch_v0_mgtv as\n",
    "SELECT a.*,\n",
    "DATEDIFF(MONTH , a.launch_month, (select max(date_month) from dev.bi.s12n_estimated_b2c_revenue_aggregated_mgtv)) + 1 as mtd,\n",
    "quarter(a.launch_month) as launch_qtr,\n",
    "year(a.launch_month) as launch_year,\n",
    "month(a.launch_month) as launch_month_nbr,\n",
    "e.difficulty_level,\n",
    "e.last_update_diff_months,\n",
    "b.partner_id,\n",
    "d.partner_slug,\n",
    "c.cluster_rank as partner_revenue_rank,\n",
    "case when partner_slug = 'google' then 1 else 0 end as gwg_flag,\n",
    "case when partner_slug = 'meta' then 1 else 0 end as meta_flag,\n",
    "case when partner_slug = 'microsoft' then 1 else 0 end as ms_flag,\n",
    "case when partner_slug in ('ibm','ibm-skills-network') then 1 else 0 end as ibm_flag,\n",
    "case when partner_slug in ('aws','amazon') then 1 else 0 end as aws_flag,\n",
    "case when phoenix_specialization_primary_domain_id in ('computer-science') then 1 else 0 end as cs_flag,\n",
    "case when phoenix_specialization_primary_domain_id in ('business') then 1 else 0 end as bs_flag,\n",
    "case when phoenix_specialization_primary_domain_id in ('data-science') then 1 else 0 end as ds_flag,\n",
    "case when phoenix_specialization_primary_domain_id in ('information-technology') then 1 else 0 end as it_flag,\n",
    "case when phoenix_specialization_slug ilike ('%-ai-%') or phoenix_specialization_slug ilike ('%-ai') then 1 else 0 end as ai_flag\n",
    "from dev.bi.s12n_item_info_pivot_mgtv a\n",
    "left join dev.bi.content_dim_kpi b on a.base_phoenix_specialization_id = b.underlying_product_item_id\n",
    "left join dev.bi.s12n_partner_cluster_ranks_mgtv c on b.partner_id = c.partner_id\n",
    "left join prod.gold.partner_vw d on b.partner_id = d.partner_id\n",
    "left join dev.bi.content_info_view_mgtv e on a.base_phoenix_specialization_id = e.base_phoenix_specialization_id;"
   ]
  },
  {
   "cell_type": "markdown",
   "metadata": {
    "application/vnd.databricks.v1+cell": {
     "cellMetadata": {
      "byteLimit": 2048000,
      "rowLimit": 10000
     },
     "inputWidgets": {},
     "nuid": "8c030eec-6cc6-4269-8b39-61fa3970a46d",
     "showTitle": false,
     "tableResultSettingsMap": {},
     "title": ""
    }
   },
   "source": [
    "# Joining all the tables"
   ]
  },
  {
   "cell_type": "code",
   "execution_count": 0,
   "metadata": {
    "application/vnd.databricks.v1+cell": {
     "cellMetadata": {
      "byteLimit": 2048000,
      "rowLimit": 10000
     },
     "inputWidgets": {},
     "nuid": "02535eb4-cd70-4a4e-86bc-e47340f32277",
     "showTitle": false,
     "tableResultSettingsMap": {},
     "title": ""
    }
   },
   "outputs": [
    {
     "output_type": "display_data",
     "data": {
      "text/html": [
       "<style scoped>\n",
       "  .table-result-container {\n",
       "    max-height: 300px;\n",
       "    overflow: auto;\n",
       "  }\n",
       "  table, th, td {\n",
       "    border: 1px solid black;\n",
       "    border-collapse: collapse;\n",
       "  }\n",
       "  th, td {\n",
       "    padding: 5px;\n",
       "  }\n",
       "  th {\n",
       "    text-align: left;\n",
       "  }\n",
       "</style><div class='table-result-container'><table class='table-result'><thead style='background-color: white'><tr></tr></thead><tbody></tbody></table></div>"
      ]
     },
     "metadata": {
      "application/vnd.databricks.v1+output": {
       "addedWidgets": {},
       "aggData": [],
       "aggError": "",
       "aggOverflow": false,
       "aggSchema": [],
       "aggSeriesLimitReached": false,
       "aggType": "",
       "arguments": {},
       "columnCustomDisplayInfos": {},
       "data": [],
       "datasetInfos": [],
       "dbfsResultPath": null,
       "isJsonSchema": true,
       "metadata": {},
       "overflow": false,
       "plotOptions": {
        "customPlotOptions": {},
        "displayType": "table",
        "pivotAggregation": null,
        "pivotColumns": null,
        "xColumns": null,
        "yColumns": null
       },
       "removedWidgets": [],
       "schema": [],
       "type": "table"
      }
     },
     "output_type": "display_data"
    }
   ],
   "source": [
    "%sql\n",
    "create or replace view dev.bi.s12n_prelaunch_v1_mgtv as\n",
    "SELECT a.*, \n",
    "cast(b.pd_sum_rolling_n12m_rev_rec as float) as pd_sum_rolling_n12m_rev_rec,\n",
    "cast(c.sd_sum_rolling_n12m_rev_rec as float) as sd_sum_rolling_n12m_rev_rec,\n",
    "cast(p.pr_sum_rolling_n12m_rev_rec as float) as pr_avg_rolling_n12m_rev_rec, \n",
    "cast(d.pcr_avg_rolling_n12m_rev_rec as float) as pcr_avg_rolling_n12m_rev_rec, \n",
    "cast(i.sd_pcr_sum_rolling_n12m_rev_rec as float) as sd_pcr_sum_rolling_n12m_rev_rec, \n",
    "-- case when all_subdomain_enrollments_l12m > 0 then CAST(paid_subdomain_enrollments_l12m*1.0/all_subdomain_enrollments_l12m AS FLOAT) else 0.0 end as per_paid_enrl,\n",
    "sd_avg_rolling_n12m_impressions,\n",
    "sd_avg_rolling_n12m_views,\n",
    "sd_avg_rolling_n12m_visits,\n",
    "sd_avg_rolling_n12m_users,\n",
    "sd_avg_rolling_enrollments,\n",
    "sd_avg_rolling_paid_enrollments,\n",
    "case when sd_avg_rolling_enrollments > 0 then CAST(sd_avg_rolling_paid_enrollments*1.0/sd_avg_rolling_enrollments AS FLOAT) else 0.0 end as sd_per_paid_enrl,\n",
    "j.y1_b2c_revenue,\n",
    "k.rolling_n12m_marketing_spend as y1_marketing_spend\n",
    "FROM dev.bi.s12n_prelaunch_v0_mgtv a\n",
    "left join dev.bi.content_s12n_prdomain_rolling_rev_rec_last12M_mgtv b on a.phoenix_specialization_primary_domain_id = b.content_domain and a.launch_month = b.dt_month \n",
    "left join dev.bi.content_s12n_subdomain_rolling_rev_rec_last12M_mgtv c on a.phoenix_specialization_primary_subdomain_id = c.content_sub_domain and a.launch_month = c.dt_month \n",
    "left join dev.bi.content_s12n_partner_cluster_rolling_rev_rec_last12M_mgtv d on a.partner_revenue_rank = d.cluster_rank and a.launch_month = d.dt_month\n",
    "left join dev.bi.content_s12n_partner_rolling_rev_rec_last12M_mgtv p on a.partner_id = p.partner_id and a.launch_month = p.dt_month\n",
    "left join dev.bi.content_info_view_mgtv e on a.base_phoenix_specialization_id = e.base_phoenix_specialization_id\n",
    "left join dev.bi.content_visitors_monthly_history_view_mgtv f \n",
    "on a.phoenix_specialization_primary_subdomain_id = f.content_sub_domain and a.partner_revenue_rank = f.cluster_rank and a.launch_month= f.dt_month\n",
    "left join dev.bi.content_impressions_monthly_history_view_mgtv g \n",
    "on a.phoenix_specialization_primary_subdomain_id = g.content_sub_domain and a.partner_revenue_rank = g.cluster_rank and a.launch_month= g.dt_month\n",
    "left join dev.bi.content_s12n_enollments_monthly_history_view_mgtv h \n",
    "on a.phoenix_specialization_primary_subdomain_id = h.content_sub_domain and a.partner_revenue_rank = h.cluster_rank and a.launch_month= h.dt_month\n",
    "left join dev.bi.content_s12n_subdomain_pcr_rolling_rev_rec_last12M_mgtv i on a.partner_revenue_rank = i.cluster_rank and a.phoenix_specialization_primary_subdomain_id = i.content_sub_domain and a.launch_month = i.dt_month\n",
    "left join dev.bi.s12n_estimated_b2c_revenue_aggregated_adjusted_mgtv j on a.base_phoenix_specialization_id = j.base_phoenix_specialization_id\n",
    "left join dev.bi.s12n_marketing_spend_aggregated_mgtv  k on a.base_phoenix_specialization_id = k.base_phoenix_specialization_id and a.launch_month = k.date_month\n",
    "where year(a.launch_month) <= 2025\n",
    "  and year(a.launch_month) >= 2020\n",
    ";\n"
   ]
  },
  {
   "cell_type": "code",
   "execution_count": 0,
   "metadata": {
    "application/vnd.databricks.v1+cell": {
     "cellMetadata": {
      "byteLimit": 2048000,
      "rowLimit": 10000
     },
     "inputWidgets": {},
     "nuid": "9d124f45-79d2-4e53-add0-4fbd513bdd39",
     "showTitle": false,
     "tableResultSettingsMap": {},
     "title": ""
    }
   },
   "outputs": [
    {
     "output_type": "display_data",
     "data": {
      "text/html": [
       "<style scoped>\n",
       "  .table-result-container {\n",
       "    max-height: 300px;\n",
       "    overflow: auto;\n",
       "  }\n",
       "  table, th, td {\n",
       "    border: 1px solid black;\n",
       "    border-collapse: collapse;\n",
       "  }\n",
       "  th, td {\n",
       "    padding: 5px;\n",
       "  }\n",
       "  th {\n",
       "    text-align: left;\n",
       "  }\n",
       "</style><div class='table-result-container'><table class='table-result'><thead style='background-color: white'><tr></tr></thead><tbody></tbody></table></div>"
      ]
     },
     "metadata": {
      "application/vnd.databricks.v1+output": {
       "addedWidgets": {},
       "aggData": [],
       "aggError": "",
       "aggOverflow": false,
       "aggSchema": [],
       "aggSeriesLimitReached": false,
       "aggType": "",
       "arguments": {},
       "columnCustomDisplayInfos": {},
       "data": [],
       "datasetInfos": [],
       "dbfsResultPath": null,
       "isJsonSchema": true,
       "metadata": {
        "sqlStatementIds": [
         "01f04531-3fb4-151b-81a4-7dc748220654"
        ]
       },
       "overflow": false,
       "plotOptions": {
        "customPlotOptions": {},
        "displayType": "table",
        "pivotAggregation": null,
        "pivotColumns": null,
        "xColumns": null,
        "yColumns": null
       },
       "removedWidgets": [],
       "schema": [],
       "type": "table"
      }
     },
     "output_type": "display_data"
    },
    {
     "output_type": "display_data",
     "data": {
      "text/html": [
       "<style scoped>\n",
       "  .table-result-container {\n",
       "    max-height: 300px;\n",
       "    overflow: auto;\n",
       "  }\n",
       "  table, th, td {\n",
       "    border: 1px solid black;\n",
       "    border-collapse: collapse;\n",
       "  }\n",
       "  th, td {\n",
       "    padding: 5px;\n",
       "  }\n",
       "  th {\n",
       "    text-align: left;\n",
       "  }\n",
       "</style><div class='table-result-container'><table class='table-result'><thead style='background-color: white'><tr><th>num_affected_rows</th><th>num_inserted_rows</th></tr></thead><tbody></tbody></table></div>"
      ]
     },
     "metadata": {
      "application/vnd.databricks.v1+output": {
       "addedWidgets": {},
       "aggData": [],
       "aggError": "",
       "aggOverflow": false,
       "aggSchema": [],
       "aggSeriesLimitReached": false,
       "aggType": "",
       "arguments": {},
       "columnCustomDisplayInfos": {},
       "data": [],
       "datasetInfos": [],
       "dbfsResultPath": null,
       "isJsonSchema": true,
       "metadata": {
        "sqlStatementIds": [
         "01f04531-3fb4-1530-9fbb-bb6765e42d2d"
        ]
       },
       "overflow": false,
       "plotOptions": {
        "customPlotOptions": {},
        "displayType": "table",
        "pivotAggregation": null,
        "pivotColumns": null,
        "xColumns": null,
        "yColumns": null
       },
       "removedWidgets": [],
       "schema": [
        {
         "metadata": "{}",
         "name": "num_affected_rows",
         "type": "\"long\""
        },
        {
         "metadata": "{}",
         "name": "num_inserted_rows",
         "type": "\"long\""
        }
       ],
       "type": "table"
      }
     },
     "output_type": "display_data"
    },
    {
     "output_type": "display_data",
     "data": {
      "text/html": [
       "<style scoped>\n",
       "  .table-result-container {\n",
       "    max-height: 300px;\n",
       "    overflow: auto;\n",
       "  }\n",
       "  table, th, td {\n",
       "    border: 1px solid black;\n",
       "    border-collapse: collapse;\n",
       "  }\n",
       "  th, td {\n",
       "    padding: 5px;\n",
       "  }\n",
       "  th {\n",
       "    text-align: left;\n",
       "  }\n",
       "</style><div class='table-result-container'><table class='table-result'><thead style='background-color: white'><tr><th>base_phoenix_specialization_id</th><th>phoenix_specialization_slug</th><th>phoenix_specialization_primary_domain_id</th><th>phoenix_specialization_primary_subdomain_id</th><th>is_specialization</th><th>is_professional_certificate</th><th>is_gateway_certificate</th><th>launch_month</th><th>number_of_courses</th><th>total_items</th><th>discussionPrompt</th><th>lecture</th><th>ltiTool</th><th>peerReview</th><th>placeholder</th><th>programmingAssignment</th><th>quiz</th><th>reading</th><th>staffGraded</th><th>ungradedLab</th><th>widget</th><th>mtd</th><th>launch_qtr</th><th>launch_year</th><th>launch_month_nbr</th><th>difficulty_level</th><th>last_update_diff_months</th><th>partner_id</th><th>partner_slug</th><th>partner_revenue_rank</th><th>gwg_flag</th><th>meta_flag</th><th>ms_flag</th><th>ibm_flag</th><th>aws_flag</th><th>cs_flag</th><th>bs_flag</th><th>ds_flag</th><th>it_flag</th><th>ai_flag</th><th>pd_sum_rolling_n12m_rev_rec</th><th>sd_sum_rolling_n12m_rev_rec</th><th>pr_avg_rolling_n12m_rev_rec</th><th>pcr_avg_rolling_n12m_rev_rec</th><th>sd_pcr_sum_rolling_n12m_rev_rec</th><th>sd_avg_rolling_n12m_impressions</th><th>sd_avg_rolling_n12m_views</th><th>sd_avg_rolling_n12m_visits</th><th>sd_avg_rolling_n12m_users</th><th>sd_avg_rolling_enrollments</th><th>sd_avg_rolling_paid_enrollments</th><th>sd_per_paid_enrl</th><th>y1_b2c_revenue</th><th>y1_marketing_spend</th></tr></thead><tbody><tr><td>dVxvpVBzSI2qpyGsH77oMQ</td><td>ibm-ai-product-manager</td><td>information-technology</td><td>support-and-operations</td><td>false</td><td>true</td><td>true</td><td>2024-04-01</td><td>10</td><td>632</td><td>40</td><td>250</td><td>17</td><td>4</td><td>null</td><td>null</td><td>4</td><td>85</td><td>79</td><td>null</td><td>153</td><td>11</td><td>2</td><td>2024</td><td>4</td><td>0</td><td>14</td><td>348</td><td>ibm-skills-network</td><td>3.0</td><td>0</td><td>0</td><td>0</td><td>1</td><td>0</td><td>0</td><td>0</td><td>0</td><td>1</td><td>1</td><td>3608814.2</td><td>1758068.9</td><td>3091202.0</td><td>308118.4</td><td>74719.664</td><td>1247667</td><td>456209</td><td>127606</td><td>215808</td><td>14991</td><td>3045</td><td>0.2031218707561493</td><td>1120963.2454204897</td><td>1.4184203936666999E7</td></tr></tbody></table></div>"
      ]
     },
     "metadata": {
      "application/vnd.databricks.v1+output": {
       "addedWidgets": {},
       "aggData": [],
       "aggError": "",
       "aggOverflow": false,
       "aggSchema": [],
       "aggSeriesLimitReached": false,
       "aggType": "",
       "arguments": {},
       "columnCustomDisplayInfos": {},
       "data": [
        [
         "dVxvpVBzSI2qpyGsH77oMQ",
         "ibm-ai-product-manager",
         "information-technology",
         "support-and-operations",
         false,
         true,
         true,
         "2024-04-01",
         10,
         632,
         40,
         250,
         17,
         4,
         null,
         null,
         4,
         85,
         79,
         null,
         153,
         11,
         2,
         2024,
         4,
         0,
         14,
         "348",
         "ibm-skills-network",
         3.0,
         0,
         0,
         0,
         1,
         0,
         0,
         0,
         0,
         1,
         1,
         3608814.2,
         1758068.9,
         3091202.0,
         308118.4,
         74719.664,
         1247667,
         456209,
         127606,
         215808,
         14991,
         3045,
         0.2031218707561493,
         1120963.2454204897,
         1.4184203936666999E7
        ]
       ],
       "datasetInfos": [],
       "dbfsResultPath": null,
       "isJsonSchema": true,
       "metadata": {
        "sqlStatementIds": [
         "01f04531-3fb4-1544-83d6-ad0ac1923d4c"
        ]
       },
       "overflow": false,
       "plotOptions": {
        "customPlotOptions": {},
        "displayType": "table",
        "pivotAggregation": null,
        "pivotColumns": null,
        "xColumns": null,
        "yColumns": null
       },
       "removedWidgets": [],
       "schema": [
        {
         "metadata": "{}",
         "name": "base_phoenix_specialization_id",
         "type": "\"string\""
        },
        {
         "metadata": "{}",
         "name": "phoenix_specialization_slug",
         "type": "\"string\""
        },
        {
         "metadata": "{}",
         "name": "phoenix_specialization_primary_domain_id",
         "type": "\"string\""
        },
        {
         "metadata": "{}",
         "name": "phoenix_specialization_primary_subdomain_id",
         "type": "\"string\""
        },
        {
         "metadata": "{}",
         "name": "is_specialization",
         "type": "\"boolean\""
        },
        {
         "metadata": "{}",
         "name": "is_professional_certificate",
         "type": "\"boolean\""
        },
        {
         "metadata": "{}",
         "name": "is_gateway_certificate",
         "type": "\"boolean\""
        },
        {
         "metadata": "{}",
         "name": "launch_month",
         "type": "\"date\""
        },
        {
         "metadata": "{}",
         "name": "number_of_courses",
         "type": "\"long\""
        },
        {
         "metadata": "{}",
         "name": "total_items",
         "type": "\"long\""
        },
        {
         "metadata": "{}",
         "name": "discussionPrompt",
         "type": "\"long\""
        },
        {
         "metadata": "{}",
         "name": "lecture",
         "type": "\"long\""
        },
        {
         "metadata": "{}",
         "name": "ltiTool",
         "type": "\"long\""
        },
        {
         "metadata": "{}",
         "name": "peerReview",
         "type": "\"long\""
        },
        {
         "metadata": "{}",
         "name": "placeholder",
         "type": "\"long\""
        },
        {
         "metadata": "{}",
         "name": "programmingAssignment",
         "type": "\"long\""
        },
        {
         "metadata": "{}",
         "name": "quiz",
         "type": "\"long\""
        },
        {
         "metadata": "{}",
         "name": "reading",
         "type": "\"long\""
        },
        {
         "metadata": "{}",
         "name": "staffGraded",
         "type": "\"long\""
        },
        {
         "metadata": "{}",
         "name": "ungradedLab",
         "type": "\"long\""
        },
        {
         "metadata": "{}",
         "name": "widget",
         "type": "\"long\""
        },
        {
         "metadata": "{}",
         "name": "mtd",
         "type": "\"long\""
        },
        {
         "metadata": "{}",
         "name": "launch_qtr",
         "type": "\"integer\""
        },
        {
         "metadata": "{}",
         "name": "launch_year",
         "type": "\"integer\""
        },
        {
         "metadata": "{}",
         "name": "launch_month_nbr",
         "type": "\"integer\""
        },
        {
         "metadata": "{}",
         "name": "difficulty_level",
         "type": "\"integer\""
        },
        {
         "metadata": "{}",
         "name": "last_update_diff_months",
         "type": "\"long\""
        },
        {
         "metadata": "{}",
         "name": "partner_id",
         "type": "\"string\""
        },
        {
         "metadata": "{}",
         "name": "partner_slug",
         "type": "\"string\""
        },
        {
         "metadata": "{}",
         "name": "partner_revenue_rank",
         "type": "\"double\""
        },
        {
         "metadata": "{}",
         "name": "gwg_flag",
         "type": "\"integer\""
        },
        {
         "metadata": "{}",
         "name": "meta_flag",
         "type": "\"integer\""
        },
        {
         "metadata": "{}",
         "name": "ms_flag",
         "type": "\"integer\""
        },
        {
         "metadata": "{}",
         "name": "ibm_flag",
         "type": "\"integer\""
        },
        {
         "metadata": "{}",
         "name": "aws_flag",
         "type": "\"integer\""
        },
        {
         "metadata": "{}",
         "name": "cs_flag",
         "type": "\"integer\""
        },
        {
         "metadata": "{}",
         "name": "bs_flag",
         "type": "\"integer\""
        },
        {
         "metadata": "{}",
         "name": "ds_flag",
         "type": "\"integer\""
        },
        {
         "metadata": "{}",
         "name": "it_flag",
         "type": "\"integer\""
        },
        {
         "metadata": "{}",
         "name": "ai_flag",
         "type": "\"integer\""
        },
        {
         "metadata": "{}",
         "name": "pd_sum_rolling_n12m_rev_rec",
         "type": "\"float\""
        },
        {
         "metadata": "{}",
         "name": "sd_sum_rolling_n12m_rev_rec",
         "type": "\"float\""
        },
        {
         "metadata": "{}",
         "name": "pr_avg_rolling_n12m_rev_rec",
         "type": "\"float\""
        },
        {
         "metadata": "{}",
         "name": "pcr_avg_rolling_n12m_rev_rec",
         "type": "\"float\""
        },
        {
         "metadata": "{}",
         "name": "sd_pcr_sum_rolling_n12m_rev_rec",
         "type": "\"float\""
        },
        {
         "metadata": "{}",
         "name": "sd_avg_rolling_n12m_impressions",
         "type": "\"long\""
        },
        {
         "metadata": "{}",
         "name": "sd_avg_rolling_n12m_views",
         "type": "\"long\""
        },
        {
         "metadata": "{}",
         "name": "sd_avg_rolling_n12m_visits",
         "type": "\"long\""
        },
        {
         "metadata": "{}",
         "name": "sd_avg_rolling_n12m_users",
         "type": "\"long\""
        },
        {
         "metadata": "{}",
         "name": "sd_avg_rolling_enrollments",
         "type": "\"long\""
        },
        {
         "metadata": "{}",
         "name": "sd_avg_rolling_paid_enrollments",
         "type": "\"long\""
        },
        {
         "metadata": "{}",
         "name": "sd_per_paid_enrl",
         "type": "\"double\""
        },
        {
         "metadata": "{}",
         "name": "y1_b2c_revenue",
         "type": "\"double\""
        },
        {
         "metadata": "{}",
         "name": "y1_marketing_spend",
         "type": "\"double\""
        }
       ],
       "type": "table"
      }
     },
     "output_type": "display_data"
    }
   ],
   "source": [
    "drop table if exists dev.bi.s12n_prelaunch_data_model_input_mgtf;\n",
    "create table dev.bi.s12n_prelaunch_data_model_input_mgtf as\n",
    "SELECT * from dev.bi.s12n_prelaunch_v1_mgtv;\n",
    "\n",
    "-- select * from dev.bi.s12n_prelaunch_data_model_input_mgtf \n",
    "-- where base_phoenix_specialization_id = 'dVxvpVBzSI2qpyGsH77oMQ'"
   ]
  },
  {
   "cell_type": "code",
   "execution_count": 0,
   "metadata": {
    "application/vnd.databricks.v1+cell": {
     "cellMetadata": {
      "byteLimit": 2048000,
      "rowLimit": 10000
     },
     "inputWidgets": {},
     "nuid": "319ad54a-f42f-4aeb-bd65-121c14ca9a49",
     "showTitle": false,
     "tableResultSettingsMap": {},
     "title": ""
    }
   },
   "outputs": [
    {
     "output_type": "display_data",
     "data": {
      "text/html": [
       "<style scoped>\n",
       "  .table-result-container {\n",
       "    max-height: 300px;\n",
       "    overflow: auto;\n",
       "  }\n",
       "  table, th, td {\n",
       "    border: 1px solid black;\n",
       "    border-collapse: collapse;\n",
       "  }\n",
       "  th, td {\n",
       "    padding: 5px;\n",
       "  }\n",
       "  th {\n",
       "    text-align: left;\n",
       "  }\n",
       "</style><div class='table-result-container'><table class='table-result'><thead style='background-color: white'><tr><th>base_phoenix_specialization_id</th><th>phoenix_specialization_slug</th><th>phoenix_specialization_primary_domain_id</th><th>phoenix_specialization_primary_subdomain_id</th><th>is_specialization</th><th>is_professional_certificate</th><th>is_gateway_certificate</th><th>difficulty_level</th><th>launch_month</th><th>mtd</th><th>launch_month_nbr</th><th>launch_qtr</th><th>launch_year</th><th>last_update_diff_months</th><th>number_of_courses</th><th>total_items</th><th>partner_id</th><th>partner_slug</th><th>partner_revenue_rank</th><th>y1_marketing_spend</th><th>y1_b2c_revenue</th><th>discussionPrompt</th><th>lecture</th><th>ltiTool</th><th>peerReview</th><th>placeholder</th><th>programmingAssignment</th><th>quiz</th><th>reading</th><th>staffGraded</th><th>ungradedLab</th><th>widget</th><th>gwg_flag</th><th>meta_flag</th><th>ms_flag</th><th>ibm_flag</th><th>aws_flag</th><th>cs_flag</th><th>bs_flag</th><th>ds_flag</th><th>it_flag</th><th>ai_flag</th><th>pcr_avg_rolling_n12m_rev_rec</th><th>pr_avg_rolling_n12m_rev_rec</th><th>sd_pcr_sum_rolling_n12m_rev_rec</th><th>sd_avg_rolling_enrollments</th><th>sd_avg_rolling_n12m_impressions</th><th>sd_avg_rolling_n12m_users</th><th>sd_avg_rolling_n12m_views</th><th>sd_avg_rolling_n12m_visits</th><th>sd_avg_rolling_paid_enrollments</th><th>sd_sum_rolling_n12m_rev_rec</th><th>sd_per_paid_enrl</th><th>sd_per_enrl_rate</th></tr></thead><tbody><tr><td>dVxvpVBzSI2qpyGsH77oMQ</td><td>ibm-ai-product-manager</td><td>information-technology</td><td>support-and-operations</td><td>false</td><td>true</td><td>true</td><td>0</td><td>2024-04-01</td><td>11</td><td>4</td><td>2</td><td>2024</td><td>14</td><td>10</td><td>632</td><td>348</td><td>ibm-skills-network</td><td>3.0</td><td>1.4184203936666999E7</td><td>1120963.2454204897</td><td>40</td><td>250</td><td>17</td><td>4</td><td>null</td><td>null</td><td>4</td><td>85</td><td>79</td><td>null</td><td>153</td><td>0</td><td>0</td><td>0</td><td>1</td><td>0</td><td>0</td><td>0</td><td>0</td><td>1</td><td>1</td><td>308118.40625</td><td>3091202.0</td><td>74719.6640625</td><td>14991.0</td><td>1247667.0</td><td>215808.0</td><td>456209.0</td><td>127606.0</td><td>3045.0</td><td>1758068.875</td><td>0.2031218707561493</td><td>0.06946452707052231</td></tr></tbody></table></div>"
      ]
     },
     "metadata": {
      "application/vnd.databricks.v1+output": {
       "addedWidgets": {},
       "aggData": [],
       "aggError": "",
       "aggOverflow": false,
       "aggSchema": [],
       "aggSeriesLimitReached": false,
       "aggType": "",
       "arguments": {},
       "columnCustomDisplayInfos": {},
       "data": [
        [
         "dVxvpVBzSI2qpyGsH77oMQ",
         "ibm-ai-product-manager",
         "information-technology",
         "support-and-operations",
         false,
         true,
         true,
         0,
         "2024-04-01",
         11,
         4,
         2,
         2024,
         14,
         10,
         632,
         "348",
         "ibm-skills-network",
         3.0,
         1.4184203936666999E7,
         1120963.2454204897,
         40,
         250,
         17,
         4,
         null,
         null,
         4,
         85,
         79,
         null,
         153,
         0,
         0,
         0,
         1,
         0,
         0,
         0,
         0,
         1,
         1,
         308118.40625,
         3091202.0,
         74719.6640625,
         14991.0,
         1247667.0,
         215808.0,
         456209.0,
         127606.0,
         3045.0,
         1758068.875,
         0.2031218707561493,
         0.06946452707052231
        ]
       ],
       "datasetInfos": [],
       "dbfsResultPath": null,
       "isJsonSchema": true,
       "metadata": {},
       "overflow": false,
       "plotOptions": {
        "customPlotOptions": {},
        "displayType": "table",
        "pivotAggregation": null,
        "pivotColumns": null,
        "xColumns": null,
        "yColumns": null
       },
       "removedWidgets": [],
       "schema": [
        {
         "metadata": "{}",
         "name": "base_phoenix_specialization_id",
         "type": "\"string\""
        },
        {
         "metadata": "{}",
         "name": "phoenix_specialization_slug",
         "type": "\"string\""
        },
        {
         "metadata": "{}",
         "name": "phoenix_specialization_primary_domain_id",
         "type": "\"string\""
        },
        {
         "metadata": "{}",
         "name": "phoenix_specialization_primary_subdomain_id",
         "type": "\"string\""
        },
        {
         "metadata": "{}",
         "name": "is_specialization",
         "type": "\"boolean\""
        },
        {
         "metadata": "{}",
         "name": "is_professional_certificate",
         "type": "\"boolean\""
        },
        {
         "metadata": "{}",
         "name": "is_gateway_certificate",
         "type": "\"boolean\""
        },
        {
         "metadata": "{}",
         "name": "difficulty_level",
         "type": "\"integer\""
        },
        {
         "metadata": "{}",
         "name": "launch_month",
         "type": "\"date\""
        },
        {
         "metadata": "{}",
         "name": "mtd",
         "type": "\"long\""
        },
        {
         "metadata": "{}",
         "name": "launch_month_nbr",
         "type": "\"integer\""
        },
        {
         "metadata": "{}",
         "name": "launch_qtr",
         "type": "\"integer\""
        },
        {
         "metadata": "{}",
         "name": "launch_year",
         "type": "\"integer\""
        },
        {
         "metadata": "{}",
         "name": "last_update_diff_months",
         "type": "\"long\""
        },
        {
         "metadata": "{}",
         "name": "number_of_courses",
         "type": "\"long\""
        },
        {
         "metadata": "{}",
         "name": "total_items",
         "type": "\"long\""
        },
        {
         "metadata": "{}",
         "name": "partner_id",
         "type": "\"string\""
        },
        {
         "metadata": "{}",
         "name": "partner_slug",
         "type": "\"string\""
        },
        {
         "metadata": "{}",
         "name": "partner_revenue_rank",
         "type": "\"double\""
        },
        {
         "metadata": "{}",
         "name": "y1_marketing_spend",
         "type": "\"double\""
        },
        {
         "metadata": "{}",
         "name": "y1_b2c_revenue",
         "type": "\"double\""
        },
        {
         "metadata": "{}",
         "name": "discussionPrompt",
         "type": "\"long\""
        },
        {
         "metadata": "{}",
         "name": "lecture",
         "type": "\"long\""
        },
        {
         "metadata": "{}",
         "name": "ltiTool",
         "type": "\"long\""
        },
        {
         "metadata": "{}",
         "name": "peerReview",
         "type": "\"long\""
        },
        {
         "metadata": "{}",
         "name": "placeholder",
         "type": "\"long\""
        },
        {
         "metadata": "{}",
         "name": "programmingAssignment",
         "type": "\"long\""
        },
        {
         "metadata": "{}",
         "name": "quiz",
         "type": "\"long\""
        },
        {
         "metadata": "{}",
         "name": "reading",
         "type": "\"long\""
        },
        {
         "metadata": "{}",
         "name": "staffGraded",
         "type": "\"long\""
        },
        {
         "metadata": "{}",
         "name": "ungradedLab",
         "type": "\"long\""
        },
        {
         "metadata": "{}",
         "name": "widget",
         "type": "\"long\""
        },
        {
         "metadata": "{}",
         "name": "gwg_flag",
         "type": "\"integer\""
        },
        {
         "metadata": "{}",
         "name": "meta_flag",
         "type": "\"integer\""
        },
        {
         "metadata": "{}",
         "name": "ms_flag",
         "type": "\"integer\""
        },
        {
         "metadata": "{}",
         "name": "ibm_flag",
         "type": "\"integer\""
        },
        {
         "metadata": "{}",
         "name": "aws_flag",
         "type": "\"integer\""
        },
        {
         "metadata": "{}",
         "name": "cs_flag",
         "type": "\"integer\""
        },
        {
         "metadata": "{}",
         "name": "bs_flag",
         "type": "\"integer\""
        },
        {
         "metadata": "{}",
         "name": "ds_flag",
         "type": "\"integer\""
        },
        {
         "metadata": "{}",
         "name": "it_flag",
         "type": "\"integer\""
        },
        {
         "metadata": "{}",
         "name": "ai_flag",
         "type": "\"integer\""
        },
        {
         "metadata": "{}",
         "name": "pcr_avg_rolling_n12m_rev_rec",
         "type": "\"double\""
        },
        {
         "metadata": "{}",
         "name": "pr_avg_rolling_n12m_rev_rec",
         "type": "\"double\""
        },
        {
         "metadata": "{}",
         "name": "sd_pcr_sum_rolling_n12m_rev_rec",
         "type": "\"double\""
        },
        {
         "metadata": "{}",
         "name": "sd_avg_rolling_enrollments",
         "type": "\"double\""
        },
        {
         "metadata": "{}",
         "name": "sd_avg_rolling_n12m_impressions",
         "type": "\"double\""
        },
        {
         "metadata": "{}",
         "name": "sd_avg_rolling_n12m_users",
         "type": "\"double\""
        },
        {
         "metadata": "{}",
         "name": "sd_avg_rolling_n12m_views",
         "type": "\"double\""
        },
        {
         "metadata": "{}",
         "name": "sd_avg_rolling_n12m_visits",
         "type": "\"double\""
        },
        {
         "metadata": "{}",
         "name": "sd_avg_rolling_paid_enrollments",
         "type": "\"double\""
        },
        {
         "metadata": "{}",
         "name": "sd_sum_rolling_n12m_rev_rec",
         "type": "\"double\""
        },
        {
         "metadata": "{}",
         "name": "sd_per_paid_enrl",
         "type": "\"double\""
        },
        {
         "metadata": "{}",
         "name": "sd_per_enrl_rate",
         "type": "\"double\""
        }
       ],
       "type": "table"
      }
     },
     "output_type": "display_data"
    }
   ],
   "source": [
    "select * from dev.bi.s12n_prelaunch_data_model_input_view_wmvt_mgtf  where base_phoenix_specialization_id = 'dVxvpVBzSI2qpyGsH77oMQ'\n",
    "\n",
    "-- select year(launch_month) as yy,count(distinct base_phoenix_specialization_id) as cnt,sum(y1_b2c_revenue) as revenue\n",
    "-- --  from dev.bi.s12n_prelaunch_data_model_input_mgtf \n",
    "--  from  dev.bi.s12n_estimated_b2c_revenue_aggregated_adjusted_mgtv\n",
    "--  group by 1 order by 1"
   ]
  }
 ],
 "metadata": {
  "application/vnd.databricks.v1+notebook": {
   "computePreferences": null,
   "dashboards": [],
   "environmentMetadata": {
    "base_environment": "",
    "environment_version": "2"
   },
   "inputWidgetPreferences": null,
   "language": "sql",
   "notebookMetadata": {
    "pythonIndentUnit": 2
   },
   "notebookName": "B2C S12N Model Input table MG",
   "widgets": {}
  },
  "language_info": {
   "name": "sql"
  }
 },
 "nbformat": 4,
 "nbformat_minor": 0
}
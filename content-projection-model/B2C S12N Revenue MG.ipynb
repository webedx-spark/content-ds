{
 "cells": [
  {
   "cell_type": "markdown",
   "metadata": {
    "application/vnd.databricks.v1+cell": {
     "cellMetadata": {
      "byteLimit": 2048000,
      "rowLimit": 10000
     },
     "inputWidgets": {},
     "nuid": "704ac06d-89e4-4fc4-8908-e218fdac63f0",
     "showTitle": false,
     "tableResultSettingsMap": {},
     "title": ""
    }
   },
   "source": [
    "# Direct B2C Revenue"
   ]
  },
  {
   "cell_type": "code",
   "execution_count": 0,
   "metadata": {
    "application/vnd.databricks.v1+cell": {
     "cellMetadata": {
      "byteLimit": 2048000,
      "rowLimit": 10000
     },
     "inputWidgets": {},
     "nuid": "a34c5d2e-8cd6-4e25-bdf3-da3c79051e24",
     "showTitle": false,
     "tableResultSettingsMap": {},
     "title": ""
    }
   },
   "outputs": [
    {
     "output_type": "display_data",
     "data": {
      "text/html": [
       "<style scoped>\n",
       "  .table-result-container {\n",
       "    max-height: 300px;\n",
       "    overflow: auto;\n",
       "  }\n",
       "  table, th, td {\n",
       "    border: 1px solid black;\n",
       "    border-collapse: collapse;\n",
       "  }\n",
       "  th, td {\n",
       "    padding: 5px;\n",
       "  }\n",
       "  th {\n",
       "    text-align: left;\n",
       "  }\n",
       "</style><div class='table-result-container'><table class='table-result'><thead style='background-color: white'><tr></tr></thead><tbody></tbody></table></div>"
      ]
     },
     "metadata": {
      "application/vnd.databricks.v1+output": {
       "addedWidgets": {},
       "aggData": [],
       "aggError": "",
       "aggOverflow": false,
       "aggSchema": [],
       "aggSeriesLimitReached": false,
       "aggType": "",
       "arguments": {},
       "columnCustomDisplayInfos": {},
       "data": [],
       "datasetInfos": [],
       "dbfsResultPath": null,
       "isJsonSchema": true,
       "metadata": {},
       "overflow": false,
       "plotOptions": {
        "customPlotOptions": {},
        "displayType": "table",
        "pivotAggregation": null,
        "pivotColumns": null,
        "xColumns": null,
        "yColumns": null
       },
       "removedWidgets": [],
       "schema": [],
       "type": "table"
      }
     },
     "output_type": "display_data"
    }
   ],
   "source": [
    "CREATE or replace view dev.bi.s12n_estimated_b2c_direct_revenue_mgtv  AS\n",
    "WITH base_s12n_launch_dts as (\n",
    "    SELECT \n",
    "        base_phoenix_specialization_id, \n",
    "        min(phoenix_specialization_display_page_launch_ts) as first_s12n_display_page_launch_ts\n",
    "    FROM prod.gold.phoenix_specializations_vw\n",
    "    GROUP by 1\n",
    "  ),\n",
    "\n",
    "s12n_table AS\n",
    "(\n",
    "SELECT \n",
    "ps.base_phoenix_specialization_id,\n",
    "ps.phoenix_specialization_id,\n",
    "ps.phoenix_specialization_slug,\n",
    "ps.phoenix_specialization_name,\n",
    "bsl.first_s12n_display_page_launch_ts::DATE AS launch_date\n",
    "FROM\n",
    "prod.gold.phoenix_specializations_vw ps\n",
    "JOIN\n",
    "base_s12n_launch_dts bsl \n",
    "USING (base_phoenix_specialization_id)\n",
    "),\n",
    "\n",
    "-- aggregate monthly B2C direct revenue for every S12N by month (we want to aggregate across all transactions separately)\n",
    "\n",
    "-- get B2C Direct monthly revenue\n",
    "direct_monthly_aggregated AS \n",
    "(\n",
    "SELECT \n",
    "ebrr.rev_rec_month_start_dt,\n",
    "ebrr.attributed_content_item_id as underlying_product_item_id,\n",
    "'b2c_direct' AS transaction_type,\n",
    "SUM(ebrr.rev_rec_amount_usd_estimate) AS rev_rec_amount_usd_estimate\n",
    "FROM\n",
    "prod.gold_base_restricted.estimated_combined_revenue_recognition ebrr\n",
    "where is_cplus_transaction = false\n",
    "and rev_rec_month_start_dt < to_date(date_trunc('month',current_date))\n",
    "and rev_rec_month_start_dt >=to_date(date_trunc('month', add_months(current_date, -2)))\n",
    "GROUP BY 1, 2, 3\n",
    ")\n",
    "SELECT \n",
    "dma.rev_rec_month_start_dt,\n",
    "dma.underlying_product_item_id,\n",
    "st.base_phoenix_specialization_id,\n",
    "st.phoenix_specialization_id,\n",
    "st.phoenix_specialization_slug,\n",
    "st.phoenix_specialization_name,\n",
    "st.launch_date,\n",
    "dma.transaction_type,\n",
    "dma.rev_rec_amount_usd_estimate\n",
    "FROM\n",
    "direct_monthly_aggregated dma\n",
    "JOIN\n",
    "s12n_table st\n",
    "ON\n",
    "dma.underlying_product_item_id = st.phoenix_specialization_id \n"
   ]
  },
  {
   "cell_type": "markdown",
   "metadata": {
    "application/vnd.databricks.v1+cell": {
     "cellMetadata": {
      "byteLimit": 2048000,
      "rowLimit": 10000
     },
     "inputWidgets": {},
     "nuid": "631afe4f-73be-4519-af23-c6c5e45e8c8d",
     "showTitle": false,
     "tableResultSettingsMap": {},
     "title": ""
    }
   },
   "source": [
    "# C+ Revenue"
   ]
  },
  {
   "cell_type": "code",
   "execution_count": 0,
   "metadata": {
    "application/vnd.databricks.v1+cell": {
     "cellMetadata": {
      "byteLimit": 2048000,
      "rowLimit": 10000
     },
     "inputWidgets": {},
     "nuid": "88182f06-3b1d-46fa-9eca-ced4aa4f3ba9",
     "showTitle": false,
     "tableResultSettingsMap": {},
     "title": ""
    }
   },
   "outputs": [
    {
     "output_type": "display_data",
     "data": {
      "text/html": [
       "<style scoped>\n",
       "  .table-result-container {\n",
       "    max-height: 300px;\n",
       "    overflow: auto;\n",
       "  }\n",
       "  table, th, td {\n",
       "    border: 1px solid black;\n",
       "    border-collapse: collapse;\n",
       "  }\n",
       "  th, td {\n",
       "    padding: 5px;\n",
       "  }\n",
       "  th {\n",
       "    text-align: left;\n",
       "  }\n",
       "</style><div class='table-result-container'><table class='table-result'><thead style='background-color: white'><tr></tr></thead><tbody></tbody></table></div>"
      ]
     },
     "metadata": {
      "application/vnd.databricks.v1+output": {
       "addedWidgets": {},
       "aggData": [],
       "aggError": "",
       "aggOverflow": false,
       "aggSchema": [],
       "aggSeriesLimitReached": false,
       "aggType": "",
       "arguments": {},
       "columnCustomDisplayInfos": {},
       "data": [],
       "datasetInfos": [],
       "dbfsResultPath": null,
       "isJsonSchema": true,
       "metadata": {},
       "overflow": false,
       "plotOptions": {
        "customPlotOptions": {},
        "displayType": "table",
        "pivotAggregation": null,
        "pivotColumns": null,
        "xColumns": null,
        "yColumns": null
       },
       "removedWidgets": [],
       "schema": [],
       "type": "table"
      }
     },
     "output_type": "display_data"
    }
   ],
   "source": [
    "CREATE or replace view dev.bi.s12n_estimated_cplus_revenue_mgtv AS\n",
    "WITH base_s12n_launch_dts as (\n",
    "    SELECT \n",
    "        base_phoenix_specialization_id, \n",
    "        min(phoenix_specialization_display_page_launch_ts) as first_s12n_display_page_launch_ts\n",
    "    FROM prod.gold.phoenix_specializations_vw\n",
    "    GROUP by 1\n",
    "  ),\n",
    "\n",
    "s12n_table AS\n",
    "(\n",
    "SELECT \n",
    "ps.base_phoenix_specialization_id,\n",
    "ps.phoenix_specialization_id,\n",
    "ps.phoenix_specialization_slug,\n",
    "ps.phoenix_specialization_name,\n",
    "bsl.first_s12n_display_page_launch_ts::DATE AS launch_date\n",
    "FROM\n",
    "prod.gold.phoenix_specializations_vw ps\n",
    "JOIN\n",
    "base_s12n_launch_dts bsl \n",
    "USING (base_phoenix_specialization_id)\n",
    "),\n",
    "\n",
    "cplus_monthly_aggregated AS (\n",
    "SELECT \n",
    "ecrr.rev_rec_month_start_dt,\n",
    "ecrr.attributed_content_item_id as underlying_product_item_id,\n",
    "'cplus' as transaction_type,\n",
    "SUM(ecrr.rev_rec_amount_usd_estimate) AS rev_rec_amount_usd_estimate\n",
    "FROM\n",
    "prod.gold_base_restricted.estimated_combined_revenue_recognition ecrr\n",
    "where is_cplus_transaction and attribution_logic = 'EBRS' \n",
    "and rev_rec_month_start_dt < to_date(date_trunc('month',current_date))\n",
    "and rev_rec_month_start_dt >=to_date(date_trunc('month', add_months(current_date, -2)))\n",
    "group by 1, 2, 3\n",
    ")\n",
    "SELECT \n",
    "cma.rev_rec_month_start_dt,\n",
    "cma.underlying_product_item_id,\n",
    "st.base_phoenix_specialization_id,\n",
    "st.phoenix_specialization_id,\n",
    "st.phoenix_specialization_slug,\n",
    "st.phoenix_specialization_name,\n",
    "st.launch_date,\n",
    "cma.transaction_type,\n",
    "cma.rev_rec_amount_usd_estimate\n",
    "FROM\n",
    "cplus_monthly_aggregated cma\n",
    "JOIN\n",
    "s12n_table st\n",
    "ON\n",
    "cma.underlying_product_item_id = st.phoenix_specialization_id;\n"
   ]
  },
  {
   "cell_type": "markdown",
   "metadata": {
    "application/vnd.databricks.v1+cell": {
     "cellMetadata": {
      "byteLimit": 2048000,
      "rowLimit": 10000
     },
     "inputWidgets": {},
     "nuid": "07095c72-9a02-43cd-840d-dc8a8f9f085f",
     "showTitle": false,
     "tableResultSettingsMap": {},
     "title": ""
    }
   },
   "source": [
    "# Combined Revenue"
   ]
  },
  {
   "cell_type": "code",
   "execution_count": 0,
   "metadata": {
    "application/vnd.databricks.v1+cell": {
     "cellMetadata": {
      "byteLimit": 2048000,
      "rowLimit": 10000
     },
     "inputWidgets": {},
     "nuid": "538f882b-f6cd-4b2a-b3c2-72ee8ef5e32e",
     "showTitle": false,
     "tableResultSettingsMap": {},
     "title": ""
    }
   },
   "outputs": [
    {
     "output_type": "display_data",
     "data": {
      "text/html": [
       "<style scoped>\n",
       "  .table-result-container {\n",
       "    max-height: 300px;\n",
       "    overflow: auto;\n",
       "  }\n",
       "  table, th, td {\n",
       "    border: 1px solid black;\n",
       "    border-collapse: collapse;\n",
       "  }\n",
       "  th, td {\n",
       "    padding: 5px;\n",
       "  }\n",
       "  th {\n",
       "    text-align: left;\n",
       "  }\n",
       "</style><div class='table-result-container'><table class='table-result'><thead style='background-color: white'><tr></tr></thead><tbody></tbody></table></div>"
      ]
     },
     "metadata": {
      "application/vnd.databricks.v1+output": {
       "addedWidgets": {},
       "aggData": [],
       "aggError": "",
       "aggOverflow": false,
       "aggSchema": [],
       "aggSeriesLimitReached": false,
       "aggType": "",
       "arguments": {},
       "columnCustomDisplayInfos": {},
       "data": [],
       "datasetInfos": [],
       "dbfsResultPath": null,
       "isJsonSchema": true,
       "metadata": {},
       "overflow": false,
       "plotOptions": {
        "customPlotOptions": {},
        "displayType": "table",
        "pivotAggregation": null,
        "pivotColumns": null,
        "xColumns": null,
        "yColumns": null
       },
       "removedWidgets": [],
       "schema": [],
       "type": "table"
      }
     },
     "output_type": "display_data"
    }
   ],
   "source": [
    "CREATE or replace view dev.bi.s12n_estimated_total_b2c_revenue_mgtv AS \n",
    "(\n",
    "-- aggregate cplus revenue to base S12N ID level\n",
    "WITH cplus AS\n",
    "(\n",
    "  SELECT \n",
    "    base_phoenix_specialization_id,\n",
    "    launch_date,\n",
    "    rev_rec_month_start_dt,\n",
    "    SUM(rev_rec_amount_usd_estimate) as revenue\n",
    "  FROM\n",
    "  dev.bi.s12n_estimated_cplus_revenue_mgtv\n",
    "  GROUP BY 1, 2, 3\n",
    "),\n",
    "\n",
    "-- do the same with direct transactions\n",
    "direct AS\n",
    "(\n",
    "  SELECT \n",
    "    base_phoenix_specialization_id,\n",
    "    launch_date,\n",
    "    rev_rec_month_start_dt,\n",
    "    SUM(rev_rec_amount_usd_estimate) as revenue\n",
    "  FROM\n",
    "  dev.bi.s12n_estimated_b2c_direct_revenue_mgtv\n",
    "  GROUP BY 1, 2, 3\n",
    "),\n",
    "\n",
    "-- union both tables\n",
    "union_revenue AS \n",
    "(\n",
    "  SELECT * FROM cplus\n",
    "  UNION ALL\n",
    "  SELECT * FROM direct\n",
    ")\n",
    "\n",
    "SELECT\n",
    "    base_phoenix_specialization_id,\n",
    "    launch_date,\n",
    "    rev_rec_month_start_dt,\n",
    "    SUM(revenue) as b2c_revenue\n",
    "FROM union_revenue\n",
    "GROUP BY 1, 2, 3\n",
    ")"
   ]
  },
  {
   "cell_type": "markdown",
   "metadata": {
    "application/vnd.databricks.v1+cell": {
     "cellMetadata": {
      "byteLimit": 2048000,
      "rowLimit": 10000
     },
     "inputWidgets": {},
     "nuid": "574bf21e-ea25-4c06-818b-716961dbb608",
     "showTitle": false,
     "tableResultSettingsMap": {},
     "title": ""
    }
   },
   "source": [
    "%md\n",
    "# Deleting last 2 months of data"
   ]
  },
  {
   "cell_type": "code",
   "execution_count": 0,
   "metadata": {
    "application/vnd.databricks.v1+cell": {
     "cellMetadata": {
      "byteLimit": 2048000,
      "rowLimit": 10000
     },
     "inputWidgets": {},
     "nuid": "13ad7a47-2af6-467b-bd32-d49063d0e0ac",
     "showTitle": false,
     "tableResultSettingsMap": {},
     "title": ""
    }
   },
   "outputs": [
    {
     "output_type": "display_data",
     "data": {
      "text/html": [
       "<style scoped>\n",
       "  .table-result-container {\n",
       "    max-height: 300px;\n",
       "    overflow: auto;\n",
       "  }\n",
       "  table, th, td {\n",
       "    border: 1px solid black;\n",
       "    border-collapse: collapse;\n",
       "  }\n",
       "  th, td {\n",
       "    padding: 5px;\n",
       "  }\n",
       "  th {\n",
       "    text-align: left;\n",
       "  }\n",
       "</style><div class='table-result-container'><table class='table-result'><thead style='background-color: white'><tr><th>num_affected_rows</th></tr></thead><tbody><tr><td>1689</td></tr></tbody></table></div>"
      ]
     },
     "metadata": {
      "application/vnd.databricks.v1+output": {
       "addedWidgets": {},
       "aggData": [],
       "aggError": "",
       "aggOverflow": false,
       "aggSchema": [],
       "aggSeriesLimitReached": false,
       "aggType": "",
       "arguments": {},
       "columnCustomDisplayInfos": {},
       "data": [
        [
         1689
        ]
       ],
       "datasetInfos": [],
       "dbfsResultPath": null,
       "isJsonSchema": true,
       "metadata": {},
       "overflow": false,
       "plotOptions": {
        "customPlotOptions": {},
        "displayType": "table",
        "pivotAggregation": null,
        "pivotColumns": null,
        "xColumns": null,
        "yColumns": null
       },
       "removedWidgets": [],
       "schema": [
        {
         "metadata": "{}",
         "name": "num_affected_rows",
         "type": "\"long\""
        }
       ],
       "type": "table"
      }
     },
     "output_type": "display_data"
    }
   ],
   "source": [
    "-- drop table if exists dev.bi.s12n_estimated_total_b2c_revenue_mgtf;\n",
    "-- create table dev.bi.s12n_estimated_total_b2c_revenue_mgtf as\n",
    "-- select * from dev.bi.s12n_estimated_total_b2c_revenue_mgtv;\n",
    "\n",
    "DELETE FROM dev.bi.s12n_estimated_total_b2c_revenue_mgtf\n",
    "WHERE rev_rec_month_start_dt >= to_date(date_trunc('month', add_months(current_date, -2)))\n"
   ]
  },
  {
   "cell_type": "markdown",
   "metadata": {
    "application/vnd.databricks.v1+cell": {
     "cellMetadata": {
      "byteLimit": 2048000,
      "rowLimit": 10000
     },
     "inputWidgets": {},
     "nuid": "c9525517-6f36-4e44-83bb-f50ca0915774",
     "showTitle": false,
     "tableResultSettingsMap": {},
     "title": ""
    }
   },
   "source": [
    "# Appending the latest last 2 months of data"
   ]
  },
  {
   "cell_type": "code",
   "execution_count": 0,
   "metadata": {
    "application/vnd.databricks.v1+cell": {
     "cellMetadata": {
      "byteLimit": 2048000,
      "rowLimit": 10000
     },
     "inputWidgets": {},
     "nuid": "a269388c-4a9e-4b26-91d0-d936ef537d8d",
     "showTitle": false,
     "tableResultSettingsMap": {},
     "title": ""
    }
   },
   "outputs": [
    {
     "output_type": "display_data",
     "data": {
      "text/html": [
       "<style scoped>\n",
       "  .table-result-container {\n",
       "    max-height: 300px;\n",
       "    overflow: auto;\n",
       "  }\n",
       "  table, th, td {\n",
       "    border: 1px solid black;\n",
       "    border-collapse: collapse;\n",
       "  }\n",
       "  th, td {\n",
       "    padding: 5px;\n",
       "  }\n",
       "  th {\n",
       "    text-align: left;\n",
       "  }\n",
       "</style><div class='table-result-container'><table class='table-result'><thead style='background-color: white'><tr><th>num_affected_rows</th><th>num_inserted_rows</th></tr></thead><tbody><tr><td>3430</td><td>3430</td></tr></tbody></table></div>"
      ]
     },
     "metadata": {
      "application/vnd.databricks.v1+output": {
       "addedWidgets": {},
       "aggData": [],
       "aggError": "",
       "aggOverflow": false,
       "aggSchema": [],
       "aggSeriesLimitReached": false,
       "aggType": "",
       "arguments": {},
       "columnCustomDisplayInfos": {},
       "data": [
        [
         3430,
         3430
        ]
       ],
       "datasetInfos": [],
       "dbfsResultPath": null,
       "isJsonSchema": true,
       "metadata": {},
       "overflow": false,
       "plotOptions": {
        "customPlotOptions": {},
        "displayType": "table",
        "pivotAggregation": null,
        "pivotColumns": null,
        "xColumns": null,
        "yColumns": null
       },
       "removedWidgets": [],
       "schema": [
        {
         "metadata": "{}",
         "name": "num_affected_rows",
         "type": "\"long\""
        },
        {
         "metadata": "{}",
         "name": "num_inserted_rows",
         "type": "\"long\""
        }
       ],
       "type": "table"
      }
     },
     "output_type": "display_data"
    }
   ],
   "source": [
    "INSERT INTO dev.bi.s12n_estimated_total_b2c_revenue_mgtf\n",
    "select * from dev.bi.s12n_estimated_total_b2c_revenue_mgtv"
   ]
  },
  {
   "cell_type": "code",
   "execution_count": 0,
   "metadata": {
    "application/vnd.databricks.v1+cell": {
     "cellMetadata": {
      "byteLimit": 2048000,
      "rowLimit": 10000
     },
     "inputWidgets": {},
     "nuid": "42f6f0bf-a217-45b5-9a19-1815b863119c",
     "showTitle": false,
     "tableResultSettingsMap": {},
     "title": ""
    }
   },
   "outputs": [
    {
     "output_type": "display_data",
     "data": {
      "text/html": [
       "<style scoped>\n",
       "  .table-result-container {\n",
       "    max-height: 300px;\n",
       "    overflow: auto;\n",
       "  }\n",
       "  table, th, td {\n",
       "    border: 1px solid black;\n",
       "    border-collapse: collapse;\n",
       "  }\n",
       "  th, td {\n",
       "    padding: 5px;\n",
       "  }\n",
       "  th {\n",
       "    text-align: left;\n",
       "  }\n",
       "</style><div class='table-result-container'><table class='table-result'><thead style='background-color: white'><tr><th>yy</th><th>sum(b2c_revenue)</th></tr></thead><tbody><tr><td>2020</td><td>154590879.0254891901</td></tr><tr><td>2021</td><td>211984197.1846560071</td></tr><tr><td>2022</td><td>268411151.4224615748</td></tr><tr><td>2023</td><td>337687842.6292258343</td></tr><tr><td>2024</td><td>362605278.0038679186</td></tr><tr><td>2025</td><td>157646456.6938899522</td></tr></tbody></table></div>"
      ]
     },
     "metadata": {
      "application/vnd.databricks.v1+output": {
       "addedWidgets": {},
       "aggData": [],
       "aggError": "",
       "aggOverflow": false,
       "aggSchema": [],
       "aggSeriesLimitReached": false,
       "aggType": "",
       "arguments": {},
       "columnCustomDisplayInfos": {},
       "data": [
        [
         2020,
         "154590879.0254891901"
        ],
        [
         2021,
         "211984197.1846560071"
        ],
        [
         2022,
         "268411151.4224615748"
        ],
        [
         2023,
         "337687842.6292258343"
        ],
        [
         2024,
         "362605278.0038679186"
        ],
        [
         2025,
         "157646456.6938899522"
        ]
       ],
       "datasetInfos": [],
       "dbfsResultPath": null,
       "isJsonSchema": true,
       "metadata": {},
       "overflow": false,
       "plotOptions": {
        "customPlotOptions": {},
        "displayType": "table",
        "pivotAggregation": null,
        "pivotColumns": null,
        "xColumns": null,
        "yColumns": null
       },
       "removedWidgets": [],
       "schema": [
        {
         "metadata": "{}",
         "name": "yy",
         "type": "\"integer\""
        },
        {
         "metadata": "{}",
         "name": "sum(b2c_revenue)",
         "type": "\"decimal\""
        }
       ],
       "type": "table"
      }
     },
     "output_type": "display_data"
    }
   ],
   "source": [
    "select year(rev_rec_month_start_dt) as yy,sum(b2c_revenue) \n",
    "from dev.bi.s12n_estimated_total_b2c_revenue_mgtf \n",
    "group by 1 order by 1\n"
   ]
  }
 ],
 "metadata": {
  "application/vnd.databricks.v1+notebook": {
   "computePreferences": null,
   "dashboards": [],
   "environmentMetadata": {
    "base_environment": "",
    "environment_version": "2"
   },
   "inputWidgetPreferences": null,
   "language": "sql",
   "notebookMetadata": {
    "pythonIndentUnit": 2
   },
   "notebookName": "B2C S12N Revenue MG",
   "widgets": {}
  },
  "language_info": {
   "name": "sql"
  }
 },
 "nbformat": 4,
 "nbformat_minor": 0
}
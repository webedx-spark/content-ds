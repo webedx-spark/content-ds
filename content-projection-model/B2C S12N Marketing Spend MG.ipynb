{
 "cells": [
  {
   "cell_type": "markdown",
   "metadata": {
    "application/vnd.databricks.v1+cell": {
     "cellMetadata": {
      "byteLimit": 2048000,
      "rowLimit": 10000
     },
     "inputWidgets": {},
     "nuid": "0bc47135-d5d6-45b6-9956-17305a2ed85c",
     "showTitle": false,
     "tableResultSettingsMap": {},
     "title": ""
    }
   },
   "source": [
    "# Marketing Spend"
   ]
  },
  {
   "cell_type": "code",
   "execution_count": 0,
   "metadata": {
    "application/vnd.databricks.v1+cell": {
     "cellMetadata": {
      "byteLimit": 2048000,
      "rowLimit": 10000
     },
     "inputWidgets": {},
     "nuid": "6b0fe29b-c50e-4289-8a2b-16868c0db146",
     "showTitle": false,
     "tableResultSettingsMap": {},
     "title": ""
    }
   },
   "outputs": [
    {
     "output_type": "display_data",
     "data": {
      "text/html": [
       "<style scoped>\n",
       "  .table-result-container {\n",
       "    max-height: 300px;\n",
       "    overflow: auto;\n",
       "  }\n",
       "  table, th, td {\n",
       "    border: 1px solid black;\n",
       "    border-collapse: collapse;\n",
       "  }\n",
       "  th, td {\n",
       "    padding: 5px;\n",
       "  }\n",
       "  th {\n",
       "    text-align: left;\n",
       "  }\n",
       "</style><div class='table-result-container'><table class='table-result'><thead style='background-color: white'><tr></tr></thead><tbody></tbody></table></div>"
      ]
     },
     "metadata": {
      "application/vnd.databricks.v1+output": {
       "addedWidgets": {},
       "aggData": [],
       "aggError": "",
       "aggOverflow": false,
       "aggSchema": [],
       "aggSeriesLimitReached": false,
       "aggType": "",
       "arguments": {},
       "columnCustomDisplayInfos": {},
       "data": [],
       "datasetInfos": [],
       "dbfsResultPath": null,
       "isJsonSchema": true,
       "metadata": {},
       "overflow": false,
       "plotOptions": {
        "customPlotOptions": {},
        "displayType": "table",
        "pivotAggregation": null,
        "pivotColumns": null,
        "xColumns": null,
        "yColumns": null
       },
       "removedWidgets": [],
       "schema": [],
       "type": "table"
      }
     },
     "output_type": "display_data"
    }
   ],
   "source": [
    "CREATE OR REPLACE VIEW dev.bi.s12n_marketing_spend_mgtv AS \n",
    "(\n",
    "WITH promoted_product_data AS (\n",
    "\n",
    "--------------------------------------------------------\n",
    "--------- Collect Non-Affiliate Channel Spend ----------\n",
    "--------- Paid Search and Paid Social Channels  --------\n",
    "--------------------------------------------------------\n",
    "SELECT    \n",
    "    \n",
    "    DATE_TRUNC('MONTH', ac.spend_date)::DATE AS spend_month,\n",
    "    \n",
    "--     CASE WHEN ac.paid_media_channel IN ('Google Ads','Microsoft Ads') THEN 'Paid Search'\n",
    "--          ELSE 'Paid Social'\n",
    "--          END AS l1_channel,\n",
    "    \n",
    "    CASE WHEN ac.paid_media_channel ILIKE '%youtube%' THEN 'YouTube Ads'\n",
    "         ELSE ac.paid_media_channel \n",
    "         END AS l2_channel,\n",
    "    \n",
    "    CASE WHEN LENGTH(SPLIT_PART(ac.campaign_name, '_', 3)) = 0 OR SPLIT_PART(ac.campaign_name, '_', 3) IS NULL\n",
    "             THEN 'No Product Identified'\n",
    "         WHEN SPLIT_PART(ac.campaign_name, '_', 6) ILIKE '%courseraplus%' \n",
    "             THEN 'Coursera Plus'\n",
    "         WHEN SPLIT_PART(ac.campaign_name, '_', 3) IN (SELECT DISTINCT underlying_product_slug FROM prod.gold.underlying_products_vw)\n",
    "             THEN SPLIT_PART(ac.campaign_name, '_', 3)\n",
    "         ELSE 'Campaign Name Not Standardized'\n",
    "         END AS product,\n",
    "    \n",
    "    SUM(ac.spend_usd) AS spend\n",
    "\n",
    "FROM prod.gold_base.paid_media_channel_spend_consolidated ac\n",
    "\n",
    "WHERE\n",
    "    -- ac.spend_date BETWEEN '2024-01-01' AND (CURRENT_DATE-2) --DATE RANGE #1\n",
    "     ac.paid_media_channel IN ('Google Ads','Microsoft Ads','Facebook Ads','Reddit Ads')\n",
    "     and to_date(ac.spend_date) < to_date(date_trunc('month',current_date))\n",
    "     and to_date(ac.spend_date) >=to_date(date_trunc('month', add_months(current_date, -2)))\n",
    "\n",
    "GROUP BY 1,2,3\n",
    "----------------------------------------------------\n",
    "--------- Collect Affiliate Channel Spend ----------\n",
    "----------------------------------------------------\n",
    "\n",
    "UNION ALL\n",
    "\n",
    "SELECT \n",
    "\n",
    "    DATE_TRUNC('MONTH',conversion_timestamp)::DATE AS spend_month,\n",
    "\n",
    "--     'Affiliates' AS l1_channel,\n",
    "\n",
    "    'Affiliates' AS l2_channel,\n",
    "\n",
    "    CASE WHEN SPLIT_PART(SPLIT_PART(ac.landing_url, '?', 1), '/', 4) = 'courseraplus' \n",
    "              THEN 'Coursera Plus' \n",
    "         WHEN SPLIT_PART(SPLIT_PART(landing_url, '?', 1), '/', 5) IN (SELECT DISTINCT underlying_product_slug FROM prod.gold.underlying_products_vw) THEN SPLIT_PART(SPLIT_PART(landing_url, '?', 1), '/', 5)\n",
    "         ELSE 'No Product Identified'\n",
    "         END AS product,\n",
    "\n",
    "    SUM(action_cost) as spend\n",
    "\n",
    "FROM prod.gold_base.affiliate_performance ac\n",
    "\n",
    "--tables to collect region information\n",
    "LEFT JOIN prod.gold_base.users u -- for some reason users_vw does not have the country_cd field.\n",
    "    ON ac.user_id = u.user_id\n",
    "LEFT JOIN prod.silver.static_countries_vw c\n",
    "    ON u.country_cd = c.country_cd\n",
    "\n",
    "--tables to collect transactions information    \n",
    "LEFT JOIN prod.gold.transactions_vw t\n",
    "    ON ac.user_id = t.user_id\n",
    "    AND ac.cart_id = t.cart_id\n",
    "LEFT JOIN prod.gold.underlying_products_vw up\n",
    "    ON t.underlying_product_item_id = up.underlying_product_item_id\n",
    "    AND t.underlying_product_type = up.underlying_product_type\n",
    "\n",
    "-- WHERE ac.conversion_timestamp::DATE BETWEEN '2024-01-01' AND (CURRENT_DATE-2) --DATE RANGE #2\n",
    "     where to_date(ac.conversion_timestamp) < to_date(date_trunc('month',current_date))\n",
    "     and to_date(ac.conversion_timestamp) >=to_date(date_trunc('month', add_months(current_date, -2)))\n",
    "\n",
    "GROUP BY 1,2,3\n",
    "),\n",
    "\n",
    "product_marketing_spend AS (\n",
    "    SELECT \n",
    "        ppd.spend_month,\n",
    "        up.underlying_product_name,\n",
    "        up.underlying_product_item_id,\n",
    "        up.underlying_product_type,\n",
    "        ppd.product AS campaign_product,\n",
    "        SUM(ppd.spend) AS spend\n",
    "    FROM promoted_product_data ppd\n",
    "    LEFT JOIN prod.gold.underlying_products_vw up\n",
    "        ON ppd.product = up.underlying_product_slug\n",
    "    WHERE \n",
    "        underlying_product_name IS NOT NULL\n",
    "    GROUP BY 1,2,3,4,5\n",
    ")\n",
    "\n",
    "-- Add base S12N data\n",
    "SELECT \n",
    "    pm.spend_month,\n",
    "    ps.base_phoenix_specialization_id,\n",
    "    ps.phoenix_specialization_id,\n",
    "    DATE_TRUNC('month', sic.phoenix_specialization_display_page_launch_ts)::DATE AS launch_month,\n",
    "    pm.underlying_product_item_id,\n",
    "    pm.underlying_product_type,\n",
    "    pm.campaign_product,\n",
    "    COALESCE(pm.spend, 0) AS marketing_spend\n",
    "FROM \n",
    "    prod.gold.phoenix_specializations_vw ps\n",
    "LEFT JOIN\n",
    "    product_marketing_spend pm\n",
    "ON \n",
    "    ps.phoenix_specialization_id = pm.underlying_product_item_id\n",
    "JOIN\n",
    "    dev.bi.s12n_item_counts_mgtv sic -- to get base S12N launch dates\n",
    "ON \n",
    "    ps.base_phoenix_specialization_id = sic.base_phoenix_specialization_id\n",
    "WHERE spend_month is not null\n",
    "--     ps.base_phoenix_specialization_id <> ps.phoenix_specialization_id \n",
    "-- added the above where clause to check if the join using the phoenix_specialization_id to the underlying_product_item_id is the correct way to do things\n",
    ")\n"
   ]
  },
  {
   "cell_type": "markdown",
   "metadata": {
    "application/vnd.databricks.v1+cell": {
     "cellMetadata": {
      "byteLimit": 2048000,
      "rowLimit": 10000
     },
     "inputWidgets": {},
     "nuid": "2ced11c8-5583-44fe-9819-06ee8a544182",
     "showTitle": false,
     "tableResultSettingsMap": {},
     "title": ""
    }
   },
   "source": [
    "# Deleting last 2 months of data"
   ]
  },
  {
   "cell_type": "code",
   "execution_count": 0,
   "metadata": {
    "application/vnd.databricks.v1+cell": {
     "cellMetadata": {
      "byteLimit": 2048000,
      "rowLimit": 10000
     },
     "inputWidgets": {},
     "nuid": "34542322-7a37-47c6-88b2-16460a9adfb7",
     "showTitle": false,
     "tableResultSettingsMap": {},
     "title": ""
    }
   },
   "outputs": [
    {
     "output_type": "display_data",
     "data": {
      "text/html": [
       "<style scoped>\n",
       "  .table-result-container {\n",
       "    max-height: 300px;\n",
       "    overflow: auto;\n",
       "  }\n",
       "  table, th, td {\n",
       "    border: 1px solid black;\n",
       "    border-collapse: collapse;\n",
       "  }\n",
       "  th, td {\n",
       "    padding: 5px;\n",
       "  }\n",
       "  th {\n",
       "    text-align: left;\n",
       "  }\n",
       "</style><div class='table-result-container'><table class='table-result'><thead style='background-color: white'><tr><th>num_affected_rows</th></tr></thead><tbody><tr><td>6430</td></tr></tbody></table></div>"
      ]
     },
     "metadata": {
      "application/vnd.databricks.v1+output": {
       "addedWidgets": {},
       "aggData": [],
       "aggError": "",
       "aggOverflow": false,
       "aggSchema": [],
       "aggSeriesLimitReached": false,
       "aggType": "",
       "arguments": {},
       "columnCustomDisplayInfos": {},
       "data": [
        [
         6430
        ]
       ],
       "datasetInfos": [],
       "dbfsResultPath": null,
       "isJsonSchema": true,
       "metadata": {},
       "overflow": false,
       "plotOptions": {
        "customPlotOptions": {},
        "displayType": "table",
        "pivotAggregation": null,
        "pivotColumns": null,
        "xColumns": null,
        "yColumns": null
       },
       "removedWidgets": [],
       "schema": [
        {
         "metadata": "{}",
         "name": "num_affected_rows",
         "type": "\"long\""
        }
       ],
       "type": "table"
      }
     },
     "output_type": "display_data"
    }
   ],
   "source": [
    "DELETE FROM dev.bi.s12n_marketing_spend_mgtf\n",
    "-- where spend_month is null\n",
    "WHERE spend_month >= to_date(date_trunc('month', add_months(current_date, -2)))"
   ]
  },
  {
   "cell_type": "markdown",
   "metadata": {
    "application/vnd.databricks.v1+cell": {
     "cellMetadata": {
      "byteLimit": 2048000,
      "rowLimit": 10000
     },
     "inputWidgets": {},
     "nuid": "3cdad330-bef4-49d3-9252-9d50c36bbf96",
     "showTitle": false,
     "tableResultSettingsMap": {},
     "title": ""
    }
   },
   "source": [
    "# Appending the latest last 2 months of data"
   ]
  },
  {
   "cell_type": "code",
   "execution_count": 0,
   "metadata": {
    "application/vnd.databricks.v1+cell": {
     "cellMetadata": {
      "byteLimit": 2048000,
      "rowLimit": 10000
     },
     "inputWidgets": {},
     "nuid": "4919dfbc-842d-402b-bda3-2f6ab91873d1",
     "showTitle": false,
     "tableResultSettingsMap": {},
     "title": ""
    }
   },
   "outputs": [
    {
     "output_type": "display_data",
     "data": {
      "text/html": [
       "<style scoped>\n",
       "  .table-result-container {\n",
       "    max-height: 300px;\n",
       "    overflow: auto;\n",
       "  }\n",
       "  table, th, td {\n",
       "    border: 1px solid black;\n",
       "    border-collapse: collapse;\n",
       "  }\n",
       "  th, td {\n",
       "    padding: 5px;\n",
       "  }\n",
       "  th {\n",
       "    text-align: left;\n",
       "  }\n",
       "</style><div class='table-result-container'><table class='table-result'><thead style='background-color: white'><tr><th>num_affected_rows</th><th>num_inserted_rows</th></tr></thead><tbody><tr><td>25320</td><td>25320</td></tr></tbody></table></div>"
      ]
     },
     "metadata": {
      "application/vnd.databricks.v1+output": {
       "addedWidgets": {},
       "aggData": [],
       "aggError": "",
       "aggOverflow": false,
       "aggSchema": [],
       "aggSeriesLimitReached": false,
       "aggType": "",
       "arguments": {},
       "columnCustomDisplayInfos": {},
       "data": [
        [
         25320,
         25320
        ]
       ],
       "datasetInfos": [],
       "dbfsResultPath": null,
       "isJsonSchema": true,
       "metadata": {},
       "overflow": false,
       "plotOptions": {
        "customPlotOptions": {},
        "displayType": "table",
        "pivotAggregation": null,
        "pivotColumns": null,
        "xColumns": null,
        "yColumns": null
       },
       "removedWidgets": [],
       "schema": [
        {
         "metadata": "{}",
         "name": "num_affected_rows",
         "type": "\"long\""
        },
        {
         "metadata": "{}",
         "name": "num_inserted_rows",
         "type": "\"long\""
        }
       ],
       "type": "table"
      }
     },
     "output_type": "display_data"
    }
   ],
   "source": [
    "INSERT INTO dev.bi.s12n_marketing_spend_mgtf\n",
    "select * from dev.bi.s12n_marketing_spend_mgtv"
   ]
  },
  {
   "cell_type": "markdown",
   "metadata": {
    "application/vnd.databricks.v1+cell": {
     "cellMetadata": {
      "byteLimit": 2048000,
      "rowLimit": 10000
     },
     "inputWidgets": {},
     "nuid": "268b9ae2-af13-4037-8aaf-2491220cfc51",
     "showTitle": false,
     "tableResultSettingsMap": {},
     "title": ""
    }
   },
   "source": [
    "# QA"
   ]
  }
 ],
 "metadata": {
  "application/vnd.databricks.v1+notebook": {
   "computePreferences": null,
   "dashboards": [],
   "environmentMetadata": {
    "base_environment": "",
    "environment_version": "2"
   },
   "inputWidgetPreferences": null,
   "language": "sql",
   "notebookMetadata": {
    "pythonIndentUnit": 2
   },
   "notebookName": "B2C S12N Marketing Spend MG",
   "widgets": {}
  },
  "language_info": {
   "name": "sql"
  }
 },
 "nbformat": 4,
 "nbformat_minor": 0
}
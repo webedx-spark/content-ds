{
 "cells": [
  {
   "cell_type": "markdown",
   "metadata": {
    "application/vnd.databricks.v1+cell": {
     "cellMetadata": {
      "byteLimit": 2048000,
      "rowLimit": 10000
     },
     "inputWidgets": {},
     "nuid": "aa1ec1a9-eb11-433c-829a-f9311de86a09",
     "showTitle": false,
     "tableResultSettingsMap": {},
     "title": ""
    }
   },
   "source": [
    "# Sequence of dates"
   ]
  },
  {
   "cell_type": "code",
   "execution_count": 0,
   "metadata": {
    "application/vnd.databricks.v1+cell": {
     "cellMetadata": {
      "byteLimit": 2048000,
      "rowLimit": 10000
     },
     "inputWidgets": {},
     "nuid": "90c30a0a-c4f8-4d57-9050-4645c9d23521",
     "showTitle": false,
     "tableResultSettingsMap": {},
     "title": ""
    }
   },
   "outputs": [
    {
     "output_type": "display_data",
     "data": {
      "text/html": [
       "<style scoped>\n",
       "  .table-result-container {\n",
       "    max-height: 300px;\n",
       "    overflow: auto;\n",
       "  }\n",
       "  table, th, td {\n",
       "    border: 1px solid black;\n",
       "    border-collapse: collapse;\n",
       "  }\n",
       "  th, td {\n",
       "    padding: 5px;\n",
       "  }\n",
       "  th {\n",
       "    text-align: left;\n",
       "  }\n",
       "</style><div class='table-result-container'><table class='table-result'><thead style='background-color: white'><tr></tr></thead><tbody></tbody></table></div>"
      ]
     },
     "metadata": {
      "application/vnd.databricks.v1+output": {
       "addedWidgets": {},
       "aggData": [],
       "aggError": "",
       "aggOverflow": false,
       "aggSchema": [],
       "aggSeriesLimitReached": false,
       "aggType": "",
       "arguments": {},
       "columnCustomDisplayInfos": {},
       "data": [],
       "datasetInfos": [],
       "dbfsResultPath": null,
       "isJsonSchema": true,
       "metadata": {},
       "overflow": false,
       "plotOptions": {
        "customPlotOptions": {},
        "displayType": "table",
        "pivotAggregation": null,
        "pivotColumns": null,
        "xColumns": null,
        "yColumns": null
       },
       "removedWidgets": [],
       "schema": [],
       "type": "table"
      }
     },
     "output_type": "display_data"
    },
    {
     "output_type": "display_data",
     "data": {
      "text/html": [
       "<style scoped>\n",
       "  .table-result-container {\n",
       "    max-height: 300px;\n",
       "    overflow: auto;\n",
       "  }\n",
       "  table, th, td {\n",
       "    border: 1px solid black;\n",
       "    border-collapse: collapse;\n",
       "  }\n",
       "  th, td {\n",
       "    padding: 5px;\n",
       "  }\n",
       "  th {\n",
       "    text-align: left;\n",
       "  }\n",
       "</style><div class='table-result-container'><table class='table-result'><thead style='background-color: white'><tr><th>num_affected_rows</th><th>num_inserted_rows</th></tr></thead><tbody></tbody></table></div>"
      ]
     },
     "metadata": {
      "application/vnd.databricks.v1+output": {
       "addedWidgets": {},
       "aggData": [],
       "aggError": "",
       "aggOverflow": false,
       "aggSchema": [],
       "aggSeriesLimitReached": false,
       "aggType": "",
       "arguments": {},
       "columnCustomDisplayInfos": {},
       "data": [],
       "datasetInfos": [],
       "dbfsResultPath": null,
       "isJsonSchema": true,
       "metadata": {},
       "overflow": false,
       "plotOptions": {
        "customPlotOptions": {},
        "displayType": "table",
        "pivotAggregation": null,
        "pivotColumns": null,
        "xColumns": null,
        "yColumns": null
       },
       "removedWidgets": [],
       "schema": [
        {
         "metadata": "{}",
         "name": "num_affected_rows",
         "type": "\"long\""
        },
        {
         "metadata": "{}",
         "name": "num_inserted_rows",
         "type": "\"long\""
        }
       ],
       "type": "table"
      }
     },
     "output_type": "display_data"
    }
   ],
   "source": [
    "-- table to generate a sequence of dates\n",
    "DROP TABLE IF EXISTS dev.bi.s12n_date_sequence_mgtv;\n",
    "CREATE TABLE dev.bi.s12n_date_sequence_mgtv AS\n",
    "(\n",
    "  WITH start_end_dates AS\n",
    "  (\n",
    "    SELECT \n",
    "      base_phoenix_specialization_id,\n",
    "      TRUNC(launch_date, 'MM') AS start_month,\n",
    "      TRUNC(current_date, 'MM') AS end_month\n",
    "  FROM\n",
    "      dev.bi.s12n_estimated_total_b2c_revenue_mgtf \n",
    "  WHERE \n",
    "    launch_date IS NOT NULL -- removes S12Ns that haven't been launched yet.\n",
    "  GROUP BY 1, 2, 3\n",
    "  )\n",
    "\n",
    "  SELECT \n",
    "    base_phoenix_specialization_id, \n",
    "    start_month,\n",
    "    end_month,\n",
    "    EXPLODE(SEQUENCE(start_month, end_month, INTERVAL 1 MONTH)) AS date_month\n",
    "  FROM start_end_dates\n",
    ")\n"
   ]
  },
  {
   "cell_type": "markdown",
   "metadata": {
    "application/vnd.databricks.v1+cell": {
     "cellMetadata": {
      "byteLimit": 2048000,
      "rowLimit": 10000
     },
     "inputWidgets": {},
     "nuid": "f16ccfd6-9f07-4f88-a870-9e51e8636525",
     "showTitle": false,
     "tableResultSettingsMap": {},
     "title": ""
    }
   },
   "source": [
    "# Revenue Aggregation table"
   ]
  },
  {
   "cell_type": "code",
   "execution_count": 0,
   "metadata": {
    "application/vnd.databricks.v1+cell": {
     "cellMetadata": {
      "byteLimit": 2048000,
      "rowLimit": 10000
     },
     "inputWidgets": {},
     "nuid": "222a630a-4574-422c-ad0e-c23c5ab949d3",
     "showTitle": false,
     "tableResultSettingsMap": {},
     "title": ""
    }
   },
   "outputs": [
    {
     "output_type": "display_data",
     "data": {
      "text/html": [
       "<style scoped>\n",
       "  .table-result-container {\n",
       "    max-height: 300px;\n",
       "    overflow: auto;\n",
       "  }\n",
       "  table, th, td {\n",
       "    border: 1px solid black;\n",
       "    border-collapse: collapse;\n",
       "  }\n",
       "  th, td {\n",
       "    padding: 5px;\n",
       "  }\n",
       "  th {\n",
       "    text-align: left;\n",
       "  }\n",
       "</style><div class='table-result-container'><table class='table-result'><thead style='background-color: white'><tr></tr></thead><tbody></tbody></table></div>"
      ]
     },
     "metadata": {
      "application/vnd.databricks.v1+output": {
       "addedWidgets": {},
       "aggData": [],
       "aggError": "",
       "aggOverflow": false,
       "aggSchema": [],
       "aggSeriesLimitReached": false,
       "aggType": "",
       "arguments": {},
       "columnCustomDisplayInfos": {},
       "data": [],
       "datasetInfos": [],
       "dbfsResultPath": null,
       "isJsonSchema": true,
       "metadata": {},
       "overflow": false,
       "plotOptions": {
        "customPlotOptions": {},
        "displayType": "table",
        "pivotAggregation": null,
        "pivotColumns": null,
        "xColumns": null,
        "yColumns": null
       },
       "removedWidgets": [],
       "schema": [],
       "type": "table"
      }
     },
     "output_type": "display_data"
    },
    {
     "output_type": "display_data",
     "data": {
      "text/html": [
       "<style scoped>\n",
       "  .table-result-container {\n",
       "    max-height: 300px;\n",
       "    overflow: auto;\n",
       "  }\n",
       "  table, th, td {\n",
       "    border: 1px solid black;\n",
       "    border-collapse: collapse;\n",
       "  }\n",
       "  th, td {\n",
       "    padding: 5px;\n",
       "  }\n",
       "  th {\n",
       "    text-align: left;\n",
       "  }\n",
       "</style><div class='table-result-container'><table class='table-result'><thead style='background-color: white'><tr><th>num_affected_rows</th><th>num_inserted_rows</th></tr></thead><tbody></tbody></table></div>"
      ]
     },
     "metadata": {
      "application/vnd.databricks.v1+output": {
       "addedWidgets": {},
       "aggData": [],
       "aggError": "",
       "aggOverflow": false,
       "aggSchema": [],
       "aggSeriesLimitReached": false,
       "aggType": "",
       "arguments": {},
       "columnCustomDisplayInfos": {},
       "data": [],
       "datasetInfos": [],
       "dbfsResultPath": null,
       "isJsonSchema": true,
       "metadata": {},
       "overflow": false,
       "plotOptions": {
        "customPlotOptions": {},
        "displayType": "table",
        "pivotAggregation": null,
        "pivotColumns": null,
        "xColumns": null,
        "yColumns": null
       },
       "removedWidgets": [],
       "schema": [
        {
         "metadata": "{}",
         "name": "num_affected_rows",
         "type": "\"long\""
        },
        {
         "metadata": "{}",
         "name": "num_inserted_rows",
         "type": "\"long\""
        }
       ],
       "type": "table"
      }
     },
     "output_type": "display_data"
    }
   ],
   "source": [
    "DROP TABLE IF EXISTS dev.bi.s12n_estimated_b2c_revenue_aggregated_mgtv;\n",
    "CREATE TABLE dev.bi.s12n_estimated_b2c_revenue_aggregated_mgtv AS\n",
    "(\n",
    "WITH b2c_revenue AS\n",
    "(\n",
    "  SELECT \n",
    "      rev_rec_month_start_dt,\n",
    "      TRUNC(launch_date, 'MM') AS launch_month,\n",
    "      base_phoenix_specialization_id,\n",
    "      sum(b2c_revenue) as b2c_revenue\n",
    "  FROM \n",
    "      dev.bi.s12n_estimated_total_b2c_revenue_mgtf\n",
    "    GROUP BY 1,2,3\n",
    "),\n",
    "\n",
    "-- Join this with the date sequence table\n",
    "filled_b2c_revenue_data AS\n",
    "(\n",
    "SELECT \n",
    "    COALESCE(br.rev_rec_month_start_dt, ds.date_month) AS date_month,\n",
    "    COALESCE(br.launch_month, ds.start_month) AS launch_month,\n",
    "    COALESCE(br.base_phoenix_specialization_id, ds.base_phoenix_specialization_id) AS base_phoenix_specialization_id,\n",
    "    COALESCE(br.b2c_revenue, 0) AS b2c_revenue\n",
    "FROM \n",
    "    b2c_revenue br\n",
    "RIGHT JOIN\n",
    "    dev.bi.s12n_date_sequence_mgtv ds\n",
    "ON \n",
    "    br.base_phoenix_specialization_id = ds.base_phoenix_specialization_id\n",
    "AND\n",
    "    br.rev_rec_month_start_dt = ds.date_month\n",
    ")\n",
    "\n",
    "-- Add recognized revenue aggregate from the current month to the next 11 months (12 months total)\n",
    "-- The n12m value when date_month = launch_month is the Y1 recognized revenue\n",
    "SELECT \n",
    "    date_month,\n",
    "    launch_month,\n",
    "    base_phoenix_specialization_id,\n",
    "    b2c_revenue,\n",
    "    SUM(b2c_revenue) OVER (PARTITION BY base_phoenix_specialization_id ORDER BY date_month\n",
    "                               ROWS BETWEEN CURRENT ROW AND 11 FOLLOWING) AS rolling_n12m_b2c_revenue\n",
    "FROM \n",
    "filled_b2c_revenue_data\n",
    "where date_month < to_date(date_trunc('month',current_date))\n",
    ")"
   ]
  }
 ],
 "metadata": {
  "application/vnd.databricks.v1+notebook": {
   "computePreferences": null,
   "dashboards": [],
   "environmentMetadata": {
    "base_environment": "",
    "environment_version": "2"
   },
   "inputWidgetPreferences": null,
   "language": "sql",
   "notebookMetadata": {
    "pythonIndentUnit": 2
   },
   "notebookName": "B2C S12N Revenue Aggregation MG",
   "widgets": {}
  },
  "language_info": {
   "name": "sql"
  }
 },
 "nbformat": 4,
 "nbformat_minor": 0
}
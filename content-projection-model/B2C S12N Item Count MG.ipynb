{
 "cells": [
  {
   "cell_type": "code",
   "execution_count": 0,
   "metadata": {
    "application/vnd.databricks.v1+cell": {
     "cellMetadata": {
      "byteLimit": 2048000,
      "rowLimit": 10000
     },
     "inputWidgets": {},
     "nuid": "b1f080a5-8852-4f66-9d7d-7d772e83adc4",
     "showTitle": false,
     "tableResultSettingsMap": {},
     "title": ""
    }
   },
   "outputs": [
    {
     "output_type": "display_data",
     "data": {
      "text/html": [
       "<style scoped>\n",
       "  .table-result-container {\n",
       "    max-height: 300px;\n",
       "    overflow: auto;\n",
       "  }\n",
       "  table, th, td {\n",
       "    border: 1px solid black;\n",
       "    border-collapse: collapse;\n",
       "  }\n",
       "  th, td {\n",
       "    padding: 5px;\n",
       "  }\n",
       "  th {\n",
       "    text-align: left;\n",
       "  }\n",
       "</style><div class='table-result-container'><table class='table-result'><thead style='background-color: white'><tr><th>num_affected_rows</th><th>num_inserted_rows</th></tr></thead><tbody></tbody></table></div>"
      ]
     },
     "metadata": {
      "application/vnd.databricks.v1+output": {
       "addedWidgets": {},
       "aggData": [],
       "aggError": "",
       "aggOverflow": false,
       "aggSchema": [],
       "aggSeriesLimitReached": false,
       "aggType": "",
       "arguments": {},
       "columnCustomDisplayInfos": {},
       "data": [],
       "datasetInfos": [
        {
         "name": "_sqldf",
         "schema": {
          "fields": [
           {
            "metadata": {},
            "name": "num_affected_rows",
            "nullable": true,
            "type": "long"
           },
           {
            "metadata": {},
            "name": "num_inserted_rows",
            "nullable": true,
            "type": "long"
           }
          ],
          "type": "struct"
         },
         "tableIdentifier": null,
         "typeStr": "pyspark.sql.connect.dataframe.DataFrame"
        }
       ],
       "dbfsResultPath": null,
       "isJsonSchema": true,
       "metadata": {
        "createTempViewForImplicitDf": true,
        "dataframeName": "_sqldf",
        "executionCount": 1
       },
       "overflow": false,
       "plotOptions": {
        "customPlotOptions": {},
        "displayType": "table",
        "pivotAggregation": null,
        "pivotColumns": null,
        "xColumns": null,
        "yColumns": null
       },
       "removedWidgets": [],
       "schema": [
        {
         "metadata": "{}",
         "name": "num_affected_rows",
         "type": "\"long\""
        },
        {
         "metadata": "{}",
         "name": "num_inserted_rows",
         "type": "\"long\""
        }
       ],
       "type": "table"
      }
     },
     "output_type": "display_data"
    }
   ],
   "source": [
    "-- Query to get the count of items by specialization\n",
    "DROP TABLE IF EXISTS dev.bi.s12n_item_counts_mgtv;\n",
    "CREATE TABLE dev.bi.s12n_item_counts_mgtv AS (\n",
    "-- Get the base s12n data\n",
    "WITH base_s12n_data AS\n",
    "(\n",
    "SELECT \n",
    "    phoenix_specialization_id,\n",
    "    base_phoenix_specialization_id,\n",
    "    phoenix_specialization_version,\n",
    "    phoenix_specialization_slug,\n",
    "    phoenix_specialization_name,\n",
    "    sequence_branch_id,\n",
    "    is_specialization,\n",
    "    is_professional_certificate,\n",
    "    phoenix_specialization_primary_domain,\n",
    "    phoenix_specialization_primary_subdomain,\n",
    "    phoenix_specialization_primary_domain_id,\n",
    "    phoenix_specialization_primary_subdomain_id,\n",
    "    is_gateway_certificate,\n",
    "    is_phoenix_specialization_currently_launched,\n",
    "    phoenix_specialization_launch_ts,\n",
    "    phoenix_specialization_display_page_launch_ts\n",
    " FROM\n",
    "prod.gold.phoenix_specializations_vw\n",
    "WHERE \n",
    "phoenix_specialization_id = base_phoenix_specialization_id\n",
    "GROUP BY 1, 2, 3, 4, 5, 6, 7, 8, 9, 10, 11, 12, 13, 14, 15, 16\n",
    "),\n",
    "\n",
    "-- only get the count of items from the default branch\n",
    "course_branch_item_counts AS\n",
    "(\n",
    "SELECT \n",
    "    cbi.course_id, \n",
    "    cbi.course_branch_id,  \n",
    "    cbi.course_branch_item_type,\n",
    "    COUNT(DISTINCT cbi.course_item_id) as number_of_items\n",
    "FROM \n",
    "    prod.gold.course_branch_items_vw cbi\n",
    "JOIN\n",
    "    prod.gold.course_branches_vw cb\n",
    "ON\n",
    "    cbi.course_branch_id = cb.course_branch_id\n",
    "AND\n",
    "    cbi.course_id = cb.course_id\n",
    "-- WHERE cb.is_course_branch_default \n",
    "where left(cbi.course_branch_id,7) not in ('branch~')\n",
    "GROUP BY 1, 2, 3\n",
    ")\n",
    "\n",
    "-- Join this table to the base s12n data, after mapping the specialization to course IDs\n",
    "SELECT \n",
    "    bsd.phoenix_specialization_id,\n",
    "    bsd.base_phoenix_specialization_id,\n",
    "    bsd.phoenix_specialization_version,\n",
    "    bsd.phoenix_specialization_slug,\n",
    "    bsd.phoenix_specialization_name,\n",
    "    bsd.sequence_branch_id,\n",
    "    bsd.is_specialization,\n",
    "    bsd.is_professional_certificate,\n",
    "    bsd.phoenix_specialization_primary_domain,\n",
    "    bsd.phoenix_specialization_primary_subdomain,\n",
    "    bsd.phoenix_specialization_primary_domain_id,\n",
    "    bsd.phoenix_specialization_primary_subdomain_id,\n",
    "    bsd.is_gateway_certificate,\n",
    "    bsd.is_phoenix_specialization_currently_launched,\n",
    "    bsd.phoenix_specialization_launch_ts,\n",
    "    bsd.phoenix_specialization_display_page_launch_ts,\n",
    "    sbc.course_id,\n",
    "    sbc.sequence_branch_course_order,\n",
    "    cbc.course_branch_item_type,\n",
    "    cbc.number_of_items\n",
    "FROM\n",
    "    base_s12n_data bsd\n",
    "JOIN\n",
    "    prod.gold.sequence_branches_courses_vw sbc \n",
    "ON \n",
    "    bsd.sequence_branch_id = sbc.sequence_branch_id\n",
    "JOIN\n",
    "    course_branch_item_counts cbc\n",
    "ON\n",
    "    sbc.course_id = cbc.course_id\n",
    ")"
   ]
  },
  {
   "cell_type": "code",
   "execution_count": 0,
   "metadata": {
    "application/vnd.databricks.v1+cell": {
     "cellMetadata": {
      "byteLimit": 2048000,
      "rowLimit": 10000
     },
     "inputWidgets": {},
     "nuid": "46a0882b-08c8-4008-b10d-e095e1460c11",
     "showTitle": false,
     "tableResultSettingsMap": {},
     "title": ""
    }
   },
   "outputs": [
    {
     "output_type": "display_data",
     "data": {
      "text/html": [
       "<style scoped>\n",
       "  .table-result-container {\n",
       "    max-height: 300px;\n",
       "    overflow: auto;\n",
       "  }\n",
       "  table, th, td {\n",
       "    border: 1px solid black;\n",
       "    border-collapse: collapse;\n",
       "  }\n",
       "  th, td {\n",
       "    padding: 5px;\n",
       "  }\n",
       "  th {\n",
       "    text-align: left;\n",
       "  }\n",
       "</style><div class='table-result-container'><table class='table-result'><thead style='background-color: white'><tr><th>num_affected_rows</th><th>num_inserted_rows</th></tr></thead><tbody></tbody></table></div>"
      ]
     },
     "metadata": {
      "application/vnd.databricks.v1+output": {
       "addedWidgets": {},
       "aggData": [],
       "aggError": "",
       "aggOverflow": false,
       "aggSchema": [],
       "aggSeriesLimitReached": false,
       "aggType": "",
       "arguments": {},
       "columnCustomDisplayInfos": {},
       "data": [],
       "datasetInfos": [
        {
         "name": "_sqldf",
         "schema": {
          "fields": [
           {
            "metadata": {},
            "name": "num_affected_rows",
            "nullable": true,
            "type": "long"
           },
           {
            "metadata": {},
            "name": "num_inserted_rows",
            "nullable": true,
            "type": "long"
           }
          ],
          "type": "struct"
         },
         "tableIdentifier": null,
         "typeStr": "pyspark.sql.connect.dataframe.DataFrame"
        }
       ],
       "dbfsResultPath": null,
       "isJsonSchema": true,
       "metadata": {
        "createTempViewForImplicitDf": true,
        "dataframeName": "_sqldf",
        "executionCount": 2
       },
       "overflow": false,
       "plotOptions": {
        "customPlotOptions": {},
        "displayType": "table",
        "pivotAggregation": null,
        "pivotColumns": null,
        "xColumns": null,
        "yColumns": null
       },
       "removedWidgets": [],
       "schema": [
        {
         "metadata": "{}",
         "name": "num_affected_rows",
         "type": "\"long\""
        },
        {
         "metadata": "{}",
         "name": "num_inserted_rows",
         "type": "\"long\""
        }
       ],
       "type": "table"
      }
     },
     "output_type": "display_data"
    }
   ],
   "source": [
    "DROP TABLE IF EXISTS dev.bi.s12n_item_info_mgtv;\n",
    "CREATE TABLE dev.bi.s12n_item_info_mgtv AS \n",
    "WITH s12n_items AS (\n",
    "  SELECT \n",
    "    base_phoenix_specialization_id,\n",
    "    phoenix_specialization_slug,\n",
    "    phoenix_specialization_primary_domain_id,\n",
    "    phoenix_specialization_primary_subdomain_id,\n",
    "    is_specialization,\n",
    "    is_professional_certificate,\n",
    "    is_gateway_certificate,\n",
    "    DATE_TRUNC('month', phoenix_specialization_display_page_launch_ts)::DATE AS launch_month,\n",
    "    course_branch_item_type AS item_type,\n",
    "    SUM(number_of_items) AS number_of_items\n",
    "  FROM \n",
    "  dev.bi.s12n_item_counts_mgtv\n",
    "  WHERE phoenix_specialization_display_page_launch_ts IS NOT NULL\n",
    "  GROUP BY 1, 2, 3, 4, 5, 6, 7, 8, 9\n",
    "),\n",
    "\n",
    "s12n_courses AS\n",
    "(\n",
    "  SELECT \n",
    "       base_phoenix_specialization_id,\n",
    "       COUNT(DISTINCT course_id) AS number_of_courses,\n",
    "       SUM(number_of_items) AS total_items\n",
    "    FROM\n",
    "       dev.bi.s12n_item_counts_mgtv\n",
    "    WHERE phoenix_specialization_display_page_launch_ts IS NOT NULL\n",
    "    GROUP BY 1\n",
    "),\n",
    "add_course_item_count AS \n",
    "(\n",
    "  SELECT \n",
    "    si.base_phoenix_specialization_id,\n",
    "    si.phoenix_specialization_slug,\n",
    "    si.phoenix_specialization_primary_domain_id,\n",
    "    si.phoenix_specialization_primary_subdomain_id,\n",
    "    si.is_specialization,\n",
    "    si.is_professional_certificate,\n",
    "    si.is_gateway_certificate,\n",
    "    si.launch_month,\n",
    "    si.item_type,\n",
    "    si.number_of_items,\n",
    "    sc.number_of_courses,\n",
    "    sc.total_items\n",
    "  FROM\n",
    "      s12n_items si \n",
    "  JOIN\n",
    "      s12n_courses sc\n",
    "  ON\n",
    "      si.base_phoenix_specialization_id = sc.base_phoenix_specialization_id\n",
    ") \n",
    "select * from add_course_item_count"
   ]
  },
  {
   "cell_type": "markdown",
   "metadata": {
    "application/vnd.databricks.v1+cell": {
     "cellMetadata": {
      "byteLimit": 2048000,
      "rowLimit": 10000
     },
     "inputWidgets": {},
     "nuid": "556f03e6-89a5-4ccc-916f-cd79e3fd5714",
     "showTitle": false,
     "tableResultSettingsMap": {},
     "title": ""
    }
   },
   "source": [
    "# Item Pivot"
   ]
  },
  {
   "cell_type": "code",
   "execution_count": 0,
   "metadata": {
    "application/vnd.databricks.v1+cell": {
     "cellMetadata": {
      "byteLimit": 2048000,
      "rowLimit": 10000
     },
     "inputWidgets": {},
     "nuid": "55e34eb6-7e0a-4864-b4ff-e89f2aefad37",
     "showTitle": false,
     "tableResultSettingsMap": {},
     "title": ""
    }
   },
   "outputs": [
    {
     "output_type": "display_data",
     "data": {
      "text/html": [
       "<style scoped>\n",
       "  .table-result-container {\n",
       "    max-height: 300px;\n",
       "    overflow: auto;\n",
       "  }\n",
       "  table, th, td {\n",
       "    border: 1px solid black;\n",
       "    border-collapse: collapse;\n",
       "  }\n",
       "  th, td {\n",
       "    padding: 5px;\n",
       "  }\n",
       "  th {\n",
       "    text-align: left;\n",
       "  }\n",
       "</style><div class='table-result-container'><table class='table-result'><thead style='background-color: white'><tr><th>num_affected_rows</th><th>num_inserted_rows</th></tr></thead><tbody></tbody></table></div>"
      ]
     },
     "metadata": {
      "application/vnd.databricks.v1+output": {
       "addedWidgets": {},
       "aggData": [],
       "aggError": "",
       "aggOverflow": false,
       "aggSchema": [],
       "aggSeriesLimitReached": false,
       "aggType": "",
       "arguments": {},
       "columnCustomDisplayInfos": {},
       "data": [],
       "datasetInfos": [
        {
         "name": "_sqldf",
         "schema": {
          "fields": [
           {
            "metadata": {},
            "name": "num_affected_rows",
            "nullable": true,
            "type": "long"
           },
           {
            "metadata": {},
            "name": "num_inserted_rows",
            "nullable": true,
            "type": "long"
           }
          ],
          "type": "struct"
         },
         "tableIdentifier": null,
         "typeStr": "pyspark.sql.connect.dataframe.DataFrame"
        }
       ],
       "dbfsResultPath": null,
       "isJsonSchema": true,
       "metadata": {
        "createTempViewForImplicitDf": true,
        "dataframeName": "_sqldf",
        "executionCount": 3
       },
       "overflow": false,
       "plotOptions": {
        "customPlotOptions": {},
        "displayType": "table",
        "pivotAggregation": null,
        "pivotColumns": null,
        "xColumns": null,
        "yColumns": null
       },
       "removedWidgets": [],
       "schema": [
        {
         "metadata": "{}",
         "name": "num_affected_rows",
         "type": "\"long\""
        },
        {
         "metadata": "{}",
         "name": "num_inserted_rows",
         "type": "\"long\""
        }
       ],
       "type": "table"
      }
     },
     "output_type": "display_data"
    }
   ],
   "source": [
    "create or replace table dev.bi.s12n_item_info_pivot_mgtv as \n",
    "WITH base_data AS (\n",
    "  SELECT * FROM dev.bi.s12n_item_info_mgtv\n",
    ")\n",
    "SELECT *\n",
    "FROM base_data\n",
    "PIVOT (\n",
    "  SUM(coalesce(number_of_items,0))\n",
    "  FOR item_type IN (\n",
    "    'discussionPrompt',\n",
    "    'lecture',\n",
    "    'ltiTool',\n",
    "    'peerReview',\n",
    "    'placeholder',\n",
    "    'programmingAssignment',\n",
    "    'quiz',\n",
    "    'reading',\n",
    "    'staffGraded',\n",
    "    'ungradedLab',\n",
    "    'widget'\n",
    "  )\n",
    ");"
   ]
  },
  {
   "cell_type": "markdown",
   "metadata": {
    "application/vnd.databricks.v1+cell": {
     "cellMetadata": {
      "byteLimit": 2048000,
      "rowLimit": 10000
     },
     "inputWidgets": {},
     "nuid": "20a0f53b-4a62-422e-8a46-b13f9017aa16",
     "showTitle": false,
     "tableResultSettingsMap": {},
     "title": ""
    }
   },
   "source": [
    "# QA"
   ]
  },
  {
   "cell_type": "code",
   "execution_count": 0,
   "metadata": {
    "application/vnd.databricks.v1+cell": {
     "cellMetadata": {
      "byteLimit": 2048000,
      "rowLimit": 10000
     },
     "inputWidgets": {},
     "nuid": "385f043a-e326-4bdb-a9fc-9ee135187510",
     "showTitle": false,
     "tableResultSettingsMap": {},
     "title": ""
    }
   },
   "outputs": [
    {
     "output_type": "display_data",
     "data": {
      "text/html": [
       "<style scoped>\n",
       "  .table-result-container {\n",
       "    max-height: 300px;\n",
       "    overflow: auto;\n",
       "  }\n",
       "  table, th, td {\n",
       "    border: 1px solid black;\n",
       "    border-collapse: collapse;\n",
       "  }\n",
       "  th, td {\n",
       "    padding: 5px;\n",
       "  }\n",
       "  th {\n",
       "    text-align: left;\n",
       "  }\n",
       "</style><div class='table-result-container'><table class='table-result'><thead style='background-color: white'><tr><th>base_phoenix_specialization_id</th><th>phoenix_specialization_slug</th><th>phoenix_specialization_primary_domain_id</th><th>phoenix_specialization_primary_subdomain_id</th><th>is_specialization</th><th>is_professional_certificate</th><th>is_gateway_certificate</th><th>launch_month</th><th>number_of_courses</th><th>total_items</th><th>discussionPrompt</th><th>lecture</th><th>ltiTool</th><th>peerReview</th><th>placeholder</th><th>programmingAssignment</th><th>quiz</th><th>reading</th><th>staffGraded</th><th>ungradedLab</th><th>widget</th></tr></thead><tbody><tr><td>KPSzVL9AEeyfhAreTccY9Q</td><td>meta-front-end-developer</td><td>computer-science</td><td>mobile-and-web-development</td><td>false</td><td>true</td><td>true</td><td>2022-05-01</td><td>9</td><td>991</td><td>33</td><td>344</td><td>null</td><td>5</td><td>null</td><td>8</td><td>3</td><td>373</td><td>190</td><td>35</td><td>null</td></tr></tbody></table></div>"
      ]
     },
     "metadata": {
      "application/vnd.databricks.v1+output": {
       "addedWidgets": {},
       "aggData": [],
       "aggError": "",
       "aggOverflow": false,
       "aggSchema": [],
       "aggSeriesLimitReached": false,
       "aggType": "",
       "arguments": {},
       "columnCustomDisplayInfos": {},
       "data": [
        [
         "KPSzVL9AEeyfhAreTccY9Q",
         "meta-front-end-developer",
         "computer-science",
         "mobile-and-web-development",
         false,
         true,
         true,
         "2022-05-01",
         9,
         991,
         33,
         344,
         null,
         5,
         null,
         8,
         3,
         373,
         190,
         35,
         null
        ]
       ],
       "datasetInfos": [
        {
         "name": "_sqldf",
         "schema": {
          "fields": [
           {
            "metadata": {
             "comment": "The base for this phoenix s12n version. When this s12n is a base version, it will be equal to phoenix_specialization_id.It should never contain a prefix of 'child~'."
            },
            "name": "base_phoenix_specialization_id",
            "nullable": true,
            "type": "string"
           },
           {
            "metadata": {
             "comment": "The short name for the phoenix specialization\nhttps://www.coursera.org/specializations/phoenix_specialization_slug\nSome slugs are common for a phoenix specialization and a course, eg: python\nThis column is not unique, since s12n versions share the same slug.'\n"
            },
            "name": "phoenix_specialization_slug",
            "nullable": true,
            "type": "string"
           },
           {
            "metadata": {
             "comment": "Primary domain id. Can take these values: [NULL], arts-and-humanities,business,computer-science,data-science ,language-learning,life-sciences,personal-development,physical-science-and-engineering,social-sciences"
            },
            "name": "phoenix_specialization_primary_domain_id",
            "nullable": true,
            "type": "string"
           },
           {
            "metadata": {
             "comment": "Primary sub-domain in id format, as set on the Specialization Authoring Page by instructors. ~28 values"
            },
            "name": "phoenix_specialization_primary_subdomain_id",
            "nullable": true,
            "type": "string"
           },
           {
            "metadata": {
             "comment": "When the product variant field = 'NormalS12n' this field will be true"
            },
            "name": "is_specialization",
            "nullable": true,
            "type": "boolean"
           },
           {
            "metadata": {
             "comment": "When the product variant field = 'ProfessionalCertificateS12n' this field will be true"
            },
            "name": "is_professional_certificate",
            "nullable": true,
            "type": "boolean"
           },
           {
            "metadata": {
             "comment": "True if the s12n is a gateway cert.(BI-3010)NOTE: Gateway cert is an entry level professional cert."
            },
            "name": "is_gateway_certificate",
            "nullable": true,
            "type": "boolean"
           },
           {
            "metadata": {},
            "name": "launch_month",
            "nullable": true,
            "type": "date"
           },
           {
            "metadata": {},
            "name": "number_of_courses",
            "nullable": true,
            "type": "long"
           },
           {
            "metadata": {},
            "name": "total_items",
            "nullable": true,
            "type": "long"
           },
           {
            "metadata": {},
            "name": "discussionPrompt",
            "nullable": true,
            "type": "long"
           },
           {
            "metadata": {},
            "name": "lecture",
            "nullable": true,
            "type": "long"
           },
           {
            "metadata": {},
            "name": "ltiTool",
            "nullable": true,
            "type": "long"
           },
           {
            "metadata": {},
            "name": "peerReview",
            "nullable": true,
            "type": "long"
           },
           {
            "metadata": {},
            "name": "placeholder",
            "nullable": true,
            "type": "long"
           },
           {
            "metadata": {},
            "name": "programmingAssignment",
            "nullable": true,
            "type": "long"
           },
           {
            "metadata": {},
            "name": "quiz",
            "nullable": true,
            "type": "long"
           },
           {
            "metadata": {},
            "name": "reading",
            "nullable": true,
            "type": "long"
           },
           {
            "metadata": {},
            "name": "staffGraded",
            "nullable": true,
            "type": "long"
           },
           {
            "metadata": {},
            "name": "ungradedLab",
            "nullable": true,
            "type": "long"
           },
           {
            "metadata": {},
            "name": "widget",
            "nullable": true,
            "type": "long"
           }
          ],
          "type": "struct"
         },
         "tableIdentifier": null,
         "typeStr": "pyspark.sql.connect.dataframe.DataFrame"
        }
       ],
       "dbfsResultPath": null,
       "isJsonSchema": true,
       "metadata": {
        "createTempViewForImplicitDf": true,
        "dataframeName": "_sqldf",
        "executionCount": 4
       },
       "overflow": false,
       "plotOptions": {
        "customPlotOptions": {},
        "displayType": "table",
        "pivotAggregation": null,
        "pivotColumns": null,
        "xColumns": null,
        "yColumns": null
       },
       "removedWidgets": [],
       "schema": [
        {
         "metadata": "{\"comment\": \"The base for this phoenix s12n version. When this s12n is a base version, it will be equal to phoenix_specialization_id.It should never contain a prefix of 'child~'.\"}",
         "name": "base_phoenix_specialization_id",
         "type": "\"string\""
        },
        {
         "metadata": "{\"comment\": \"The short name for the phoenix specialization\\nhttps://www.coursera.org/specializations/phoenix_specialization_slug\\nSome slugs are common for a phoenix specialization and a course, eg: python\\nThis column is not unique, since s12n versions share the same slug.'\\n\"}",
         "name": "phoenix_specialization_slug",
         "type": "\"string\""
        },
        {
         "metadata": "{\"comment\": \"Primary domain id. Can take these values: [NULL], arts-and-humanities,business,computer-science,data-science ,language-learning,life-sciences,personal-development,physical-science-and-engineering,social-sciences\"}",
         "name": "phoenix_specialization_primary_domain_id",
         "type": "\"string\""
        },
        {
         "metadata": "{\"comment\": \"Primary sub-domain in id format, as set on the Specialization Authoring Page by instructors. ~28 values\"}",
         "name": "phoenix_specialization_primary_subdomain_id",
         "type": "\"string\""
        },
        {
         "metadata": "{\"comment\": \"When the product variant field = 'NormalS12n' this field will be true\"}",
         "name": "is_specialization",
         "type": "\"boolean\""
        },
        {
         "metadata": "{\"comment\": \"When the product variant field = 'ProfessionalCertificateS12n' this field will be true\"}",
         "name": "is_professional_certificate",
         "type": "\"boolean\""
        },
        {
         "metadata": "{\"comment\": \"True if the s12n is a gateway cert.(BI-3010)NOTE: Gateway cert is an entry level professional cert.\"}",
         "name": "is_gateway_certificate",
         "type": "\"boolean\""
        },
        {
         "metadata": "{}",
         "name": "launch_month",
         "type": "\"date\""
        },
        {
         "metadata": "{}",
         "name": "number_of_courses",
         "type": "\"long\""
        },
        {
         "metadata": "{}",
         "name": "total_items",
         "type": "\"long\""
        },
        {
         "metadata": "{}",
         "name": "discussionPrompt",
         "type": "\"long\""
        },
        {
         "metadata": "{}",
         "name": "lecture",
         "type": "\"long\""
        },
        {
         "metadata": "{}",
         "name": "ltiTool",
         "type": "\"long\""
        },
        {
         "metadata": "{}",
         "name": "peerReview",
         "type": "\"long\""
        },
        {
         "metadata": "{}",
         "name": "placeholder",
         "type": "\"long\""
        },
        {
         "metadata": "{}",
         "name": "programmingAssignment",
         "type": "\"long\""
        },
        {
         "metadata": "{}",
         "name": "quiz",
         "type": "\"long\""
        },
        {
         "metadata": "{}",
         "name": "reading",
         "type": "\"long\""
        },
        {
         "metadata": "{}",
         "name": "staffGraded",
         "type": "\"long\""
        },
        {
         "metadata": "{}",
         "name": "ungradedLab",
         "type": "\"long\""
        },
        {
         "metadata": "{}",
         "name": "widget",
         "type": "\"long\""
        }
       ],
       "type": "table"
      }
     },
     "output_type": "display_data"
    }
   ],
   "source": [
    "select * from dev.bi.s12n_item_info_pivot_mgtv\n",
    "where base_phoenix_specialization_id= 'KPSzVL9AEeyfhAreTccY9Q'"
   ]
  },
  {
   "cell_type": "code",
   "execution_count": 0,
   "metadata": {
    "application/vnd.databricks.v1+cell": {
     "cellMetadata": {
      "byteLimit": 2048000,
      "rowLimit": 10000
     },
     "inputWidgets": {},
     "nuid": "8b92946c-bd02-40ad-a19f-88b9d89aa4ae",
     "showTitle": false,
     "tableResultSettingsMap": {},
     "title": ""
    }
   },
   "outputs": [],
   "source": [
    "-- select count(distinct base_phoenix_specialization_id) from dev.bi.s12n_item_info_pivot_mgtv where year(launch_month) >= 2020 and year(launch_month) <= 2024\n",
    "-- where base_phoenix_specialization_id= 'KPSzVL9AEeyfhAreTccY9Q'\n"
   ]
  }
 ],
 "metadata": {
  "application/vnd.databricks.v1+notebook": {
   "computePreferences": null,
   "dashboards": [],
   "environmentMetadata": {
    "base_environment": "",
    "environment_version": "2"
   },
   "inputWidgetPreferences": null,
   "language": "sql",
   "notebookMetadata": {
    "pythonIndentUnit": 2
   },
   "notebookName": "B2C S12N Item Count MG",
   "widgets": {}
  },
  "language_info": {
   "name": "sql"
  }
 },
 "nbformat": 4,
 "nbformat_minor": 0
}
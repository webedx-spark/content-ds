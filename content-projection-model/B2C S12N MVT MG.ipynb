{
 "cells": [
  {
   "cell_type": "code",
   "execution_count": 0,
   "metadata": {
    "application/vnd.databricks.v1+cell": {
     "cellMetadata": {
      "byteLimit": 2048000,
      "rowLimit": 10000
     },
     "inputWidgets": {},
     "nuid": "d7922955-deed-4d46-89ce-02a53a52d49f",
     "showTitle": false,
     "tableResultSettingsMap": {},
     "title": ""
    }
   },
   "outputs": [],
   "source": [
    "create or replace view dev.bi.s12n_prelaunch_data_model_input_proxy1_mgtv  as\n",
    "select launch_year\n",
    ",phoenix_specialization_primary_subdomain_id\n",
    ",partner_revenue_rank\n",
    ",is_specialization\t\n",
    ",is_professional_certificate\t\n",
    ",is_gateway_certificate\n",
    ",avg(pcr_avg_rolling_n12m_rev_rec) as pcr_avg_rolling_n12m_rev_rec\n",
    ",avg(pr_avg_rolling_n12m_rev_rec) as pr_avg_rolling_n12m_rev_rec\n",
    ",avg(sd_pcr_sum_rolling_n12m_rev_rec) as sd_pcr_sum_rolling_n12m_rev_rec\n",
    ",avg(sd_avg_rolling_enrollments) as sd_avg_rolling_enrollments\n",
    ",avg(sd_avg_rolling_n12m_impressions) as sd_avg_rolling_n12m_impressions\n",
    ",avg(sd_avg_rolling_n12m_users) as sd_avg_rolling_n12m_users\n",
    ",avg(sd_avg_rolling_n12m_views) as sd_avg_rolling_n12m_views\n",
    ",avg(sd_avg_rolling_n12m_visits) as sd_avg_rolling_n12m_visits\n",
    ",avg(sd_avg_rolling_paid_enrollments) as sd_avg_rolling_paid_enrollments\n",
    ",avg(sd_sum_rolling_n12m_rev_rec) as sd_sum_rolling_n12m_rev_rec\n",
    "from dev.bi.s12n_prelaunch_data_model_input_mgtf \n",
    "group by 1,2,3,4,5,6;\n",
    "\n",
    "create or replace view dev.bi.s12n_prelaunch_data_model_input_proxy2_mgtv  as\n",
    "select phoenix_specialization_primary_subdomain_id\n",
    ",partner_revenue_rank\n",
    ",is_specialization\t\n",
    ",is_professional_certificate\t\n",
    ",is_gateway_certificate\n",
    ",avg(pcr_avg_rolling_n12m_rev_rec) as pcr_avg_rolling_n12m_rev_rec\n",
    ",avg(pr_avg_rolling_n12m_rev_rec) as pr_avg_rolling_n12m_rev_rec\n",
    ",avg(sd_pcr_sum_rolling_n12m_rev_rec) as sd_pcr_sum_rolling_n12m_rev_rec\n",
    ",avg(sd_avg_rolling_enrollments) as sd_avg_rolling_enrollments\n",
    ",avg(sd_avg_rolling_n12m_impressions) as sd_avg_rolling_n12m_impressions\n",
    ",avg(sd_avg_rolling_n12m_users) as sd_avg_rolling_n12m_users\n",
    ",avg(sd_avg_rolling_n12m_views) as sd_avg_rolling_n12m_views\n",
    ",avg(sd_avg_rolling_n12m_visits) as sd_avg_rolling_n12m_visits\n",
    ",avg(sd_avg_rolling_paid_enrollments) as sd_avg_rolling_paid_enrollments\n",
    ",avg(sd_sum_rolling_n12m_rev_rec) as sd_sum_rolling_n12m_rev_rec\n",
    "from dev.bi.s12n_prelaunch_data_model_input_mgtf \n",
    "group by 1,2,3,4,5;\n",
    "\n",
    "\n",
    "create or replace view dev.bi.s12n_prelaunch_data_model_input_proxy3_mgtv  as\n",
    "select launch_year\n",
    ",partner_revenue_rank\n",
    ",is_specialization\t\n",
    ",is_professional_certificate\t\n",
    ",is_gateway_certificate\n",
    ",avg(pcr_avg_rolling_n12m_rev_rec) as pcr_avg_rolling_n12m_rev_rec\n",
    ",avg(pr_avg_rolling_n12m_rev_rec) as pr_avg_rolling_n12m_rev_rec\n",
    ",avg(sd_pcr_sum_rolling_n12m_rev_rec) as sd_pcr_sum_rolling_n12m_rev_rec\n",
    ",avg(sd_avg_rolling_enrollments) as sd_avg_rolling_enrollments\n",
    ",avg(sd_avg_rolling_n12m_impressions) as sd_avg_rolling_n12m_impressions\n",
    ",avg(sd_avg_rolling_n12m_users) as sd_avg_rolling_n12m_users\n",
    ",avg(sd_avg_rolling_n12m_views) as sd_avg_rolling_n12m_views\n",
    ",avg(sd_avg_rolling_n12m_visits) as sd_avg_rolling_n12m_visits\n",
    ",avg(sd_avg_rolling_paid_enrollments) as sd_avg_rolling_paid_enrollments\n",
    ",avg(sd_sum_rolling_n12m_rev_rec) as sd_sum_rolling_n12m_rev_rec\n",
    "from dev.bi.s12n_prelaunch_data_model_input_mgtf \n",
    "group by 1,2,3,4,5;\n",
    "\n",
    "create or replace view dev.bi.s12n_prelaunch_data_model_input_proxy4_mgtv  as\n",
    "select launch_year\n",
    ",phoenix_specialization_primary_subdomain_id\n",
    ",is_specialization\t\n",
    ",is_professional_certificate\t\n",
    ",is_gateway_certificate\n",
    ",avg(pcr_avg_rolling_n12m_rev_rec) as pcr_avg_rolling_n12m_rev_rec\n",
    ",avg(pr_avg_rolling_n12m_rev_rec) as pr_avg_rolling_n12m_rev_rec\n",
    ",avg(sd_pcr_sum_rolling_n12m_rev_rec) as sd_pcr_sum_rolling_n12m_rev_rec\n",
    ",avg(sd_avg_rolling_enrollments) as sd_avg_rolling_enrollments\n",
    ",avg(sd_avg_rolling_n12m_impressions) as sd_avg_rolling_n12m_impressions\n",
    ",avg(sd_avg_rolling_n12m_users) as sd_avg_rolling_n12m_users\n",
    ",avg(sd_avg_rolling_n12m_views) as sd_avg_rolling_n12m_views\n",
    ",avg(sd_avg_rolling_n12m_visits) as sd_avg_rolling_n12m_visits\n",
    ",avg(sd_avg_rolling_paid_enrollments) as sd_avg_rolling_paid_enrollments\n",
    ",avg(sd_sum_rolling_n12m_rev_rec) as sd_sum_rolling_n12m_rev_rec\n",
    "from dev.bi.s12n_prelaunch_data_model_input_mgtf \n",
    "group by 1,2,3,4,5;"
   ]
  },
  {
   "cell_type": "code",
   "execution_count": 0,
   "metadata": {
    "application/vnd.databricks.v1+cell": {
     "cellMetadata": {
      "byteLimit": 2048000,
      "rowLimit": 10000
     },
     "inputWidgets": {},
     "nuid": "6f04a9ef-e865-4cab-a3e9-c96347e64305",
     "showTitle": false,
     "tableResultSettingsMap": {},
     "title": ""
    }
   },
   "outputs": [
    {
     "output_type": "stream",
     "name": "stdout",
     "output_type": "stream",
     "text": [
      "Executing subquery: create or replace view dev.bi.s12n_prelaunch_data_model_input_proxy1_mgtv  as\nselect launch_year\n,phoenix_specialization_primary_subdomain_id\n,partner_revenue_rank\n,is_specialization\t\n,is_professional_certificate\t\n,is_gateway_certificate\n,avg(pcr_avg_rolling_n12m_rev_rec) as pcr_avg_rolling_n12m_rev_rec\n,avg(pr_avg_rolling_n12m_rev_rec) as pr_avg_rolling_n12m_rev_rec\n,avg(sd_pcr_sum_rolling_n12m_rev_rec) as sd_pcr_sum_rolling_n12m_rev_rec\n,avg(sd_avg_rolling_enrollments) as sd_avg_rolling_enrollments\n,avg(sd_avg_rolling_n12m_impressions) as sd_avg_rolling_n12m_impressions\n,avg(sd_avg_rolling_n12m_users) as sd_avg_rolling_n12m_users\n,avg(sd_avg_rolling_n12m_views) as sd_avg_rolling_n12m_views\n,avg(sd_avg_rolling_n12m_visits) as sd_avg_rolling_n12m_visits\n,avg(sd_avg_rolling_paid_enrollments) as sd_avg_rolling_paid_enrollments\n,avg(sd_sum_rolling_n12m_rev_rec) as sd_sum_rolling_n12m_rev_rec\nfrom dev.bi.s12n_prelaunch_data_model_input_mgtf \ngroup by 1,2,3,4,5,6.\nExecuting subquery: create or replace view dev.bi.s12n_prelaunch_data_model_input_proxy2_mgtv  as\nselect phoenix_specialization_primary_subdomain_id\n,partner_revenue_rank\n,is_specialization\t\n,is_professional_certificate\t\n,is_gateway_certificate\n,avg(pcr_avg_rolling_n12m_rev_rec) as pcr_avg_rolling_n12m_rev_rec\n,avg(pr_avg_rolling_n12m_rev_rec) as pr_avg_rolling_n12m_rev_rec\n,avg(sd_pcr_sum_rolling_n12m_rev_rec) as sd_pcr_sum_rolling_n12m_rev_rec\n,avg(sd_avg_rolling_enrollments) as sd_avg_rolling_enrollments\n,avg(sd_avg_rolling_n12m_impressions) as sd_avg_rolling_n12m_impressions\n,avg(sd_avg_rolling_n12m_users) as sd_avg_rolling_n12m_users\n,avg(sd_avg_rolling_n12m_views) as sd_avg_rolling_n12m_views\n,avg(sd_avg_rolling_n12m_visits) as sd_avg_rolling_n12m_visits\n,avg(sd_avg_rolling_paid_enrollments) as sd_avg_rolling_paid_enrollments\n,avg(sd_sum_rolling_n12m_rev_rec) as sd_sum_rolling_n12m_rev_rec\nfrom dev.bi.s12n_prelaunch_data_model_input_mgtf \ngroup by 1,2,3,4,5.\nExecuting subquery: create or replace view dev.bi.s12n_prelaunch_data_model_input_proxy3_mgtv  as\nselect launch_year\n,partner_revenue_rank\n,is_specialization\t\n,is_professional_certificate\t\n,is_gateway_certificate\n,avg(pcr_avg_rolling_n12m_rev_rec) as pcr_avg_rolling_n12m_rev_rec\n,avg(pr_avg_rolling_n12m_rev_rec) as pr_avg_rolling_n12m_rev_rec\n,avg(sd_pcr_sum_rolling_n12m_rev_rec) as sd_pcr_sum_rolling_n12m_rev_rec\n,avg(sd_avg_rolling_enrollments) as sd_avg_rolling_enrollments\n,avg(sd_avg_rolling_n12m_impressions) as sd_avg_rolling_n12m_impressions\n,avg(sd_avg_rolling_n12m_users) as sd_avg_rolling_n12m_users\n,avg(sd_avg_rolling_n12m_views) as sd_avg_rolling_n12m_views\n,avg(sd_avg_rolling_n12m_visits) as sd_avg_rolling_n12m_visits\n,avg(sd_avg_rolling_paid_enrollments) as sd_avg_rolling_paid_enrollments\n,avg(sd_sum_rolling_n12m_rev_rec) as sd_sum_rolling_n12m_rev_rec\nfrom dev.bi.s12n_prelaunch_data_model_input_mgtf \ngroup by 1,2,3,4,5.\nExecuting subquery: create or replace view dev.bi.s12n_prelaunch_data_model_input_proxy4_mgtv  as\nselect launch_year\n,phoenix_specialization_primary_subdomain_id\n,is_specialization\t\n,is_professional_certificate\t\n,is_gateway_certificate\n,avg(pcr_avg_rolling_n12m_rev_rec) as pcr_avg_rolling_n12m_rev_rec\n,avg(pr_avg_rolling_n12m_rev_rec) as pr_avg_rolling_n12m_rev_rec\n,avg(sd_pcr_sum_rolling_n12m_rev_rec) as sd_pcr_sum_rolling_n12m_rev_rec\n,avg(sd_avg_rolling_enrollments) as sd_avg_rolling_enrollments\n,avg(sd_avg_rolling_n12m_impressions) as sd_avg_rolling_n12m_impressions\n,avg(sd_avg_rolling_n12m_users) as sd_avg_rolling_n12m_users\n,avg(sd_avg_rolling_n12m_views) as sd_avg_rolling_n12m_views\n,avg(sd_avg_rolling_n12m_visits) as sd_avg_rolling_n12m_visits\n,avg(sd_avg_rolling_paid_enrollments) as sd_avg_rolling_paid_enrollments\n,avg(sd_sum_rolling_n12m_rev_rec) as sd_sum_rolling_n12m_rev_rec\nfrom dev.bi.s12n_prelaunch_data_model_input_mgtf \ngroup by 1,2,3,4,5.\nExecuting subquery: create or replace view dev.bi.s12n_prelaunch_data_model_input_view_wmvt_mgtv as \nwith wmvt_data as (\n  select a.base_phoenix_specialization_id\n  ,a.phoenix_specialization_slug\n  ,a.phoenix_specialization_primary_domain_id\n  ,a.phoenix_specialization_primary_subdomain_id\n  ,a.is_specialization\n  ,a.is_professional_certificate\n  ,a.is_gateway_certificate\n  ,a.difficulty_level\n  ,a.launch_month\n  ,a.mtd\n  ,a.launch_month_nbr\n  ,a.launch_qtr\n  ,a.launch_year\n  ,a.last_update_diff_months\n  ,a.number_of_courses\n  ,a.total_items\n  ,a.partner_id\n  ,a.partner_slug\n  ,a.partner_revenue_rank\n  -- ,a.all_subdomain_enrollments_l12m\n  -- ,a.paid_subdomain_enrollments_l12m\n  -- ,a.per_paid_enrl\n  ,a.y1_marketing_spend\n  ,a.y1_b2c_revenue\n  ,a.discussionPrompt\n  ,a.lecture\n  ,a.ltiTool\n  ,a.peerReview\n  ,a.placeholder\n  ,a.programmingAssignment\n  ,a.quiz\n  ,a.reading\n  ,a.staffGraded\n  ,a.ungradedLab\n  ,a.widget\n  ,a.gwg_flag\n  ,a.meta_flag\n  ,a.ms_flag\n  ,a.ibm_flag\n  ,a.aws_flag\n  ,a.cs_flag\n  ,a.bs_flag\n  ,a.ds_flag\n  ,a.it_flag\n  ,a.ai_flag\n  ,coalesce(a.pcr_avg_rolling_n12m_rev_rec,b.pcr_avg_rolling_n12m_rev_rec,c.pcr_avg_rolling_n12m_rev_rec,d.pcr_avg_rolling_n12m_rev_rec,e.pcr_avg_rolling_n12m_rev_rec) as pcr_avg_rolling_n12m_rev_rec\n  ,coalesce(a.pr_avg_rolling_n12m_rev_rec,b.pr_avg_rolling_n12m_rev_rec,c.pr_avg_rolling_n12m_rev_rec,d.pr_avg_rolling_n12m_rev_rec,e.pr_avg_rolling_n12m_rev_rec) as pr_avg_rolling_n12m_rev_rec\n  ,coalesce(a.sd_pcr_sum_rolling_n12m_rev_rec,b.sd_pcr_sum_rolling_n12m_rev_rec,c.sd_pcr_sum_rolling_n12m_rev_rec,d.sd_pcr_sum_rolling_n12m_rev_rec,e.sd_pcr_sum_rolling_n12m_rev_rec) as sd_pcr_sum_rolling_n12m_rev_rec\n  ,coalesce(a.sd_avg_rolling_enrollments,b.sd_avg_rolling_enrollments,c.sd_avg_rolling_enrollments,d.sd_avg_rolling_enrollments,e.sd_avg_rolling_enrollments) as sd_avg_rolling_enrollments\n  ,coalesce(a.sd_avg_rolling_n12m_impressions,b.sd_avg_rolling_n12m_impressions,c.sd_avg_rolling_n12m_impressions,d.sd_avg_rolling_n12m_impressions,e.sd_avg_rolling_n12m_impressions) as sd_avg_rolling_n12m_impressions\n  ,coalesce(a.sd_avg_rolling_n12m_users,b.sd_avg_rolling_n12m_users,c.sd_avg_rolling_n12m_users,d.sd_avg_rolling_n12m_users,e.sd_avg_rolling_n12m_users) as sd_avg_rolling_n12m_users\n  ,coalesce(a.sd_avg_rolling_n12m_views,b.sd_avg_rolling_n12m_views,c.sd_avg_rolling_n12m_views,d.sd_avg_rolling_n12m_views,e.sd_avg_rolling_n12m_views) as sd_avg_rolling_n12m_views\n  ,coalesce(a.sd_avg_rolling_n12m_visits,b.sd_avg_rolling_n12m_visits,c.sd_avg_rolling_n12m_visits,d.sd_avg_rolling_n12m_visits,e.sd_avg_rolling_n12m_visits) as sd_avg_rolling_n12m_visits\n  ,coalesce(a.sd_avg_rolling_paid_enrollments,b.sd_avg_rolling_paid_enrollments,c.sd_avg_rolling_paid_enrollments,d.sd_avg_rolling_paid_enrollments,e.sd_avg_rolling_paid_enrollments) as sd_avg_rolling_paid_enrollments\n  ,coalesce(a.sd_sum_rolling_n12m_rev_rec,b.sd_sum_rolling_n12m_rev_rec,c.sd_sum_rolling_n12m_rev_rec,d.sd_sum_rolling_n12m_rev_rec,e.sd_sum_rolling_n12m_rev_rec) as sd_sum_rolling_n12m_rev_rec\n  from dev.bi.s12n_prelaunch_data_model_input_mgtf a\n  left join dev.bi.s12n_prelaunch_data_model_input_proxy1_mgtv b on a.launch_year = b.launch_year and a.phoenix_specialization_primary_subdomain_id = b.phoenix_specialization_primary_subdomain_id and a.partner_revenue_rank = b.partner_revenue_rank and a.is_specialization = b.is_specialization and a.is_professional_certificate = b.is_professional_certificate and a.is_gateway_certificate = b.is_gateway_certificate\n  left join dev.bi.s12n_prelaunch_data_model_input_proxy2_mgtv c on a.phoenix_specialization_primary_subdomain_id = c.phoenix_specialization_primary_subdomain_id and a.partner_revenue_rank = c.partner_revenue_rank and a.is_specialization = c.is_specialization and a.is_professional_certificate = c.is_professional_certificate and a.is_gateway_certificate = c.is_gateway_certificate\n  left join dev.bi.s12n_prelaunch_data_model_input_proxy3_mgtv d on a.launch_year = d.launch_year and a.partner_revenue_rank = d.partner_revenue_rank and a.is_specialization = d.is_specialization and a.is_professional_certificate = d.is_professional_certificate and a.is_gateway_certificate = d.is_gateway_certificate   \n  left join dev.bi.s12n_prelaunch_data_model_input_proxy4_mgtv e on  a.launch_year = e.launch_year and a.phoenix_specialization_primary_subdomain_id = e.phoenix_specialization_primary_subdomain_id and a.is_specialization = e.is_specialization and a.is_professional_certificate = e.is_professional_certificate and a.is_gateway_certificate = e.is_gateway_certificate)\nselect *\n,case when sd_avg_rolling_enrollments > 0 then CAST(sd_avg_rolling_paid_enrollments*1.0/sd_avg_rolling_enrollments AS FLOAT) else 0.0 end as sd_per_paid_enrl\n,case when sd_avg_rolling_n12m_users > 0 and sd_avg_rolling_enrollments > sd_avg_rolling_n12m_users then 0.20\n      when sd_avg_rolling_n12m_users > 0 then CAST(sd_avg_rolling_enrollments*1.0/sd_avg_rolling_n12m_users AS FLOAT) \n      else 0.0 end as sd_per_enrl_rate\nfrom wmvt_data."
     ]
    }
   ],
   "source": [
    "create or replace view dev.bi.s12n_prelaunch_data_model_input_view_wmvt_mgtv as \n",
    "with wmvt_data as (\n",
    "  select a.base_phoenix_specialization_id\n",
    "  ,a.phoenix_specialization_slug\n",
    "  ,a.phoenix_specialization_primary_domain_id\n",
    "  ,a.phoenix_specialization_primary_subdomain_id\n",
    "  ,a.is_specialization\n",
    "  ,a.is_professional_certificate\n",
    "  ,a.is_gateway_certificate\n",
    "  ,a.difficulty_level\n",
    "  ,a.launch_month\n",
    "  ,a.mtd\n",
    "  ,a.launch_month_nbr\n",
    "  ,a.launch_qtr\n",
    "  ,a.launch_year\n",
    "  ,a.last_update_diff_months\n",
    "  ,a.number_of_courses\n",
    "  ,a.total_items\n",
    "  ,a.partner_id\n",
    "  ,a.partner_slug\n",
    "  ,a.partner_revenue_rank\n",
    "  -- ,a.all_subdomain_enrollments_l12m\n",
    "  -- ,a.paid_subdomain_enrollments_l12m\n",
    "  -- ,a.per_paid_enrl\n",
    "  ,a.y1_marketing_spend\n",
    "  ,a.y1_b2c_revenue\n",
    "  ,a.discussionPrompt\n",
    "  ,a.lecture\n",
    "  ,a.ltiTool\n",
    "  ,a.peerReview\n",
    "  ,a.placeholder\n",
    "  ,a.programmingAssignment\n",
    "  ,a.quiz\n",
    "  ,a.reading\n",
    "  ,a.staffGraded\n",
    "  ,a.ungradedLab\n",
    "  ,a.widget\n",
    "  ,a.gwg_flag\n",
    "  ,a.meta_flag\n",
    "  ,a.ms_flag\n",
    "  ,a.ibm_flag\n",
    "  ,a.aws_flag\n",
    "  ,a.cs_flag\n",
    "  ,a.bs_flag\n",
    "  ,a.ds_flag\n",
    "  ,a.it_flag\n",
    "  ,a.ai_flag\n",
    "  ,coalesce(a.pcr_avg_rolling_n12m_rev_rec,b.pcr_avg_rolling_n12m_rev_rec,c.pcr_avg_rolling_n12m_rev_rec,d.pcr_avg_rolling_n12m_rev_rec,e.pcr_avg_rolling_n12m_rev_rec) as pcr_avg_rolling_n12m_rev_rec\n",
    "  ,coalesce(a.pr_avg_rolling_n12m_rev_rec,b.pr_avg_rolling_n12m_rev_rec,c.pr_avg_rolling_n12m_rev_rec,d.pr_avg_rolling_n12m_rev_rec,e.pr_avg_rolling_n12m_rev_rec) as pr_avg_rolling_n12m_rev_rec\n",
    "  ,coalesce(a.sd_pcr_sum_rolling_n12m_rev_rec,b.sd_pcr_sum_rolling_n12m_rev_rec,c.sd_pcr_sum_rolling_n12m_rev_rec,d.sd_pcr_sum_rolling_n12m_rev_rec,e.sd_pcr_sum_rolling_n12m_rev_rec) as sd_pcr_sum_rolling_n12m_rev_rec\n",
    "  ,coalesce(a.sd_avg_rolling_enrollments,b.sd_avg_rolling_enrollments,c.sd_avg_rolling_enrollments,d.sd_avg_rolling_enrollments,e.sd_avg_rolling_enrollments) as sd_avg_rolling_enrollments\n",
    "  ,coalesce(a.sd_avg_rolling_n12m_impressions,b.sd_avg_rolling_n12m_impressions,c.sd_avg_rolling_n12m_impressions,d.sd_avg_rolling_n12m_impressions,e.sd_avg_rolling_n12m_impressions) as sd_avg_rolling_n12m_impressions\n",
    "  ,coalesce(a.sd_avg_rolling_n12m_users,b.sd_avg_rolling_n12m_users,c.sd_avg_rolling_n12m_users,d.sd_avg_rolling_n12m_users,e.sd_avg_rolling_n12m_users) as sd_avg_rolling_n12m_users\n",
    "  ,coalesce(a.sd_avg_rolling_n12m_views,b.sd_avg_rolling_n12m_views,c.sd_avg_rolling_n12m_views,d.sd_avg_rolling_n12m_views,e.sd_avg_rolling_n12m_views) as sd_avg_rolling_n12m_views\n",
    "  ,coalesce(a.sd_avg_rolling_n12m_visits,b.sd_avg_rolling_n12m_visits,c.sd_avg_rolling_n12m_visits,d.sd_avg_rolling_n12m_visits,e.sd_avg_rolling_n12m_visits) as sd_avg_rolling_n12m_visits\n",
    "  ,coalesce(a.sd_avg_rolling_paid_enrollments,b.sd_avg_rolling_paid_enrollments,c.sd_avg_rolling_paid_enrollments,d.sd_avg_rolling_paid_enrollments,e.sd_avg_rolling_paid_enrollments) as sd_avg_rolling_paid_enrollments\n",
    "  ,coalesce(a.sd_sum_rolling_n12m_rev_rec,b.sd_sum_rolling_n12m_rev_rec,c.sd_sum_rolling_n12m_rev_rec,d.sd_sum_rolling_n12m_rev_rec,e.sd_sum_rolling_n12m_rev_rec) as sd_sum_rolling_n12m_rev_rec\n",
    "  from dev.bi.s12n_prelaunch_data_model_input_mgtf a\n",
    "  left join dev.bi.s12n_prelaunch_data_model_input_proxy1_mgtv b on a.launch_year = b.launch_year and a.phoenix_specialization_primary_subdomain_id = b.phoenix_specialization_primary_subdomain_id and a.partner_revenue_rank = b.partner_revenue_rank and a.is_specialization = b.is_specialization and a.is_professional_certificate = b.is_professional_certificate and a.is_gateway_certificate = b.is_gateway_certificate\n",
    "  left join dev.bi.s12n_prelaunch_data_model_input_proxy2_mgtv c on a.phoenix_specialization_primary_subdomain_id = c.phoenix_specialization_primary_subdomain_id and a.partner_revenue_rank = c.partner_revenue_rank and a.is_specialization = c.is_specialization and a.is_professional_certificate = c.is_professional_certificate and a.is_gateway_certificate = c.is_gateway_certificate\n",
    "  left join dev.bi.s12n_prelaunch_data_model_input_proxy3_mgtv d on a.launch_year = d.launch_year and a.partner_revenue_rank = d.partner_revenue_rank and a.is_specialization = d.is_specialization and a.is_professional_certificate = d.is_professional_certificate and a.is_gateway_certificate = d.is_gateway_certificate   \n",
    "  left join dev.bi.s12n_prelaunch_data_model_input_proxy4_mgtv e on  a.launch_year = e.launch_year and a.phoenix_specialization_primary_subdomain_id = e.phoenix_specialization_primary_subdomain_id and a.is_specialization = e.is_specialization and a.is_professional_certificate = e.is_professional_certificate and a.is_gateway_certificate = e.is_gateway_certificate)\n",
    "select *\n",
    ",case when sd_avg_rolling_enrollments > 0 then CAST(sd_avg_rolling_paid_enrollments*1.0/sd_avg_rolling_enrollments AS FLOAT) else 0.0 end as sd_per_paid_enrl\n",
    ",case when sd_avg_rolling_n12m_users > 0 and sd_avg_rolling_enrollments > sd_avg_rolling_n12m_users then 0.20\n",
    "      when sd_avg_rolling_n12m_users > 0 then CAST(sd_avg_rolling_enrollments*1.0/sd_avg_rolling_n12m_users AS FLOAT) \n",
    "      else 0.0 end as sd_per_enrl_rate\n",
    "from wmvt_data"
   ]
  },
  {
   "cell_type": "code",
   "execution_count": 0,
   "metadata": {
    "application/vnd.databricks.v1+cell": {
     "cellMetadata": {
      "byteLimit": 2048000,
      "rowLimit": 10000
     },
     "inputWidgets": {},
     "nuid": "4475ccd9-54fd-4476-81e6-afe27b4332f9",
     "showTitle": false,
     "tableResultSettingsMap": {},
     "title": ""
    }
   },
   "outputs": [
    {
     "output_type": "display_data",
     "data": {
      "text/html": [
       "<style scoped>\n",
       "  .table-result-container {\n",
       "    max-height: 300px;\n",
       "    overflow: auto;\n",
       "  }\n",
       "  table, th, td {\n",
       "    border: 1px solid black;\n",
       "    border-collapse: collapse;\n",
       "  }\n",
       "  th, td {\n",
       "    padding: 5px;\n",
       "  }\n",
       "  th {\n",
       "    text-align: left;\n",
       "  }\n",
       "</style><div class='table-result-container'><table class='table-result'><thead style='background-color: white'><tr><th>num_affected_rows</th><th>num_inserted_rows</th></tr></thead><tbody></tbody></table></div>"
      ]
     },
     "metadata": {
      "application/vnd.databricks.v1+output": {
       "addedWidgets": {},
       "aggData": [],
       "aggError": "",
       "aggOverflow": false,
       "aggSchema": [],
       "aggSeriesLimitReached": false,
       "aggType": "",
       "arguments": {},
       "columnCustomDisplayInfos": {},
       "data": [],
       "datasetInfos": [
        {
         "name": "_sqldf",
         "schema": {
          "fields": [
           {
            "metadata": {},
            "name": "num_affected_rows",
            "nullable": true,
            "type": "long"
           },
           {
            "metadata": {},
            "name": "num_inserted_rows",
            "nullable": true,
            "type": "long"
           }
          ],
          "type": "struct"
         },
         "tableIdentifier": null,
         "typeStr": "pyspark.sql.connect.dataframe.DataFrame"
        }
       ],
       "dbfsResultPath": null,
       "isJsonSchema": true,
       "metadata": {
        "createTempViewForImplicitDf": true,
        "dataframeName": "_sqldf",
        "executionCount": 6
       },
       "overflow": false,
       "plotOptions": {
        "customPlotOptions": {},
        "displayType": "table",
        "pivotAggregation": null,
        "pivotColumns": null,
        "xColumns": null,
        "yColumns": null
       },
       "removedWidgets": [],
       "schema": [
        {
         "metadata": "{}",
         "name": "num_affected_rows",
         "type": "\"long\""
        },
        {
         "metadata": "{}",
         "name": "num_inserted_rows",
         "type": "\"long\""
        }
       ],
       "type": "table"
      }
     },
     "output_type": "display_data"
    }
   ],
   "source": [
    "drop table if exists dev.bi.s12n_prelaunch_data_model_input_view_wmvt_mgtf;\n",
    "create table dev.bi.s12n_prelaunch_data_model_input_view_wmvt_mgtf\n",
    "as\n",
    "select * from dev.bi.s12n_prelaunch_data_model_input_view_wmvt_mgtv;"
   ]
  },
  {
   "cell_type": "code",
   "execution_count": 0,
   "metadata": {
    "application/vnd.databricks.v1+cell": {
     "cellMetadata": {
      "byteLimit": 2048000,
      "rowLimit": 10000
     },
     "inputWidgets": {},
     "nuid": "16f5a033-37c0-4dea-abc5-cd63228f5ae9",
     "showTitle": false,
     "tableResultSettingsMap": {},
     "title": ""
    }
   },
   "outputs": [
    {
     "output_type": "display_data",
     "data": {
      "text/html": [
       "<style scoped>\n",
       "  .table-result-container {\n",
       "    max-height: 300px;\n",
       "    overflow: auto;\n",
       "  }\n",
       "  table, th, td {\n",
       "    border: 1px solid black;\n",
       "    border-collapse: collapse;\n",
       "  }\n",
       "  th, td {\n",
       "    padding: 5px;\n",
       "  }\n",
       "  th {\n",
       "    text-align: left;\n",
       "  }\n",
       "</style><div class='table-result-container'><table class='table-result'><thead style='background-color: white'><tr><th>yy</th><th>cnt</th><th>revenue</th></tr></thead><tbody><tr><td>2020</td><td>131</td><td>2.3544167427666046E7</td></tr><tr><td>2021</td><td>230</td><td>7.844845787525027E7</td></tr><tr><td>2022</td><td>211</td><td>3.2572246048969615E7</td></tr><tr><td>2023</td><td>289</td><td>7.452344635527813E7</td></tr><tr><td>2024</td><td>424</td><td>3.6634660718444094E7</td></tr><tr><td>2025</td><td>214</td><td>1.879054098233892E7</td></tr></tbody></table></div>"
      ]
     },
     "metadata": {
      "application/vnd.databricks.v1+output": {
       "addedWidgets": {},
       "aggData": [],
       "aggError": "",
       "aggOverflow": false,
       "aggSchema": [],
       "aggSeriesLimitReached": false,
       "aggType": "",
       "arguments": {},
       "columnCustomDisplayInfos": {},
       "data": [
        [
         2020,
         131,
         2.3544167427666046E7
        ],
        [
         2021,
         230,
         7.844845787525027E7
        ],
        [
         2022,
         211,
         3.2572246048969615E7
        ],
        [
         2023,
         289,
         7.452344635527813E7
        ],
        [
         2024,
         424,
         3.6634660718444094E7
        ],
        [
         2025,
         214,
         1.879054098233892E7
        ]
       ],
       "datasetInfos": [
        {
         "name": "_sqldf",
         "schema": {
          "fields": [
           {
            "metadata": {},
            "name": "yy",
            "nullable": true,
            "type": "integer"
           },
           {
            "metadata": {},
            "name": "cnt",
            "nullable": false,
            "type": "long"
           },
           {
            "metadata": {},
            "name": "revenue",
            "nullable": true,
            "type": "double"
           }
          ],
          "type": "struct"
         },
         "tableIdentifier": null,
         "typeStr": "pyspark.sql.connect.dataframe.DataFrame"
        }
       ],
       "dbfsResultPath": null,
       "isJsonSchema": true,
       "metadata": {
        "createTempViewForImplicitDf": true,
        "dataframeName": "_sqldf",
        "executionCount": 8
       },
       "overflow": false,
       "plotOptions": {
        "customPlotOptions": {},
        "displayType": "table",
        "pivotAggregation": null,
        "pivotColumns": null,
        "xColumns": null,
        "yColumns": null
       },
       "removedWidgets": [],
       "schema": [
        {
         "metadata": "{}",
         "name": "yy",
         "type": "\"integer\""
        },
        {
         "metadata": "{}",
         "name": "cnt",
         "type": "\"long\""
        },
        {
         "metadata": "{}",
         "name": "revenue",
         "type": "\"double\""
        }
       ],
       "type": "table"
      }
     },
     "output_type": "display_data"
    }
   ],
   "source": [
    "select year(launch_month) as yy,count(distinct base_phoenix_specialization_id) as cnt,sum(y1_b2c_revenue) as revenue\n",
    "--  from dev.bi.s12n_prelaunch_data_model_input_mgtf \n",
    " from dev.bi.s12n_prelaunch_data_model_input_view_wmvt_mgtf \n",
    " group by 1 order by 1\n"
   ]
  }
 ],
 "metadata": {
  "application/vnd.databricks.v1+notebook": {
   "computePreferences": null,
   "dashboards": [],
   "environmentMetadata": {
    "base_environment": "",
    "environment_version": "2"
   },
   "inputWidgetPreferences": null,
   "language": "sql",
   "notebookMetadata": {
    "pythonIndentUnit": 2
   },
   "notebookName": "B2C S12N MVT MG",
   "widgets": {}
  },
  "language_info": {
   "name": "sql"
  }
 },
 "nbformat": 4,
 "nbformat_minor": 0
}
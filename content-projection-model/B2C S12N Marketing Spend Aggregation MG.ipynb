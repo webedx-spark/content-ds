{
 "cells": [
  {
   "cell_type": "code",
   "execution_count": 0,
   "metadata": {
    "application/vnd.databricks.v1+cell": {
     "cellMetadata": {
      "byteLimit": 2048000,
      "rowLimit": 10000
     },
     "inputWidgets": {},
     "nuid": "b1f080a5-8852-4f66-9d7d-7d772e83adc4",
     "showTitle": false,
     "tableResultSettingsMap": {},
     "title": ""
    }
   },
   "outputs": [
    {
     "output_type": "display_data",
     "data": {
      "text/html": [
       "<style scoped>\n",
       "  .table-result-container {\n",
       "    max-height: 300px;\n",
       "    overflow: auto;\n",
       "  }\n",
       "  table, th, td {\n",
       "    border: 1px solid black;\n",
       "    border-collapse: collapse;\n",
       "  }\n",
       "  th, td {\n",
       "    padding: 5px;\n",
       "  }\n",
       "  th {\n",
       "    text-align: left;\n",
       "  }\n",
       "</style><div class='table-result-container'><table class='table-result'><thead style='background-color: white'><tr><th>num_affected_rows</th><th>num_inserted_rows</th></tr></thead><tbody></tbody></table></div>"
      ]
     },
     "metadata": {
      "application/vnd.databricks.v1+output": {
       "addedWidgets": {},
       "aggData": [],
       "aggError": "",
       "aggOverflow": false,
       "aggSchema": [],
       "aggSeriesLimitReached": false,
       "aggType": "",
       "arguments": {},
       "columnCustomDisplayInfos": {},
       "data": [],
       "datasetInfos": [
        {
         "name": "_sqldf",
         "schema": {
          "fields": [
           {
            "metadata": {},
            "name": "num_affected_rows",
            "nullable": true,
            "type": "long"
           },
           {
            "metadata": {},
            "name": "num_inserted_rows",
            "nullable": true,
            "type": "long"
           }
          ],
          "type": "struct"
         },
         "tableIdentifier": null,
         "typeStr": "pyspark.sql.connect.dataframe.DataFrame"
        }
       ],
       "dbfsResultPath": null,
       "isJsonSchema": true,
       "metadata": {
        "createTempViewForImplicitDf": true,
        "dataframeName": "_sqldf",
        "executionCount": 1
       },
       "overflow": false,
       "plotOptions": {
        "customPlotOptions": {},
        "displayType": "table",
        "pivotAggregation": null,
        "pivotColumns": null,
        "xColumns": null,
        "yColumns": null
       },
       "removedWidgets": [],
       "schema": [
        {
         "metadata": "{}",
         "name": "num_affected_rows",
         "type": "\"long\""
        },
        {
         "metadata": "{}",
         "name": "num_inserted_rows",
         "type": "\"long\""
        }
       ],
       "type": "table"
      }
     },
     "output_type": "display_data"
    }
   ],
   "source": [
    "-- Aggregate marketing spend to the base S12N, month level\n",
    "DROP TABLE IF EXISTS dev.bi.s12n_marketing_spend_aggregated_mgtv;\n",
    "CREATE TABLE dev.bi.s12n_marketing_spend_aggregated_mgtv AS\n",
    "(\n",
    "WITH marketing_spend AS\n",
    "(\n",
    "  SELECT \n",
    "      spend_month,\n",
    "      launch_month,\n",
    "      base_phoenix_specialization_id,\n",
    "      SUM(marketing_spend) AS marketing_spend\n",
    "  FROM \n",
    "      dev.bi.s12n_marketing_spend_mgtf\n",
    "  WHERE spend_month IS NOT NULL\n",
    "  GROUP BY 1, 2, 3\n",
    "),\n",
    "\n",
    "-- Join this with the date sequence table\n",
    "filled_marketing_data AS\n",
    "(\n",
    "SELECT \n",
    "    COALESCE(ms.spend_month, ds.date_month) AS date_month,\n",
    "    COALESCE(ms.launch_month, ds.start_month) AS launch_month,\n",
    "    COALESCE(ms.base_phoenix_specialization_id, ds.base_phoenix_specialization_id) AS base_phoenix_specialization_id,\n",
    "    COALESCE(ms.marketing_spend, 0) AS marketing_spend\n",
    "FROM \n",
    "    marketing_spend ms\n",
    "RIGHT JOIN\n",
    "    dev.bi.s12n_date_sequence_mgtv ds -- any marketing spend prior to launch is not captured. Reasonable to assume that marketing will not be done till launch?\n",
    "ON \n",
    "    ms.base_phoenix_specialization_id = ds.base_phoenix_specialization_id\n",
    "AND\n",
    "    ms.spend_month = ds.date_month\n",
    ")\n",
    "\n",
    "-- Add marketing spend aggregate from the current month to the next 11 months (12 months total)\n",
    "-- The n12m value when spend_month = launch_month is the Y1 marketing spend\n",
    "SELECT \n",
    "    date_month,\n",
    "    launch_month,\n",
    "    base_phoenix_specialization_id,\n",
    "    marketing_spend,\n",
    "    SUM(marketing_spend) OVER (PARTITION BY base_phoenix_specialization_id ORDER BY date_month\n",
    "                               ROWS BETWEEN CURRENT ROW AND 11 FOLLOWING) AS rolling_n12m_marketing_spend\n",
    "FROM \n",
    "filled_marketing_data\n",
    ")"
   ]
  },
  {
   "cell_type": "markdown",
   "metadata": {
    "application/vnd.databricks.v1+cell": {
     "cellMetadata": {
      "byteLimit": 2048000,
      "rowLimit": 10000
     },
     "inputWidgets": {},
     "nuid": "20a0f53b-4a62-422e-8a46-b13f9017aa16",
     "showTitle": false,
     "tableResultSettingsMap": {},
     "title": ""
    }
   },
   "source": [
    "# QA"
   ]
  },
  {
   "cell_type": "code",
   "execution_count": 0,
   "metadata": {
    "application/vnd.databricks.v1+cell": {
     "cellMetadata": {
      "byteLimit": 2048000,
      "rowLimit": 10000
     },
     "inputWidgets": {},
     "nuid": "385f043a-e326-4bdb-a9fc-9ee135187510",
     "showTitle": false,
     "tableResultSettingsMap": {},
     "title": ""
    }
   },
   "outputs": [
    {
     "output_type": "display_data",
     "data": {
      "text/html": [
       "<style scoped>\n",
       "  .table-result-container {\n",
       "    max-height: 300px;\n",
       "    overflow: auto;\n",
       "  }\n",
       "  table, th, td {\n",
       "    border: 1px solid black;\n",
       "    border-collapse: collapse;\n",
       "  }\n",
       "  th, td {\n",
       "    padding: 5px;\n",
       "  }\n",
       "  th {\n",
       "    text-align: left;\n",
       "  }\n",
       "</style><div class='table-result-container'><table class='table-result'><thead style='background-color: white'><tr><th>date_month</th><th>launch_month</th><th>base_phoenix_specialization_id</th><th>marketing_spend</th><th>rolling_n12m_marketing_spend</th></tr></thead><tbody><tr><td>2024-10-01</td><td>2024-10-01</td><td>--I-GVG8TjSxWxqmqcbomg</td><td>0.0</td><td>2095926.835742</td></tr><tr><td>2024-11-01</td><td>2024-10-01</td><td>--I-GVG8TjSxWxqmqcbomg</td><td>478121.2914879997</td><td>2095926.835742</td></tr><tr><td>2024-12-01</td><td>2024-10-01</td><td>--I-GVG8TjSxWxqmqcbomg</td><td>272359.0383360002</td><td>1617805.5442540003</td></tr><tr><td>2025-01-01</td><td>2024-10-01</td><td>--I-GVG8TjSxWxqmqcbomg</td><td>353109.68441599986</td><td>1345446.5059180001</td></tr><tr><td>2025-02-01</td><td>2024-10-01</td><td>--I-GVG8TjSxWxqmqcbomg</td><td>233018.38038400005</td><td>992336.8215020002</td></tr><tr><td>2025-03-01</td><td>2024-10-01</td><td>--I-GVG8TjSxWxqmqcbomg</td><td>284991.3334660001</td><td>759318.4411180002</td></tr><tr><td>2025-04-01</td><td>2024-10-01</td><td>--I-GVG8TjSxWxqmqcbomg</td><td>212579.90901999996</td><td>474327.10765200015</td></tr><tr><td>2025-05-01</td><td>2024-10-01</td><td>--I-GVG8TjSxWxqmqcbomg</td><td>261747.19863200016</td><td>261747.19863200016</td></tr><tr><td>2025-06-01</td><td>2024-10-01</td><td>--I-GVG8TjSxWxqmqcbomg</td><td>0.0</td><td>0.0</td></tr></tbody></table></div>"
      ]
     },
     "metadata": {
      "application/vnd.databricks.v1+output": {
       "addedWidgets": {},
       "aggData": [],
       "aggError": "",
       "aggOverflow": false,
       "aggSchema": [],
       "aggSeriesLimitReached": false,
       "aggType": "",
       "arguments": {},
       "columnCustomDisplayInfos": {},
       "data": [
        [
         "2024-10-01",
         "2024-10-01",
         "--I-GVG8TjSxWxqmqcbomg",
         0.0,
         2095926.835742
        ],
        [
         "2024-11-01",
         "2024-10-01",
         "--I-GVG8TjSxWxqmqcbomg",
         478121.2914879997,
         2095926.835742
        ],
        [
         "2024-12-01",
         "2024-10-01",
         "--I-GVG8TjSxWxqmqcbomg",
         272359.0383360002,
         1617805.5442540003
        ],
        [
         "2025-01-01",
         "2024-10-01",
         "--I-GVG8TjSxWxqmqcbomg",
         353109.68441599986,
         1345446.5059180001
        ],
        [
         "2025-02-01",
         "2024-10-01",
         "--I-GVG8TjSxWxqmqcbomg",
         233018.38038400005,
         992336.8215020002
        ],
        [
         "2025-03-01",
         "2024-10-01",
         "--I-GVG8TjSxWxqmqcbomg",
         284991.3334660001,
         759318.4411180002
        ],
        [
         "2025-04-01",
         "2024-10-01",
         "--I-GVG8TjSxWxqmqcbomg",
         212579.90901999996,
         474327.10765200015
        ],
        [
         "2025-05-01",
         "2024-10-01",
         "--I-GVG8TjSxWxqmqcbomg",
         261747.19863200016,
         261747.19863200016
        ],
        [
         "2025-06-01",
         "2024-10-01",
         "--I-GVG8TjSxWxqmqcbomg",
         0.0,
         0.0
        ]
       ],
       "datasetInfos": [
        {
         "name": "_sqldf",
         "schema": {
          "fields": [
           {
            "metadata": {},
            "name": "date_month",
            "nullable": true,
            "type": "date"
           },
           {
            "metadata": {},
            "name": "launch_month",
            "nullable": true,
            "type": "date"
           },
           {
            "metadata": {},
            "name": "base_phoenix_specialization_id",
            "nullable": true,
            "type": "string"
           },
           {
            "metadata": {},
            "name": "marketing_spend",
            "nullable": true,
            "type": "double"
           },
           {
            "metadata": {},
            "name": "rolling_n12m_marketing_spend",
            "nullable": true,
            "type": "double"
           }
          ],
          "type": "struct"
         },
         "tableIdentifier": null,
         "typeStr": "pyspark.sql.connect.dataframe.DataFrame"
        }
       ],
       "dbfsResultPath": null,
       "isJsonSchema": true,
       "metadata": {
        "createTempViewForImplicitDf": true,
        "dataframeName": "_sqldf",
        "executionCount": 3
       },
       "overflow": false,
       "plotOptions": {
        "customPlotOptions": {},
        "displayType": "table",
        "pivotAggregation": null,
        "pivotColumns": null,
        "xColumns": null,
        "yColumns": null
       },
       "removedWidgets": [],
       "schema": [
        {
         "metadata": "{}",
         "name": "date_month",
         "type": "\"date\""
        },
        {
         "metadata": "{}",
         "name": "launch_month",
         "type": "\"date\""
        },
        {
         "metadata": "{}",
         "name": "base_phoenix_specialization_id",
         "type": "\"string\""
        },
        {
         "metadata": "{}",
         "name": "marketing_spend",
         "type": "\"double\""
        },
        {
         "metadata": "{}",
         "name": "rolling_n12m_marketing_spend",
         "type": "\"double\""
        }
       ],
       "type": "table"
      }
     },
     "output_type": "display_data"
    }
   ],
   "source": [
    "-- select * from dev.bi.s12n_marketing_spend_aggregated_mgtv where base_phoenix_specialization_id = '--I-GVG8TjSxWxqmqcbomg'\n",
    "-- select * from dev.general.s12n_marketing_spend_aggregated where base_phoenix_specialization_id = '--I-GVG8TjSxWxqmqcbomg'"
   ]
  }
 ],
 "metadata": {
  "application/vnd.databricks.v1+notebook": {
   "computePreferences": null,
   "dashboards": [],
   "environmentMetadata": {
    "base_environment": "",
    "environment_version": "2"
   },
   "inputWidgetPreferences": null,
   "language": "sql",
   "notebookMetadata": {
    "pythonIndentUnit": 2
   },
   "notebookName": "B2C S12N Marketing Spend Aggregation MG",
   "widgets": {}
  },
  "language_info": {
   "name": "sql"
  }
 },
 "nbformat": 4,
 "nbformat_minor": 0
}
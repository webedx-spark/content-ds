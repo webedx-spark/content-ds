{
 "cells": [
  {
   "cell_type": "markdown",
   "metadata": {
    "application/vnd.databricks.v1+cell": {
     "cellMetadata": {
      "byteLimit": 2048000,
      "rowLimit": 10000
     },
     "inputWidgets": {},
     "nuid": "b10f056f-ea23-4f1e-b8a7-878475b1818b",
     "showTitle": false,
     "tableResultSettingsMap": {},
     "title": ""
    }
   },
   "source": [
    "# Content Info"
   ]
  },
  {
   "cell_type": "code",
   "execution_count": 0,
   "metadata": {
    "application/vnd.databricks.v1+cell": {
     "cellMetadata": {
      "byteLimit": 2048000,
      "rowLimit": 10000
     },
     "inputWidgets": {},
     "nuid": "514349fd-3164-4a8d-ab5e-9689ab114aeb",
     "showTitle": false,
     "tableResultSettingsMap": {},
     "title": ""
    }
   },
   "outputs": [
    {
     "output_type": "display_data",
     "data": {
      "text/html": [
       "<style scoped>\n",
       "  .table-result-container {\n",
       "    max-height: 300px;\n",
       "    overflow: auto;\n",
       "  }\n",
       "  table, th, td {\n",
       "    border: 1px solid black;\n",
       "    border-collapse: collapse;\n",
       "  }\n",
       "  th, td {\n",
       "    padding: 5px;\n",
       "  }\n",
       "  th {\n",
       "    text-align: left;\n",
       "  }\n",
       "</style><div class='table-result-container'><table class='table-result'><thead style='background-color: white'><tr></tr></thead><tbody></tbody></table></div>"
      ]
     },
     "metadata": {
      "application/vnd.databricks.v1+output": {
       "addedWidgets": {},
       "aggData": [],
       "aggError": "",
       "aggOverflow": false,
       "aggSchema": [],
       "aggSeriesLimitReached": false,
       "aggType": "",
       "arguments": {},
       "columnCustomDisplayInfos": {},
       "data": [],
       "datasetInfos": [],
       "dbfsResultPath": null,
       "isJsonSchema": true,
       "metadata": {},
       "overflow": false,
       "plotOptions": {
        "customPlotOptions": {},
        "displayType": "table",
        "pivotAggregation": null,
        "pivotColumns": null,
        "xColumns": null,
        "yColumns": null
       },
       "removedWidgets": [],
       "schema": [],
       "type": "table"
      }
     },
     "output_type": "display_data"
    }
   ],
   "source": [
    "%sql\n",
    "create or replace view dev.bi.content_info_view_mgtv AS\n",
    "WITH s12n_view AS (\n",
    "    SELECT \n",
    "        base_phoenix_specialization_id,\n",
    "        DATE(MIN(phoenix_specialization_display_page_launch_ts)) AS launch_date,\n",
    "        DATE(MAX(phoenix_specialization_display_page_launch_ts)) AS last_update_date,\n",
    "        MAX(phoenix_specialization_version) - 1 AS ttl_updates,\n",
    "        MAX(phoenix_specialization_difficulty_level) AS phoenix_specialization_difficulty_level\n",
    "    FROM prod.gold.phoenix_specializations_vw\n",
    "    WHERE is_test_specialization = FALSE\n",
    "    GROUP BY 1\n",
    ")\n",
    "SELECT  \n",
    "        base_phoenix_specialization_id,\n",
    "        launch_date,\n",
    "        last_update_date,\n",
    "        ttl_updates,\n",
    "        case when phoenix_specialization_difficulty_level = 'BEGINNER' then 0\n",
    "            when phoenix_specialization_difficulty_level = 'INTERMEDIATE' then 1\n",
    "            when phoenix_specialization_difficulty_level = 'ADVANCED' then 2\n",
    "            else 0 end as difficulty_level,\n",
    "        DATE_DIFF(MONTH, launch_date, CURRENT_DATE) AS launch_diff_months,\n",
    "        DATE_DIFF(MONTH, last_update_date, CURRENT_DATE) AS last_update_diff_months\n",
    "FROM s12n_view;\n"
   ]
  }
 ],
 "metadata": {
  "application/vnd.databricks.v1+notebook": {
   "computePreferences": null,
   "dashboards": [],
   "environmentMetadata": {
    "base_environment": "",
    "environment_version": "2"
   },
   "inputWidgetPreferences": null,
   "language": "sql",
   "notebookMetadata": {
    "pythonIndentUnit": 2
   },
   "notebookName": "B2C S12N Content Info MG",
   "widgets": {}
  },
  "language_info": {
   "name": "sql"
  }
 },
 "nbformat": 4,
 "nbformat_minor": 0
}